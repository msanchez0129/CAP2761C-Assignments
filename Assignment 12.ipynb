{
    "metadata": {
        "kernelspec": {
            "name": "SQL",
            "display_name": "SQL",
            "language": "sql"
        },
        "language_info": {
            "name": "sql",
            "version": ""
        }
    },
    "nbformat_minor": 2,
    "nbformat": 4,
    "cells": [
        {
            "cell_type": "markdown",
            "source": [
                "# Assignment 12"
            ],
            "metadata": {
                "azdata_cell_guid": "6b09a1da-3c37-413c-9a7e-44d6f06c421f"
            },
            "attachments": {}
        },
        {
            "cell_type": "markdown",
            "source": [
                "# Chapter 7.1 - Compute an Average\r\n",
                "## **Question 1. (screenshot: query and result)**\r\n",
                "## Use table Sales.SalesOrderHeader to find the average freight per year"
            ],
            "metadata": {
                "azdata_cell_guid": "30c457cd-0798-42a3-b394-80e7e23787a7"
            },
            "attachments": {}
        },
        {
            "cell_type": "code",
            "source": [
                "SELECT YEAR(OrderDate) As Year,\r\n",
                "       AVG(Freight) AS AvgFreight\r\n",
                "FROM AdventureWorks2022.Sales.SalesOrderHeader\r\n",
                "GROUP BY Year(OrderDate);\r\n",
                ""
            ],
            "metadata": {
                "azdata_cell_guid": "71b01301-b34c-4c49-b821-c3ee21004f8f",
                "language": "sql"
            },
            "outputs": [
                {
                    "output_type": "display_data",
                    "data": {
                        "text/html": "(4 rows affected)"
                    },
                    "metadata": {}
                },
                {
                    "output_type": "display_data",
                    "data": {
                        "text/html": "Total execution time: 00:00:00.032"
                    },
                    "metadata": {}
                },
                {
                    "output_type": "execute_result",
                    "execution_count": 4,
                    "data": {
                        "application/vnd.dataresource+json": {
                            "schema": {
                                "fields": [
                                    {
                                        "name": "Year"
                                    },
                                    {
                                        "name": "AvgFreight"
                                    }
                                ]
                            },
                            "data": [
                                {
                                    "Year": "2013",
                                    "AvgFreight": "89.7081"
                                },
                                {
                                    "Year": "2014",
                                    "AvgFreight": "47.8087"
                                },
                                {
                                    "Year": "2011",
                                    "AvgFreight": "224.3203"
                                },
                                {
                                    "Year": "2012",
                                    "AvgFreight": "252.4721"
                                }
                            ]
                        },
                        "text/html": "<table><tr><th>Year</th><th>AvgFreight</th></tr><tr><td>2013</td><td>89.7081</td></tr><tr><td>2014</td><td>47.8087</td></tr><tr><td>2011</td><td>224.3203</td></tr><tr><td>2012</td><td>252.4721</td></tr></table>"
                    },
                    "metadata": {}
                }
            ],
            "execution_count": 4
        },
        {
            "cell_type": "markdown",
            "source": [
                "## **Question 2. (screenshot: query and result) - Order by year the Question 1 result.**"
            ],
            "metadata": {
                "azdata_cell_guid": "2f2a852b-3ece-43bb-a676-b0ba2399b6de"
            },
            "attachments": {}
        },
        {
            "cell_type": "code",
            "source": [
                "SELECT YEAR(OrderDate) As Year,\r\n",
                "       AVG(Freight) AS AvgFreight\r\n",
                "FROM AdventureWorks2022.Sales.SalesOrderHeader\r\n",
                "GROUP BY Year(OrderDate)\r\n",
                "ORDER BY Year;"
            ],
            "metadata": {
                "azdata_cell_guid": "11aa0864-94c6-40ea-9185-b77fdd93ed03",
                "language": "sql"
            },
            "outputs": [
                {
                    "output_type": "display_data",
                    "data": {
                        "text/html": "(4 rows affected)"
                    },
                    "metadata": {}
                },
                {
                    "output_type": "display_data",
                    "data": {
                        "text/html": "Total execution time: 00:00:00.021"
                    },
                    "metadata": {}
                },
                {
                    "output_type": "execute_result",
                    "execution_count": 5,
                    "data": {
                        "application/vnd.dataresource+json": {
                            "schema": {
                                "fields": [
                                    {
                                        "name": "Year"
                                    },
                                    {
                                        "name": "AvgFreight"
                                    }
                                ]
                            },
                            "data": [
                                {
                                    "Year": "2011",
                                    "AvgFreight": "224.3203"
                                },
                                {
                                    "Year": "2012",
                                    "AvgFreight": "252.4721"
                                },
                                {
                                    "Year": "2013",
                                    "AvgFreight": "89.7081"
                                },
                                {
                                    "Year": "2014",
                                    "AvgFreight": "47.8087"
                                }
                            ]
                        },
                        "text/html": "<table><tr><th>Year</th><th>AvgFreight</th></tr><tr><td>2011</td><td>224.3203</td></tr><tr><td>2012</td><td>252.4721</td></tr><tr><td>2013</td><td>89.7081</td></tr><tr><td>2014</td><td>47.8087</td></tr></table>"
                    },
                    "metadata": {}
                }
            ],
            "execution_count": 5
        },
        {
            "cell_type": "markdown",
            "source": [
                "## **Question 3. (explanation) - Is the average freight generally increasing or decreasing?**\r\n",
                "## The average freight has generally decreased over the years. Going from an average of 224.3 in 2011 to 47.8 in 2014"
            ],
            "metadata": {
                "azdata_cell_guid": "b5c0fdb9-dfa7-4bea-aec9-be4da09b0f09"
            },
            "attachments": {}
        },
        {
            "cell_type": "markdown",
            "source": [
                "# 7.2 Count Rows in a Group\r\n",
                "## **Question 4. (explanation) - What is the difference between COUNT and COUNT_BIG? Explain**"
            ],
            "metadata": {
                "azdata_cell_guid": "1e891024-3c3b-457d-8312-c7c0a0ac8ce2"
            },
            "attachments": {}
        },
        {
            "cell_type": "markdown",
            "source": [
                "## The main distinction between COUNT\\_BIG and COUNT is that the latter uses an integer to determine the total number of rows, which is typically adequate for most tables. COUNT\\_BIG, on the other hand, handles really huge tables that can surpass the bounds of an integer by using a bigint, a data type that can store considerably larger values. For tables with many rows, COUNT\\_BIG is the best option."
            ],
            "metadata": {
                "azdata_cell_guid": "a4b202a5-b38d-486a-90af-2844aa02267d"
            },
            "attachments": {}
        },
        {
            "cell_type": "markdown",
            "source": [
                "# 7.3 Sum Values in a Group\r\n",
                "## **Question 5. (screenshot: query and result)**\r\n",
                "## - Use the SUM function to add up a the TaxAmt of the Sales.SalesOrderHeader"
            ],
            "metadata": {
                "azdata_cell_guid": "e561eeaa-af92-4ee0-a6ef-e41d60056a83"
            },
            "attachments": {}
        },
        {
            "cell_type": "code",
            "source": [
                "SELECT SUM(TaxAmt) AS TotalTaxAmount\r\n",
                "FROM AdventureWorks2022.Sales.SalesOrderHeader;"
            ],
            "metadata": {
                "azdata_cell_guid": "2ebd66f0-117b-4877-8d1f-94b765422944",
                "language": "sql"
            },
            "outputs": [
                {
                    "output_type": "display_data",
                    "data": {
                        "text/html": "(1 row affected)"
                    },
                    "metadata": {}
                },
                {
                    "output_type": "display_data",
                    "data": {
                        "text/html": "Total execution time: 00:00:48.043"
                    },
                    "metadata": {}
                },
                {
                    "output_type": "execute_result",
                    "execution_count": 1,
                    "data": {
                        "application/vnd.dataresource+json": {
                            "schema": {
                                "fields": [
                                    {
                                        "name": "TotalTaxAmount"
                                    }
                                ]
                            },
                            "data": [
                                {
                                    "TotalTaxAmount": "10186974.4602"
                                }
                            ]
                        },
                        "text/html": "<table><tr><th>TotalTaxAmount</th></tr><tr><td>10186974.4602</td></tr></table>"
                    },
                    "metadata": {}
                }
            ],
            "execution_count": 1
        },
        {
            "cell_type": "markdown",
            "source": [
                "## **Question 6. (screenshot: query and result)**\r\n",
                "## - Return only results for the year 2012, grouped and ordered by month."
            ],
            "metadata": {
                "azdata_cell_guid": "755b6701-2f07-49e0-b237-c5a641f193cf"
            },
            "attachments": {}
        },
        {
            "cell_type": "code",
            "source": [
                "SELECT YEAR(OrderDate) AS Year,\r\n",
                "       MONTH(OrderDate) AS Month,\r\n",
                "       SUM(TaxAmt) AS TotalTaxAmount\r\n",
                "FROM AdventureWorks2022.Sales.SalesOrderHeader\r\n",
                "WHERE \r\n",
                "    YEAR(OrderDate) = 2012\r\n",
                "GROUP BY \r\n",
                "    YEAR(OrderDate),\r\n",
                "    MONTH(OrderDate)\r\n",
                "ORDER BY Month;"
            ],
            "metadata": {
                "azdata_cell_guid": "1dd89501-15e7-4ab9-ac27-5b58679c9c41",
                "language": "sql"
            },
            "outputs": [
                {
                    "output_type": "display_data",
                    "data": {
                        "text/html": "(12 rows affected)"
                    },
                    "metadata": {}
                },
                {
                    "output_type": "display_data",
                    "data": {
                        "text/html": "Total execution time: 00:00:00.028"
                    },
                    "metadata": {}
                },
                {
                    "output_type": "execute_result",
                    "execution_count": 2,
                    "data": {
                        "application/vnd.dataresource+json": {
                            "schema": {
                                "fields": [
                                    {
                                        "name": "Year"
                                    },
                                    {
                                        "name": "Month"
                                    },
                                    {
                                        "name": "TotalTaxAmount"
                                    }
                                ]
                            },
                            "data": [
                                {
                                    "Year": "2012",
                                    "Month": "1",
                                    "TotalTaxAmount": "371588.69"
                                },
                                {
                                    "Year": "2012",
                                    "Month": "2",
                                    "TotalTaxAmount": "132285.70"
                                },
                                {
                                    "Year": "2012",
                                    "Month": "3",
                                    "TotalTaxAmount": "274742.2648"
                                },
                                {
                                    "Year": "2012",
                                    "Month": "4",
                                    "TotalTaxAmount": "180817.2923"
                                },
                                {
                                    "Year": "2012",
                                    "Month": "5",
                                    "TotalTaxAmount": "288245.0511"
                                },
                                {
                                    "Year": "2012",
                                    "Month": "6",
                                    "TotalTaxAmount": "389556.4568"
                                },
                                {
                                    "Year": "2012",
                                    "Month": "7",
                                    "TotalTaxAmount": "321735.2997"
                                },
                                {
                                    "Year": "2012",
                                    "Month": "8",
                                    "TotalTaxAmount": "203286.8258"
                                },
                                {
                                    "Year": "2012",
                                    "Month": "9",
                                    "TotalTaxAmount": "325769.325"
                                },
                                {
                                    "Year": "2012",
                                    "Month": "10",
                                    "TotalTaxAmount": "239214.5416"
                                },
                                {
                                    "Year": "2012",
                                    "Month": "11",
                                    "TotalTaxAmount": "171010.3965"
                                },
                                {
                                    "Year": "2012",
                                    "Month": "12",
                                    "TotalTaxAmount": "264718.7376"
                                }
                            ]
                        },
                        "text/html": "<table><tr><th>Year</th><th>Month</th><th>TotalTaxAmount</th></tr><tr><td>2012</td><td>1</td><td>371588.69</td></tr><tr><td>2012</td><td>2</td><td>132285.70</td></tr><tr><td>2012</td><td>3</td><td>274742.2648</td></tr><tr><td>2012</td><td>4</td><td>180817.2923</td></tr><tr><td>2012</td><td>5</td><td>288245.0511</td></tr><tr><td>2012</td><td>6</td><td>389556.4568</td></tr><tr><td>2012</td><td>7</td><td>321735.2997</td></tr><tr><td>2012</td><td>8</td><td>203286.8258</td></tr><tr><td>2012</td><td>9</td><td>325769.325</td></tr><tr><td>2012</td><td>10</td><td>239214.5416</td></tr><tr><td>2012</td><td>11</td><td>171010.3965</td></tr><tr><td>2012</td><td>12</td><td>264718.7376</td></tr></table>"
                    },
                    "metadata": {}
                }
            ],
            "execution_count": 2
        },
        {
            "cell_type": "markdown",
            "source": [
                "# 7.4 Find High and Low Values in a Group\r\n",
                "## **Question 7. (screenshot: query and result) - Find the Min TaxRate from the table Sales.SalesTaxRate.**"
            ],
            "metadata": {
                "azdata_cell_guid": "8a992f9a-3694-46a4-96b2-b3f83c1db84e"
            },
            "attachments": {}
        },
        {
            "cell_type": "code",
            "source": [
                "SELECT MIN(TaxRate) AS MinimumTaxRate\r\n",
                "FROM AdventureWorks2022.Sales.SalesTaxRate;"
            ],
            "metadata": {
                "azdata_cell_guid": "096f265d-8c60-43fb-b9ad-997611944fa3",
                "language": "sql"
            },
            "outputs": [
                {
                    "output_type": "display_data",
                    "data": {
                        "text/html": "(1 row affected)"
                    },
                    "metadata": {}
                },
                {
                    "output_type": "display_data",
                    "data": {
                        "text/html": "Total execution time: 00:00:00.016"
                    },
                    "metadata": {}
                },
                {
                    "output_type": "execute_result",
                    "execution_count": 3,
                    "data": {
                        "application/vnd.dataresource+json": {
                            "schema": {
                                "fields": [
                                    {
                                        "name": "MinimumTaxRate"
                                    }
                                ]
                            },
                            "data": [
                                {
                                    "MinimumTaxRate": "5.00"
                                }
                            ]
                        },
                        "text/html": "<table><tr><th>MinimumTaxRate</th></tr><tr><td>5.00</td></tr></table>"
                    },
                    "metadata": {}
                }
            ],
            "execution_count": 3
        },
        {
            "cell_type": "markdown",
            "source": [
                "## **Question 8. (screenshot: query and result) - Find the Max TaxRate from the table Sales.SalesTaxRate**"
            ],
            "metadata": {
                "azdata_cell_guid": "191b83aa-2e6b-4bb7-b386-7ad738bcf5db"
            },
            "attachments": {}
        },
        {
            "cell_type": "code",
            "source": [
                "SELECT MAX(TaxRate) AS MaximumTaxRate\r\n",
                "FROM AdventureWorks2022.Sales.SalesTaxRate;"
            ],
            "metadata": {
                "azdata_cell_guid": "6d8db8e9-f493-46c1-a9e8-65123911d09b",
                "language": "sql"
            },
            "outputs": [
                {
                    "output_type": "display_data",
                    "data": {
                        "text/html": "(1 row affected)"
                    },
                    "metadata": {}
                },
                {
                    "output_type": "display_data",
                    "data": {
                        "text/html": "Total execution time: 00:00:00.004"
                    },
                    "metadata": {}
                },
                {
                    "output_type": "execute_result",
                    "execution_count": 4,
                    "data": {
                        "application/vnd.dataresource+json": {
                            "schema": {
                                "fields": [
                                    {
                                        "name": "MaximumTaxRate"
                                    }
                                ]
                            },
                            "data": [
                                {
                                    "MaximumTaxRate": "19.60"
                                }
                            ]
                        },
                        "text/html": "<table><tr><th>MaximumTaxRate</th></tr><tr><td>19.60</td></tr></table>"
                    },
                    "metadata": {}
                }
            ],
            "execution_count": 4
        },
        {
            "cell_type": "markdown",
            "source": [
                "# 7.6 Find Variance of Values in a Column\r\n",
                "## **Question 9. (screenshot: query and result)**\r\n",
                "## - Find the Variance of the TaxRate from the table Sales.SalesTaxRate"
            ],
            "metadata": {
                "azdata_cell_guid": "61591a6b-d841-41fd-8a49-22b5f560febb"
            },
            "attachments": {}
        },
        {
            "cell_type": "code",
            "source": [
                "SELECT VAR(TaxRate) AS VarianceTaxRate\r\n",
                "FROM AdventureWorks2022.Sales.SalesTaxRate;"
            ],
            "metadata": {
                "azdata_cell_guid": "45f81e11-b2a3-4e5a-a1eb-2a3084a9b45d",
                "language": "sql"
            },
            "outputs": [
                {
                    "output_type": "display_data",
                    "data": {
                        "text/html": "(1 row affected)"
                    },
                    "metadata": {}
                },
                {
                    "output_type": "display_data",
                    "data": {
                        "text/html": "Total execution time: 00:00:00.019"
                    },
                    "metadata": {}
                },
                {
                    "output_type": "execute_result",
                    "execution_count": 5,
                    "data": {
                        "application/vnd.dataresource+json": {
                            "schema": {
                                "fields": [
                                    {
                                        "name": "VarianceTaxRate"
                                    }
                                ]
                            },
                            "data": [
                                {
                                    "VarianceTaxRate": "14.235548029556671"
                                }
                            ]
                        },
                        "text/html": "<table><tr><th>VarianceTaxRate</th></tr><tr><td>14.235548029556671</td></tr></table>"
                    },
                    "metadata": {}
                }
            ],
            "execution_count": 5
        },
        {
            "cell_type": "markdown",
            "source": [
                "# 7.7 Find Std Dev of Values in a Column\r\n",
                "## **Question 10. (screenshot: query and result)**\r\n",
                "## - Find the StandardDeviation of the TaxRate from the table Sales.SalesTaxRate.\r\n",
                ""
            ],
            "metadata": {
                "azdata_cell_guid": "3ea580e1-0cdf-4dd5-84ba-5a769e9aa93e"
            },
            "attachments": {}
        },
        {
            "cell_type": "code",
            "source": [
                "SELECT STDEV(TaxRate) AS StandardDeviationTaxRate\r\n",
                "FROM AdventureWorks2022.Sales.SalesTaxRate;"
            ],
            "metadata": {
                "azdata_cell_guid": "0fa9ff1e-c283-483f-ad1c-97165eb299dc",
                "language": "sql"
            },
            "outputs": [
                {
                    "output_type": "display_data",
                    "data": {
                        "text/html": "(1 row affected)"
                    },
                    "metadata": {}
                },
                {
                    "output_type": "display_data",
                    "data": {
                        "text/html": "Total execution time: 00:00:00.006"
                    },
                    "metadata": {}
                },
                {
                    "output_type": "execute_result",
                    "execution_count": 6,
                    "data": {
                        "application/vnd.dataresource+json": {
                            "schema": {
                                "fields": [
                                    {
                                        "name": "StandardDeviationTaxRate"
                                    }
                                ]
                            },
                            "data": [
                                {
                                    "StandardDeviationTaxRate": "3.7730025218062964"
                                }
                            ]
                        },
                        "text/html": "<table><tr><th>StandardDeviationTaxRate</th></tr><tr><td>3.7730025218062964</td></tr></table>"
                    },
                    "metadata": {}
                }
            ],
            "execution_count": 6
        }
    ]
}