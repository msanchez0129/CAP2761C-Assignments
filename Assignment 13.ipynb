{
    "metadata": {
        "kernelspec": {
            "name": "SQL",
            "display_name": "SQL",
            "language": "sql"
        },
        "language_info": {
            "name": "sql",
            "version": ""
        }
    },
    "nbformat_minor": 2,
    "nbformat": 4,
    "cells": [
        {
            "cell_type": "markdown",
            "source": [
                "# Assignment 13"
            ],
            "metadata": {
                "azdata_cell_guid": "fc266741-039f-43a5-b176-f705ad5e6c0c"
            },
            "attachments": {}
        },
        {
            "cell_type": "markdown",
            "source": [
                "# **Question 1. (3 parts)**\r\n",
                "Note: Table 9-1 in the book is a useful summary of string functions.\r\n",
                "# 9.1 Concatenate Multiple Strings (CONCAT) \r\n",
                "## **1a. (screenshot: query and result)**\r\n",
                "## Frequently used to recombine data that is stored in separate parts in the database, such as name parts or address parts. Also useful in general for many purposes. Use table person.address to CONCAT the columns for AddressLine1, City and PostalCode as Address. Limit the results to where city is Miami. Format the results to have comma and space between the parts, and add FL between the city and postal code in your concatenation."
            ],
            "metadata": {
                "azdata_cell_guid": "fb9e31b8-0114-4b72-9822-21485f42393e"
            },
            "attachments": {}
        },
        {
            "cell_type": "markdown",
            "source": [
                "# 9.2 ASCII Values 1b. (explanation)\r\n",
                "## What does the ASCII function do?\r\n",
                "## What does the CHAR function do?\r\n",
                "## What are possible reasons for needing to use these functions? (Hint 9.2"
            ],
            "metadata": {
                "azdata_cell_guid": "fd3876a0-e902-49f7-96be-c3eb2b1d79c0"
            },
            "attachments": {}
        },
        {
            "cell_type": "markdown",
            "source": [
                "# 9.3 Integer and Unicode Values 1c. (explanation)\r\n",
                "## What does the UNICODE function do?\r\n",
                "## What does the NCHAR function do?\r\n",
                "## What are possible reasons for needing to use these functions? (Hint 9.3)"
            ],
            "metadata": {
                "azdata_cell_guid": "85222906-cf74-4e8e-9ac0-c65df532f35e"
            },
            "attachments": {}
        },
        {
            "cell_type": "markdown",
            "source": [
                "# **Question 2. (2 parts)**\r\n",
                "# 9.4 Locate a Substring \r\n",
                "## **2a. (screenshot: query and result)**\r\n",
                "## Use the table Person.Address to locate the string ‘Ave’ in AddressLine1 for cities in Miami."
            ],
            "metadata": {
                "azdata_cell_guid": "3f1cf850-2fdc-42ae-963d-4a3bba3f979d"
            },
            "attachments": {}
        },
        {
            "cell_type": "markdown",
            "source": [
                "# 9.5 Similarity of Strings (based on English phonetic rules) \r\n",
                "## **2b. (screenshot: query and result)**\r\n",
                "## Use the Person.Address table. Based on the example using both SOUNDEX and DIFFERENCE. Get the DISTINCT SOUNDEX for city, the SOUNDEX for ‘Auburn’, the DIFFERENCE between city and ‘Auburn’, and the City column WHERE the DIFFERENCE between City and ‘Auburn’ is 3.\r\n",
                ""
            ],
            "metadata": {
                "azdata_cell_guid": "d28452ed-36e4-4111-9077-702a3335c6a3"
            },
            "attachments": {}
        },
        {
            "cell_type": "markdown",
            "source": [
                "# 9.6 Left-Most (or Right-Most) Portion of a String \r\n",
                "## **Question 3. (screenshot: query and result)** \r\n",
                "## You want to return only the first part of the product number. Use Production.Product table. Get the Product number, and in another column, get only the Left most 2 characters of the product number.\r\n",
                ""
            ],
            "metadata": {
                "azdata_cell_guid": "fd4dafde-cc33-48fd-a704-184e1ae88020"
            },
            "attachments": {}
        },
        {
            "cell_type": "markdown",
            "source": [
                "# 9.7 Returning Part of a String (SUBSTRING) \n",
                "## **Question 4. (explanation)**\n",
                "## What is the SYNTAX for using the SUBSTRING function?\n",
                ""
            ],
            "metadata": {
                "azdata_cell_guid": "c479cea4-7af3-409b-a336-127cc4637ff6"
            },
            "attachments": {}
        },
        {
            "cell_type": "markdown",
            "source": [
                "# 9.8 Counting Characters or Bytes in a String \r\n",
                "## **Question 5. (screenshot: query and result)** \r\n",
                "## Use table Production.ProductReview. Find the number of characters in the comments column.\r\n",
                ""
            ],
            "metadata": {
                "azdata_cell_guid": "13539ad8-ecbb-4501-8510-62a7e5c96320"
            },
            "attachments": {}
        },
        {
            "cell_type": "markdown",
            "source": [
                "# 9.9 Replacing Part of a String \n",
                "## **Question 6. (screenshot: query and result)** \n",
                "## Use the table Production.UnitMeasure, column Name. We want to replace all occurrences of the word ‘centimeter’ with the abbreviation ‘cm’ in our results."
            ],
            "metadata": {
                "azdata_cell_guid": "a73b1ede-2bd7-4cd2-82dd-89e6eb91ef4b"
            },
            "attachments": {}
        },
        {
            "cell_type": "markdown",
            "source": [
                "# 9.10 Inserting a string, into another string. \r\n",
                "## **Question 7. (explanation)** \r\n",
                "## What function is used to insert a string into another string?\r\n",
                "## What is the syntax we would use?"
            ],
            "metadata": {
                "azdata_cell_guid": "dde09872-2c87-4df3-aeb8-70bd8910ca16"
            },
            "attachments": {}
        },
        {
            "cell_type": "markdown",
            "source": [
                "# 9.11 Changing Character Case (UPPER and LOWER) \r\n",
                "## **Question 8. (screenshot: query and result)**\r\n",
                "## Use the table Production.ScrapReason, column Name. Select the Name, the Name in all uppercase as Caps, and the Name in lowercase as Lower. You should have 3 columns in the results. Name, Caps, and Lower.\r\n",
                ""
            ],
            "metadata": {
                "azdata_cell_guid": "3f8c793f-2672-4908-a82b-a42d8183171f"
            },
            "attachments": {}
        },
        {
            "cell_type": "markdown",
            "source": [
                "# **Question 9. (3 parts)** \r\n",
                "# 9.12 Removing Leading and Trailing Blanks \r\n",
                "## **9a. (explanation)** \r\n",
                "## What two functions can we use to trim leading and trailing blanks from a string?\r\n",
                "# 9.13 Repeat an Expression N Times \r\n",
                "## **9b. (explanation)**\r\n",
                "## What does the following query do?\r\n",
                "## SELECT REPLICATE('SQL ', 10)\r\n",
                ""
            ],
            "metadata": {
                "azdata_cell_guid": "6a279325-60ef-4d19-a2d7-b7f9ef23e299"
            },
            "attachments": {}
        },
        {
            "cell_type": "markdown",
            "source": [
                "# 9.14 Repeat a Blank Space N Times \n",
                "## **9c. (screenshot: query and result)**\n",
                "## Use Person.Address table. CONCAT the City and PostalCode columns with 20  Spaces between City and PostalCode.  Limit the results to where the City is Lakewood."
            ],
            "metadata": {
                "azdata_cell_guid": "ba60b9bf-914a-4b7e-8a20-a7e8da95e3d4"
            },
            "attachments": {}
        },
        {
            "cell_type": "markdown",
            "source": [
                "# 9.15 Reverse Order of Characters in a String \n",
                "## **Question 10. (screenshot: query and result)**\n",
                "## Use HumanResources.Employee table, LoginID column. Use the method in example 9.15 to separate the Path adventure-works\\ from the Employee.You will be using several functions to achieve this including LEFT, RIGHT, LEN, CHARINDEX and REVERSE.\n",
                ""
            ],
            "metadata": {
                "azdata_cell_guid": "64c62a52-2368-4c8e-a362-8ab0564f574d"
            },
            "attachments": {}
        }
    ]
}