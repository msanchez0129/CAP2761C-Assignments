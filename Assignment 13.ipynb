{
    "metadata": {
        "kernelspec": {
            "name": "SQL",
            "display_name": "SQL",
            "language": "sql"
        },
        "language_info": {
            "name": "sql",
            "version": ""
        }
    },
    "nbformat_minor": 2,
    "nbformat": 4,
    "cells": [
        {
            "cell_type": "markdown",
            "source": [
                "# Assignment 13"
            ],
            "metadata": {
                "azdata_cell_guid": "fc266741-039f-43a5-b176-f705ad5e6c0c"
            },
            "attachments": {}
        },
        {
            "cell_type": "markdown",
            "source": [
                "# Chapter 9\n",
                "# 9.1 Concatenate Multiple Strings (CONCAT) \r\n",
                "## **Question 1. (3 parts)**\r\n",
                "Note: Table 9-1 in the book is a useful summary of string functions.\r\n",
                "## **1a. (screenshot: query and result)**\r\n",
                "## Frequently used to recombine data that is stored in separate parts in the database, such as name parts or address parts. Also useful in general for many purposes. Use table person.address to CONCAT the columns for AddressLine1, City and PostalCode as Address. Limit the results to where city is Miami. Format the results to have comma and space between the parts, and add FL between the city and postal code in your concatenation."
            ],
            "metadata": {
                "azdata_cell_guid": "fb9e31b8-0114-4b72-9822-21485f42393e"
            },
            "attachments": {}
        },
        {
            "cell_type": "code",
            "source": [
                "SELECT Address = CONCAT(AddressLine1, ', ', City, ', FL, ', PostalCode)\r\n",
                "FROM AdventureWorks2022.person.address\r\n",
                "WHERE City = 'Miami';\r\n",
                ""
            ],
            "metadata": {
                "azdata_cell_guid": "2a36b466-0d38-4bf5-8572-0adf65857ee7",
                "language": "sql"
            },
            "outputs": [
                {
                    "output_type": "display_data",
                    "data": {
                        "text/html": "(10 rows affected)"
                    },
                    "metadata": {}
                },
                {
                    "output_type": "display_data",
                    "data": {
                        "text/html": "Total execution time: 00:00:00.074"
                    },
                    "metadata": {}
                },
                {
                    "output_type": "execute_result",
                    "metadata": {},
                    "execution_count": 2,
                    "data": {
                        "application/vnd.dataresource+json": {
                            "schema": {
                                "fields": [
                                    {
                                        "name": "Address"
                                    }
                                ]
                            },
                            "data": [
                                {
                                    "Address": "1 Corporate Center Drive, Miami, FL, 33127"
                                },
                                {
                                    "Address": "20500 S.W. 2512th Ave, Miami, FL, 33127"
                                },
                                {
                                    "Address": "2545 N.W. 107th Ave., Miami, FL, 33127"
                                },
                                {
                                    "Address": "2561 Nw 8410th Avenue, Miami, FL, 33127"
                                },
                                {
                                    "Address": "79945 Corporate Center Drive, Miami, FL, 33127"
                                },
                                {
                                    "Address": "825 Coral Way, Miami, FL, 33127"
                                },
                                {
                                    "Address": "83995 South Dixie Highway, Miami, FL, 33127"
                                },
                                {
                                    "Address": "8525 Nw 17th St., Miami, FL, 33127"
                                },
                                {
                                    "Address": "Dadeland Mall, Space 25090, Miami, FL, 33127"
                                },
                                {
                                    "Address": "Flagler Park Plaza, Miami, FL, 33127"
                                }
                            ]
                        },
                        "text/html": [
                            "<table>",
                            "<tr><th>Address</th></tr>",
                            "<tr><td>1 Corporate Center Drive, Miami, FL, 33127</td></tr>",
                            "<tr><td>20500 S.W. 2512th Ave, Miami, FL, 33127</td></tr>",
                            "<tr><td>2545 N.W. 107th Ave., Miami, FL, 33127</td></tr>",
                            "<tr><td>2561 Nw 8410th Avenue, Miami, FL, 33127</td></tr>",
                            "<tr><td>79945 Corporate Center Drive, Miami, FL, 33127</td></tr>",
                            "<tr><td>825 Coral Way, Miami, FL, 33127</td></tr>",
                            "<tr><td>83995 South Dixie Highway, Miami, FL, 33127</td></tr>",
                            "<tr><td>8525 Nw 17th St., Miami, FL, 33127</td></tr>",
                            "<tr><td>Dadeland Mall, Space 25090, Miami, FL, 33127</td></tr>",
                            "<tr><td>Flagler Park Plaza, Miami, FL, 33127</td></tr>",
                            "</table>"
                        ]
                    }
                }
            ],
            "execution_count": 2
        },
        {
            "cell_type": "markdown",
            "source": [
                "# 9.2 ASCII Values 1b. (explanation)\n",
                "\n",
                "## <u>What does the ASCII function do?</u>\n",
                "## The ASCII function returns the ASCII code integer value of a specific character. ASCII('A') would return 65, the ASCII code for the letter 'A'.\n",
                "\n",
                "## <u>What does the CHAR function do?</u>\n",
                "## The CHAR function returns the appropriate character when given an ASCII code value. 'A' would be returned by CHAR(65), translating the ASCII code 65 back to the letter 'A'.\n",
                "\n",
                "## <u>What are possible reasons for needing to use these functions? (Hint 9.2)</u>\n",
                "## These functions come in handy when you need to work with character codes, like checking what code a letter has or converting a code back into its corresponding character."
            ],
            "metadata": {
                "azdata_cell_guid": "fd3876a0-e902-49f7-96be-c3eb2b1d79c0"
            },
            "attachments": {}
        },
        {
            "cell_type": "markdown",
            "source": [
                "# 9.3 Integer and Unicode Values 1c. (explanation)\n",
                "\n",
                "## <u>What does the UNICODE function do?</u>\n",
                "## The UNICODE function returns the Unicode code point value of a specified character. `UNICODE('H')` returns `72`, the Unicode code point for the letter 'H'.  \n",
                "\n",
                "## <u>What does the NCHAR function do?</u>\n",
                "## A Unicode code point is transformed into the matching character using SQL's NCHAR function. The Unicode code point 72 would so be converted back into the character \"H\" via NCHAR(72), returning \"H.\"\n",
                "\n",
                "## <u>What are possible reasons for needing to use these functions? (Hint 9.3)</u>\n",
                "## It's useful for working with international text or when you need to ensure your database can handle different languages and symbols beyond basic Latin characters."
            ],
            "metadata": {
                "azdata_cell_guid": "85222906-cf74-4e8e-9ac0-c65df532f35e"
            },
            "attachments": {}
        },
        {
            "cell_type": "markdown",
            "source": [
                "# 9.4 Locate a Substring \r\n",
                "## **Question 2. (2 parts)**\r\n",
                "## **2a. (screenshot: query and result)**\r\n",
                "## Use the table Person.Address to locate the string ‘Ave’ in AddressLine1 for cities in Miami."
            ],
            "metadata": {
                "azdata_cell_guid": "3f1cf850-2fdc-42ae-963d-4a3bba3f979d"
            },
            "attachments": {}
        },
        {
            "cell_type": "code",
            "source": [
                "SELECT AddressLine1,\r\n",
                "       CHARINDEX('Ave', AddressLine1)\r\n",
                "FROM AdventureWorks2022.Person.Address\r\n",
                "WHERE City = 'Miami' AND \r\n",
                "      CHARINDEX('Ave', AddressLine1) > 0"
            ],
            "metadata": {
                "azdata_cell_guid": "74a03d8e-b933-4efc-ab48-701ee4f11a32",
                "language": "sql"
            },
            "outputs": [
                {
                    "output_type": "display_data",
                    "data": {
                        "text/html": "(3 rows affected)"
                    },
                    "metadata": {}
                },
                {
                    "output_type": "display_data",
                    "data": {
                        "text/html": "Total execution time: 00:00:00.028"
                    },
                    "metadata": {}
                },
                {
                    "output_type": "execute_result",
                    "metadata": {},
                    "execution_count": 4,
                    "data": {
                        "application/vnd.dataresource+json": {
                            "schema": {
                                "fields": [
                                    {
                                        "name": "AddressLine1"
                                    },
                                    {
                                        "name": "(No column name)"
                                    }
                                ]
                            },
                            "data": [
                                {
                                    "AddressLine1": "20500 S.W. 2512th Ave",
                                    "(No column name)": "19"
                                },
                                {
                                    "AddressLine1": "2545 N.W. 107th Ave.",
                                    "(No column name)": "17"
                                },
                                {
                                    "AddressLine1": "2561 Nw 8410th Avenue",
                                    "(No column name)": "16"
                                }
                            ]
                        },
                        "text/html": [
                            "<table>",
                            "<tr><th>AddressLine1</th><th>(No column name)</th></tr>",
                            "<tr><td>20500 S.W. 2512th Ave</td><td>19</td></tr>",
                            "<tr><td>2545 N.W. 107th Ave.</td><td>17</td></tr>",
                            "<tr><td>2561 Nw 8410th Avenue</td><td>16</td></tr>",
                            "</table>"
                        ]
                    }
                }
            ],
            "execution_count": 4
        },
        {
            "cell_type": "markdown",
            "source": [
                "# 9.5 Similarity of Strings (based on English phonetic rules) \r\n",
                "## **2b. (screenshot: query and result)**\r\n",
                "## Use the Person.Address table. Based on the example using both SOUNDEX and DIFFERENCE. Get the DISTINCT SOUNDEX for city, the SOUNDEX for ‘Auburn’, the DIFFERENCE between city and ‘Auburn’, and the City column WHERE the DIFFERENCE between City and ‘Auburn’ is 3.\r\n",
                ""
            ],
            "metadata": {
                "azdata_cell_guid": "d28452ed-36e4-4111-9077-702a3335c6a3"
            },
            "attachments": {}
        },
        {
            "cell_type": "code",
            "source": [
                "SELECT DISTINCT SOUNDEX(City) AS CitySoundex,\r\n",
                "                SOUNDEX('Auburn') AS AuburnSoundex,\r\n",
                "                DIFFERENCE(City, 'Auburn') AS DifferenceScore,\r\n",
                "                City\r\n",
                "FROM AdventureWorks2022.Person.Address\r\n",
                "WHERE DIFFERENCE(City, 'Auburn') = 3;"
            ],
            "metadata": {
                "azdata_cell_guid": "f121c9ea-3f7d-40c8-bfec-c08874fa2296",
                "language": "sql"
            },
            "outputs": [
                {
                    "output_type": "display_data",
                    "data": {
                        "text/html": "(10 rows affected)"
                    },
                    "metadata": {}
                },
                {
                    "output_type": "display_data",
                    "data": {
                        "text/html": "Total execution time: 00:00:00.028"
                    },
                    "metadata": {}
                },
                {
                    "output_type": "execute_result",
                    "metadata": {},
                    "execution_count": 5,
                    "data": {
                        "application/vnd.dataresource+json": {
                            "schema": {
                                "fields": [
                                    {
                                        "name": "CitySoundex"
                                    },
                                    {
                                        "name": "AuburnSoundex"
                                    },
                                    {
                                        "name": "DifferenceScore"
                                    },
                                    {
                                        "name": "City"
                                    }
                                ]
                            },
                            "data": [
                                {
                                    "CitySoundex": "A152",
                                    "AuburnSoundex": "A165",
                                    "DifferenceScore": "3",
                                    "City": "Abingdon"
                                },
                                {
                                    "CitySoundex": "A216",
                                    "AuburnSoundex": "A165",
                                    "DifferenceScore": "3",
                                    "City": "Augsburg"
                                },
                                {
                                    "CitySoundex": "A415",
                                    "AuburnSoundex": "A165",
                                    "DifferenceScore": "3",
                                    "City": "Albany"
                                },
                                {
                                    "CitySoundex": "A415",
                                    "AuburnSoundex": "A165",
                                    "DifferenceScore": "3",
                                    "City": "Alpine"
                                },
                                {
                                    "CitySoundex": "A645",
                                    "AuburnSoundex": "A165",
                                    "DifferenceScore": "3",
                                    "City": "Arlington"
                                },
                                {
                                    "CitySoundex": "A660",
                                    "AuburnSoundex": "A165",
                                    "DifferenceScore": "3",
                                    "City": "Aurora"
                                },
                                {
                                    "CitySoundex": "S165",
                                    "AuburnSoundex": "A165",
                                    "DifferenceScore": "3",
                                    "City": "Spring Valley"
                                },
                                {
                                    "CitySoundex": "S165",
                                    "AuburnSoundex": "A165",
                                    "DifferenceScore": "3",
                                    "City": "Springdale"
                                },
                                {
                                    "CitySoundex": "S165",
                                    "AuburnSoundex": "A165",
                                    "DifferenceScore": "3",
                                    "City": "Springfield"
                                },
                                {
                                    "CitySoundex": "S165",
                                    "AuburnSoundex": "A165",
                                    "DifferenceScore": "3",
                                    "City": "Springwood"
                                }
                            ]
                        },
                        "text/html": [
                            "<table>",
                            "<tr><th>CitySoundex</th><th>AuburnSoundex</th><th>DifferenceScore</th><th>City</th></tr>",
                            "<tr><td>A152</td><td>A165</td><td>3</td><td>Abingdon</td></tr>",
                            "<tr><td>A216</td><td>A165</td><td>3</td><td>Augsburg</td></tr>",
                            "<tr><td>A415</td><td>A165</td><td>3</td><td>Albany</td></tr>",
                            "<tr><td>A415</td><td>A165</td><td>3</td><td>Alpine</td></tr>",
                            "<tr><td>A645</td><td>A165</td><td>3</td><td>Arlington</td></tr>",
                            "<tr><td>A660</td><td>A165</td><td>3</td><td>Aurora</td></tr>",
                            "<tr><td>S165</td><td>A165</td><td>3</td><td>Spring Valley</td></tr>",
                            "<tr><td>S165</td><td>A165</td><td>3</td><td>Springdale</td></tr>",
                            "<tr><td>S165</td><td>A165</td><td>3</td><td>Springfield</td></tr>",
                            "<tr><td>S165</td><td>A165</td><td>3</td><td>Springwood</td></tr>",
                            "</table>"
                        ]
                    }
                }
            ],
            "execution_count": 5
        },
        {
            "cell_type": "markdown",
            "source": [
                "# 9.6 Left-Most (or Right-Most) Portion of a String \r\n",
                "## **Question 3. (screenshot: query and result)** \r\n",
                "## You want to return only the first part of the product number. Use Production.Product table. Get the Product number, and in another column, get only the Left most 2 characters of the product number.\r\n",
                ""
            ],
            "metadata": {
                "azdata_cell_guid": "fd4dafde-cc33-48fd-a704-184e1ae88020"
            },
            "attachments": {}
        },
        {
            "cell_type": "code",
            "source": [
                "SELECT ProductNumber,\r\n",
                "       LeftMost = LEFT(ProductNumber, 2)\r\n",
                "FROM AdventureWorks2022.Production.Product;\r\n",
                ""
            ],
            "metadata": {
                "azdata_cell_guid": "78117dfa-24ea-4ab9-b436-b912e408e128",
                "language": "sql"
            },
            "outputs": [
                {
                    "output_type": "display_data",
                    "data": {
                        "text/html": "(504 rows affected)"
                    },
                    "metadata": {}
                },
                {
                    "output_type": "display_data",
                    "data": {
                        "text/html": "Total execution time: 00:00:00.028"
                    },
                    "metadata": {}
                },
                {
                    "output_type": "execute_result",
                    "metadata": {},
                    "execution_count": 6,
                    "data": {
                        "application/vnd.dataresource+json": {
                            "schema": {
                                "fields": [
                                    {
                                        "name": "ProductNumber"
                                    },
                                    {
                                        "name": "LeftMost"
                                    }
                                ]
                            },
                            "data": [
                                {
                                    "ProductNumber": "AR-5381",
                                    "LeftMost": "AR"
                                },
                                {
                                    "ProductNumber": "BA-8327",
                                    "LeftMost": "BA"
                                },
                                {
                                    "ProductNumber": "BB-7421",
                                    "LeftMost": "BB"
                                },
                                {
                                    "ProductNumber": "BB-8107",
                                    "LeftMost": "BB"
                                },
                                {
                                    "ProductNumber": "BB-9108",
                                    "LeftMost": "BB"
                                },
                                {
                                    "ProductNumber": "BC-M005",
                                    "LeftMost": "BC"
                                },
                                {
                                    "ProductNumber": "BC-R205",
                                    "LeftMost": "BC"
                                },
                                {
                                    "ProductNumber": "BE-2349",
                                    "LeftMost": "BE"
                                },
                                {
                                    "ProductNumber": "BE-2908",
                                    "LeftMost": "BE"
                                },
                                {
                                    "ProductNumber": "BK-M18B-40",
                                    "LeftMost": "BK"
                                },
                                {
                                    "ProductNumber": "BK-M18B-42",
                                    "LeftMost": "BK"
                                },
                                {
                                    "ProductNumber": "BK-M18B-44",
                                    "LeftMost": "BK"
                                },
                                {
                                    "ProductNumber": "BK-M18B-48",
                                    "LeftMost": "BK"
                                },
                                {
                                    "ProductNumber": "BK-M18B-52",
                                    "LeftMost": "BK"
                                },
                                {
                                    "ProductNumber": "BK-M18S-40",
                                    "LeftMost": "BK"
                                },
                                {
                                    "ProductNumber": "BK-M18S-42",
                                    "LeftMost": "BK"
                                },
                                {
                                    "ProductNumber": "BK-M18S-44",
                                    "LeftMost": "BK"
                                },
                                {
                                    "ProductNumber": "BK-M18S-48",
                                    "LeftMost": "BK"
                                },
                                {
                                    "ProductNumber": "BK-M18S-52",
                                    "LeftMost": "BK"
                                },
                                {
                                    "ProductNumber": "BK-M38S-38",
                                    "LeftMost": "BK"
                                },
                                {
                                    "ProductNumber": "BK-M38S-40",
                                    "LeftMost": "BK"
                                },
                                {
                                    "ProductNumber": "BK-M38S-42",
                                    "LeftMost": "BK"
                                },
                                {
                                    "ProductNumber": "BK-M38S-46",
                                    "LeftMost": "BK"
                                },
                                {
                                    "ProductNumber": "BK-M47B-38",
                                    "LeftMost": "BK"
                                },
                                {
                                    "ProductNumber": "BK-M47B-40",
                                    "LeftMost": "BK"
                                },
                                {
                                    "ProductNumber": "BK-M47B-44",
                                    "LeftMost": "BK"
                                },
                                {
                                    "ProductNumber": "BK-M47B-48",
                                    "LeftMost": "BK"
                                },
                                {
                                    "ProductNumber": "BK-M68B-38",
                                    "LeftMost": "BK"
                                },
                                {
                                    "ProductNumber": "BK-M68B-42",
                                    "LeftMost": "BK"
                                },
                                {
                                    "ProductNumber": "BK-M68B-46",
                                    "LeftMost": "BK"
                                },
                                {
                                    "ProductNumber": "BK-M68S-38",
                                    "LeftMost": "BK"
                                },
                                {
                                    "ProductNumber": "BK-M68S-42",
                                    "LeftMost": "BK"
                                },
                                {
                                    "ProductNumber": "BK-M68S-46",
                                    "LeftMost": "BK"
                                },
                                {
                                    "ProductNumber": "BK-M82B-38",
                                    "LeftMost": "BK"
                                },
                                {
                                    "ProductNumber": "BK-M82B-42",
                                    "LeftMost": "BK"
                                },
                                {
                                    "ProductNumber": "BK-M82B-44",
                                    "LeftMost": "BK"
                                },
                                {
                                    "ProductNumber": "BK-M82B-48",
                                    "LeftMost": "BK"
                                },
                                {
                                    "ProductNumber": "BK-M82S-38",
                                    "LeftMost": "BK"
                                },
                                {
                                    "ProductNumber": "BK-M82S-42",
                                    "LeftMost": "BK"
                                },
                                {
                                    "ProductNumber": "BK-M82S-44",
                                    "LeftMost": "BK"
                                },
                                {
                                    "ProductNumber": "BK-M82S-48",
                                    "LeftMost": "BK"
                                },
                                {
                                    "ProductNumber": "BK-R19B-44",
                                    "LeftMost": "BK"
                                },
                                {
                                    "ProductNumber": "BK-R19B-48",
                                    "LeftMost": "BK"
                                },
                                {
                                    "ProductNumber": "BK-R19B-52",
                                    "LeftMost": "BK"
                                },
                                {
                                    "ProductNumber": "BK-R19B-58",
                                    "LeftMost": "BK"
                                },
                                {
                                    "ProductNumber": "BK-R50B-44",
                                    "LeftMost": "BK"
                                },
                                {
                                    "ProductNumber": "BK-R50B-48",
                                    "LeftMost": "BK"
                                },
                                {
                                    "ProductNumber": "BK-R50B-52",
                                    "LeftMost": "BK"
                                },
                                {
                                    "ProductNumber": "BK-R50B-58",
                                    "LeftMost": "BK"
                                },
                                {
                                    "ProductNumber": "BK-R50B-60",
                                    "LeftMost": "BK"
                                },
                                {
                                    "ProductNumber": "BK-R50B-62",
                                    "LeftMost": "BK"
                                },
                                {
                                    "ProductNumber": "BK-R50R-44",
                                    "LeftMost": "BK"
                                },
                                {
                                    "ProductNumber": "BK-R50R-48",
                                    "LeftMost": "BK"
                                },
                                {
                                    "ProductNumber": "BK-R50R-52",
                                    "LeftMost": "BK"
                                },
                                {
                                    "ProductNumber": "BK-R50R-58",
                                    "LeftMost": "BK"
                                },
                                {
                                    "ProductNumber": "BK-R50R-60",
                                    "LeftMost": "BK"
                                },
                                {
                                    "ProductNumber": "BK-R50R-62",
                                    "LeftMost": "BK"
                                },
                                {
                                    "ProductNumber": "BK-R64Y-38",
                                    "LeftMost": "BK"
                                },
                                {
                                    "ProductNumber": "BK-R64Y-40",
                                    "LeftMost": "BK"
                                },
                                {
                                    "ProductNumber": "BK-R64Y-42",
                                    "LeftMost": "BK"
                                },
                                {
                                    "ProductNumber": "BK-R64Y-44",
                                    "LeftMost": "BK"
                                },
                                {
                                    "ProductNumber": "BK-R64Y-48",
                                    "LeftMost": "BK"
                                },
                                {
                                    "ProductNumber": "BK-R68R-44",
                                    "LeftMost": "BK"
                                },
                                {
                                    "ProductNumber": "BK-R68R-48",
                                    "LeftMost": "BK"
                                },
                                {
                                    "ProductNumber": "BK-R68R-52",
                                    "LeftMost": "BK"
                                },
                                {
                                    "ProductNumber": "BK-R68R-58",
                                    "LeftMost": "BK"
                                },
                                {
                                    "ProductNumber": "BK-R68R-60",
                                    "LeftMost": "BK"
                                },
                                {
                                    "ProductNumber": "BK-R79Y-40",
                                    "LeftMost": "BK"
                                },
                                {
                                    "ProductNumber": "BK-R79Y-42",
                                    "LeftMost": "BK"
                                },
                                {
                                    "ProductNumber": "BK-R79Y-44",
                                    "LeftMost": "BK"
                                },
                                {
                                    "ProductNumber": "BK-R79Y-48",
                                    "LeftMost": "BK"
                                },
                                {
                                    "ProductNumber": "BK-R89B-44",
                                    "LeftMost": "BK"
                                },
                                {
                                    "ProductNumber": "BK-R89B-48",
                                    "LeftMost": "BK"
                                },
                                {
                                    "ProductNumber": "BK-R89B-52",
                                    "LeftMost": "BK"
                                },
                                {
                                    "ProductNumber": "BK-R89B-58",
                                    "LeftMost": "BK"
                                },
                                {
                                    "ProductNumber": "BK-R89R-44",
                                    "LeftMost": "BK"
                                },
                                {
                                    "ProductNumber": "BK-R89R-48",
                                    "LeftMost": "BK"
                                },
                                {
                                    "ProductNumber": "BK-R89R-52",
                                    "LeftMost": "BK"
                                },
                                {
                                    "ProductNumber": "BK-R89R-58",
                                    "LeftMost": "BK"
                                },
                                {
                                    "ProductNumber": "BK-R93R-44",
                                    "LeftMost": "BK"
                                },
                                {
                                    "ProductNumber": "BK-R93R-48",
                                    "LeftMost": "BK"
                                },
                                {
                                    "ProductNumber": "BK-R93R-52",
                                    "LeftMost": "BK"
                                },
                                {
                                    "ProductNumber": "BK-R93R-56",
                                    "LeftMost": "BK"
                                },
                                {
                                    "ProductNumber": "BK-R93R-62",
                                    "LeftMost": "BK"
                                },
                                {
                                    "ProductNumber": "BK-T18U-44",
                                    "LeftMost": "BK"
                                },
                                {
                                    "ProductNumber": "BK-T18U-50",
                                    "LeftMost": "BK"
                                },
                                {
                                    "ProductNumber": "BK-T18U-54",
                                    "LeftMost": "BK"
                                },
                                {
                                    "ProductNumber": "BK-T18U-58",
                                    "LeftMost": "BK"
                                },
                                {
                                    "ProductNumber": "BK-T18U-62",
                                    "LeftMost": "BK"
                                },
                                {
                                    "ProductNumber": "BK-T18Y-44",
                                    "LeftMost": "BK"
                                },
                                {
                                    "ProductNumber": "BK-T18Y-50",
                                    "LeftMost": "BK"
                                },
                                {
                                    "ProductNumber": "BK-T18Y-54",
                                    "LeftMost": "BK"
                                },
                                {
                                    "ProductNumber": "BK-T18Y-58",
                                    "LeftMost": "BK"
                                },
                                {
                                    "ProductNumber": "BK-T18Y-62",
                                    "LeftMost": "BK"
                                },
                                {
                                    "ProductNumber": "BK-T44U-46",
                                    "LeftMost": "BK"
                                },
                                {
                                    "ProductNumber": "BK-T44U-50",
                                    "LeftMost": "BK"
                                },
                                {
                                    "ProductNumber": "BK-T44U-54",
                                    "LeftMost": "BK"
                                },
                                {
                                    "ProductNumber": "BK-T44U-60",
                                    "LeftMost": "BK"
                                },
                                {
                                    "ProductNumber": "BK-T79U-46",
                                    "LeftMost": "BK"
                                },
                                {
                                    "ProductNumber": "BK-T79U-50",
                                    "LeftMost": "BK"
                                },
                                {
                                    "ProductNumber": "BK-T79U-54",
                                    "LeftMost": "BK"
                                },
                                {
                                    "ProductNumber": "BK-T79U-60",
                                    "LeftMost": "BK"
                                },
                                {
                                    "ProductNumber": "BK-T79Y-46",
                                    "LeftMost": "BK"
                                },
                                {
                                    "ProductNumber": "BK-T79Y-50",
                                    "LeftMost": "BK"
                                },
                                {
                                    "ProductNumber": "BK-T79Y-54",
                                    "LeftMost": "BK"
                                },
                                {
                                    "ProductNumber": "BK-T79Y-60",
                                    "LeftMost": "BK"
                                },
                                {
                                    "ProductNumber": "BL-2036",
                                    "LeftMost": "BL"
                                },
                                {
                                    "ProductNumber": "CA-1098",
                                    "LeftMost": "CA"
                                },
                                {
                                    "ProductNumber": "CA-5965",
                                    "LeftMost": "CA"
                                },
                                {
                                    "ProductNumber": "CA-6738",
                                    "LeftMost": "CA"
                                },
                                {
                                    "ProductNumber": "CA-7457",
                                    "LeftMost": "CA"
                                },
                                {
                                    "ProductNumber": "CB-2903",
                                    "LeftMost": "CB"
                                },
                                {
                                    "ProductNumber": "CH-0234",
                                    "LeftMost": "CH"
                                },
                                {
                                    "ProductNumber": "CL-9009",
                                    "LeftMost": "CL"
                                },
                                {
                                    "ProductNumber": "CN-6137",
                                    "LeftMost": "CN"
                                },
                                {
                                    "ProductNumber": "CR-7833",
                                    "LeftMost": "CR"
                                },
                                {
                                    "ProductNumber": "CR-9981",
                                    "LeftMost": "CR"
                                },
                                {
                                    "ProductNumber": "CS-2812",
                                    "LeftMost": "CS"
                                },
                                {
                                    "ProductNumber": "CS-4759",
                                    "LeftMost": "CS"
                                },
                                {
                                    "ProductNumber": "CS-6583",
                                    "LeftMost": "CS"
                                },
                                {
                                    "ProductNumber": "CS-9183",
                                    "LeftMost": "CS"
                                },
                                {
                                    "ProductNumber": "DC-8732",
                                    "LeftMost": "DC"
                                },
                                {
                                    "ProductNumber": "DC-9824",
                                    "LeftMost": "DC"
                                },
                                {
                                    "ProductNumber": "DT-2377",
                                    "LeftMost": "DT"
                                },
                                {
                                    "ProductNumber": "EC-M092",
                                    "LeftMost": "EC"
                                },
                                {
                                    "ProductNumber": "EC-R098",
                                    "LeftMost": "EC"
                                },
                                {
                                    "ProductNumber": "EC-T209",
                                    "LeftMost": "EC"
                                },
                                {
                                    "ProductNumber": "FB-9873",
                                    "LeftMost": "FB"
                                },
                                {
                                    "ProductNumber": "FC-3654",
                                    "LeftMost": "FC"
                                },
                                {
                                    "ProductNumber": "FC-3982",
                                    "LeftMost": "FC"
                                },
                                {
                                    "ProductNumber": "FD-2342",
                                    "LeftMost": "FD"
                                },
                                {
                                    "ProductNumber": "FE-3760",
                                    "LeftMost": "FE"
                                },
                                {
                                    "ProductNumber": "FE-6654",
                                    "LeftMost": "FE"
                                },
                                {
                                    "ProductNumber": "FH-2981",
                                    "LeftMost": "FH"
                                },
                                {
                                    "ProductNumber": "FK-1639",
                                    "LeftMost": "FK"
                                },
                                {
                                    "ProductNumber": "FK-5136",
                                    "LeftMost": "FK"
                                },
                                {
                                    "ProductNumber": "FK-9939",
                                    "LeftMost": "FK"
                                },
                                {
                                    "ProductNumber": "FL-2301",
                                    "LeftMost": "FL"
                                },
                                {
                                    "ProductNumber": "FR-M21B-40",
                                    "LeftMost": "FR"
                                },
                                {
                                    "ProductNumber": "FR-M21B-42",
                                    "LeftMost": "FR"
                                },
                                {
                                    "ProductNumber": "FR-M21B-44",
                                    "LeftMost": "FR"
                                },
                                {
                                    "ProductNumber": "FR-M21B-48",
                                    "LeftMost": "FR"
                                },
                                {
                                    "ProductNumber": "FR-M21B-52",
                                    "LeftMost": "FR"
                                },
                                {
                                    "ProductNumber": "FR-M21S-40",
                                    "LeftMost": "FR"
                                },
                                {
                                    "ProductNumber": "FR-M21S-42",
                                    "LeftMost": "FR"
                                },
                                {
                                    "ProductNumber": "FR-M21S-44",
                                    "LeftMost": "FR"
                                },
                                {
                                    "ProductNumber": "FR-M21S-48",
                                    "LeftMost": "FR"
                                },
                                {
                                    "ProductNumber": "FR-M21S-52",
                                    "LeftMost": "FR"
                                },
                                {
                                    "ProductNumber": "FR-M63B-38",
                                    "LeftMost": "FR"
                                },
                                {
                                    "ProductNumber": "FR-M63B-40",
                                    "LeftMost": "FR"
                                },
                                {
                                    "ProductNumber": "FR-M63B-44",
                                    "LeftMost": "FR"
                                },
                                {
                                    "ProductNumber": "FR-M63B-48",
                                    "LeftMost": "FR"
                                },
                                {
                                    "ProductNumber": "FR-M63S-38",
                                    "LeftMost": "FR"
                                },
                                {
                                    "ProductNumber": "FR-M63S-40",
                                    "LeftMost": "FR"
                                },
                                {
                                    "ProductNumber": "FR-M63S-42",
                                    "LeftMost": "FR"
                                },
                                {
                                    "ProductNumber": "FR-M63S-46",
                                    "LeftMost": "FR"
                                },
                                {
                                    "ProductNumber": "FR-M94B-38",
                                    "LeftMost": "FR"
                                },
                                {
                                    "ProductNumber": "FR-M94B-42",
                                    "LeftMost": "FR"
                                },
                                {
                                    "ProductNumber": "FR-M94B-44",
                                    "LeftMost": "FR"
                                },
                                {
                                    "ProductNumber": "FR-M94B-46",
                                    "LeftMost": "FR"
                                },
                                {
                                    "ProductNumber": "FR-M94B-48",
                                    "LeftMost": "FR"
                                },
                                {
                                    "ProductNumber": "FR-M94S-38",
                                    "LeftMost": "FR"
                                },
                                {
                                    "ProductNumber": "FR-M94S-42",
                                    "LeftMost": "FR"
                                },
                                {
                                    "ProductNumber": "FR-M94S-44",
                                    "LeftMost": "FR"
                                },
                                {
                                    "ProductNumber": "FR-M94S-46",
                                    "LeftMost": "FR"
                                },
                                {
                                    "ProductNumber": "FR-M94S-52",
                                    "LeftMost": "FR"
                                },
                                {
                                    "ProductNumber": "FR-R38B-44",
                                    "LeftMost": "FR"
                                },
                                {
                                    "ProductNumber": "FR-R38B-48",
                                    "LeftMost": "FR"
                                },
                                {
                                    "ProductNumber": "FR-R38B-52",
                                    "LeftMost": "FR"
                                },
                                {
                                    "ProductNumber": "FR-R38B-58",
                                    "LeftMost": "FR"
                                },
                                {
                                    "ProductNumber": "FR-R38B-60",
                                    "LeftMost": "FR"
                                },
                                {
                                    "ProductNumber": "FR-R38B-62",
                                    "LeftMost": "FR"
                                },
                                {
                                    "ProductNumber": "FR-R38R-44",
                                    "LeftMost": "FR"
                                },
                                {
                                    "ProductNumber": "FR-R38R-48",
                                    "LeftMost": "FR"
                                },
                                {
                                    "ProductNumber": "FR-R38R-52",
                                    "LeftMost": "FR"
                                },
                                {
                                    "ProductNumber": "FR-R38R-58",
                                    "LeftMost": "FR"
                                },
                                {
                                    "ProductNumber": "FR-R38R-60",
                                    "LeftMost": "FR"
                                },
                                {
                                    "ProductNumber": "FR-R38R-62",
                                    "LeftMost": "FR"
                                },
                                {
                                    "ProductNumber": "FR-R72R-44",
                                    "LeftMost": "FR"
                                },
                                {
                                    "ProductNumber": "FR-R72R-48",
                                    "LeftMost": "FR"
                                },
                                {
                                    "ProductNumber": "FR-R72R-52",
                                    "LeftMost": "FR"
                                },
                                {
                                    "ProductNumber": "FR-R72R-58",
                                    "LeftMost": "FR"
                                },
                                {
                                    "ProductNumber": "FR-R72R-60",
                                    "LeftMost": "FR"
                                },
                                {
                                    "ProductNumber": "FR-R72Y-38",
                                    "LeftMost": "FR"
                                },
                                {
                                    "ProductNumber": "FR-R72Y-40",
                                    "LeftMost": "FR"
                                },
                                {
                                    "ProductNumber": "FR-R72Y-42",
                                    "LeftMost": "FR"
                                },
                                {
                                    "ProductNumber": "FR-R72Y-44",
                                    "LeftMost": "FR"
                                },
                                {
                                    "ProductNumber": "FR-R72Y-48",
                                    "LeftMost": "FR"
                                },
                                {
                                    "ProductNumber": "FR-R92B-44",
                                    "LeftMost": "FR"
                                },
                                {
                                    "ProductNumber": "FR-R92B-48",
                                    "LeftMost": "FR"
                                },
                                {
                                    "ProductNumber": "FR-R92B-52",
                                    "LeftMost": "FR"
                                },
                                {
                                    "ProductNumber": "FR-R92B-58",
                                    "LeftMost": "FR"
                                },
                                {
                                    "ProductNumber": "FR-R92B-62",
                                    "LeftMost": "FR"
                                },
                                {
                                    "ProductNumber": "FR-R92R-44",
                                    "LeftMost": "FR"
                                },
                                {
                                    "ProductNumber": "FR-R92R-48",
                                    "LeftMost": "FR"
                                },
                                {
                                    "ProductNumber": "FR-R92R-52",
                                    "LeftMost": "FR"
                                },
                                {
                                    "ProductNumber": "FR-R92R-56",
                                    "LeftMost": "FR"
                                },
                                {
                                    "ProductNumber": "FR-R92R-58",
                                    "LeftMost": "FR"
                                },
                                {
                                    "ProductNumber": "FR-R92R-62",
                                    "LeftMost": "FR"
                                },
                                {
                                    "ProductNumber": "FR-T67U-44",
                                    "LeftMost": "FR"
                                },
                                {
                                    "ProductNumber": "FR-T67U-50",
                                    "LeftMost": "FR"
                                },
                                {
                                    "ProductNumber": "FR-T67U-54",
                                    "LeftMost": "FR"
                                },
                                {
                                    "ProductNumber": "FR-T67U-58",
                                    "LeftMost": "FR"
                                },
                                {
                                    "ProductNumber": "FR-T67U-62",
                                    "LeftMost": "FR"
                                },
                                {
                                    "ProductNumber": "FR-T67Y-44",
                                    "LeftMost": "FR"
                                },
                                {
                                    "ProductNumber": "FR-T67Y-50",
                                    "LeftMost": "FR"
                                },
                                {
                                    "ProductNumber": "FR-T67Y-54",
                                    "LeftMost": "FR"
                                },
                                {
                                    "ProductNumber": "FR-T67Y-58",
                                    "LeftMost": "FR"
                                },
                                {
                                    "ProductNumber": "FR-T67Y-62",
                                    "LeftMost": "FR"
                                },
                                {
                                    "ProductNumber": "FR-T98U-46",
                                    "LeftMost": "FR"
                                },
                                {
                                    "ProductNumber": "FR-T98U-50",
                                    "LeftMost": "FR"
                                },
                                {
                                    "ProductNumber": "FR-T98U-54",
                                    "LeftMost": "FR"
                                },
                                {
                                    "ProductNumber": "FR-T98U-60",
                                    "LeftMost": "FR"
                                },
                                {
                                    "ProductNumber": "FR-T98Y-46",
                                    "LeftMost": "FR"
                                },
                                {
                                    "ProductNumber": "FR-T98Y-50",
                                    "LeftMost": "FR"
                                },
                                {
                                    "ProductNumber": "FR-T98Y-54",
                                    "LeftMost": "FR"
                                },
                                {
                                    "ProductNumber": "FR-T98Y-60",
                                    "LeftMost": "FR"
                                },
                                {
                                    "ProductNumber": "FW-1000",
                                    "LeftMost": "FW"
                                },
                                {
                                    "ProductNumber": "FW-1200",
                                    "LeftMost": "FW"
                                },
                                {
                                    "ProductNumber": "FW-1400",
                                    "LeftMost": "FW"
                                },
                                {
                                    "ProductNumber": "FW-3400",
                                    "LeftMost": "FW"
                                },
                                {
                                    "ProductNumber": "FW-3800",
                                    "LeftMost": "FW"
                                },
                                {
                                    "ProductNumber": "FW-5160",
                                    "LeftMost": "FW"
                                },
                                {
                                    "ProductNumber": "FW-5800",
                                    "LeftMost": "FW"
                                },
                                {
                                    "ProductNumber": "FW-7160",
                                    "LeftMost": "FW"
                                },
                                {
                                    "ProductNumber": "FW-9160",
                                    "LeftMost": "FW"
                                },
                                {
                                    "ProductNumber": "FW-M423",
                                    "LeftMost": "FW"
                                },
                                {
                                    "ProductNumber": "FW-M762",
                                    "LeftMost": "FW"
                                },
                                {
                                    "ProductNumber": "FW-M928",
                                    "LeftMost": "FW"
                                },
                                {
                                    "ProductNumber": "FW-R623",
                                    "LeftMost": "FW"
                                },
                                {
                                    "ProductNumber": "FW-R762",
                                    "LeftMost": "FW"
                                },
                                {
                                    "ProductNumber": "FW-R820",
                                    "LeftMost": "FW"
                                },
                                {
                                    "ProductNumber": "FW-T905",
                                    "LeftMost": "FW"
                                },
                                {
                                    "ProductNumber": "GL-F110-L",
                                    "LeftMost": "GL"
                                },
                                {
                                    "ProductNumber": "GL-F110-M",
                                    "LeftMost": "GL"
                                },
                                {
                                    "ProductNumber": "GL-F110-S",
                                    "LeftMost": "GL"
                                },
                                {
                                    "ProductNumber": "GL-H102-L",
                                    "LeftMost": "GL"
                                },
                                {
                                    "ProductNumber": "GL-H102-M",
                                    "LeftMost": "GL"
                                },
                                {
                                    "ProductNumber": "GL-H102-S",
                                    "LeftMost": "GL"
                                },
                                {
                                    "ProductNumber": "GP-0982",
                                    "LeftMost": "GP"
                                },
                                {
                                    "ProductNumber": "GT-0820",
                                    "LeftMost": "GT"
                                },
                                {
                                    "ProductNumber": "GT-1209",
                                    "LeftMost": "GT"
                                },
                                {
                                    "ProductNumber": "GT-2908",
                                    "LeftMost": "GT"
                                },
                                {
                                    "ProductNumber": "HB-M243",
                                    "LeftMost": "HB"
                                },
                                {
                                    "ProductNumber": "HB-M763",
                                    "LeftMost": "HB"
                                },
                                {
                                    "ProductNumber": "HB-M918",
                                    "LeftMost": "HB"
                                },
                                {
                                    "ProductNumber": "HB-R504",
                                    "LeftMost": "HB"
                                },
                                {
                                    "ProductNumber": "HB-R720",
                                    "LeftMost": "HB"
                                },
                                {
                                    "ProductNumber": "HB-R956",
                                    "LeftMost": "HB"
                                },
                                {
                                    "ProductNumber": "HB-T721",
                                    "LeftMost": "HB"
                                },
                                {
                                    "ProductNumber": "HB-T928",
                                    "LeftMost": "HB"
                                },
                                {
                                    "ProductNumber": "HJ-1213",
                                    "LeftMost": "HJ"
                                },
                                {
                                    "ProductNumber": "HJ-1220",
                                    "LeftMost": "HJ"
                                },
                                {
                                    "ProductNumber": "HJ-1420",
                                    "LeftMost": "HJ"
                                },
                                {
                                    "ProductNumber": "HJ-1428",
                                    "LeftMost": "HJ"
                                },
                                {
                                    "ProductNumber": "HJ-3410",
                                    "LeftMost": "HJ"
                                },
                                {
                                    "ProductNumber": "HJ-3416",
                                    "LeftMost": "HJ"
                                },
                                {
                                    "ProductNumber": "HJ-3816",
                                    "LeftMost": "HJ"
                                },
                                {
                                    "ProductNumber": "HJ-3824",
                                    "LeftMost": "HJ"
                                },
                                {
                                    "ProductNumber": "HJ-5161",
                                    "LeftMost": "HJ"
                                },
                                {
                                    "ProductNumber": "HJ-5162",
                                    "LeftMost": "HJ"
                                },
                                {
                                    "ProductNumber": "HJ-5811",
                                    "LeftMost": "HJ"
                                },
                                {
                                    "ProductNumber": "HJ-5818",
                                    "LeftMost": "HJ"
                                },
                                {
                                    "ProductNumber": "HJ-7161",
                                    "LeftMost": "HJ"
                                },
                                {
                                    "ProductNumber": "HJ-7162",
                                    "LeftMost": "HJ"
                                },
                                {
                                    "ProductNumber": "HJ-9080",
                                    "LeftMost": "HJ"
                                },
                                {
                                    "ProductNumber": "HJ-9161",
                                    "LeftMost": "HJ"
                                },
                                {
                                    "ProductNumber": "HL-U509",
                                    "LeftMost": "HL"
                                },
                                {
                                    "ProductNumber": "HL-U509-B",
                                    "LeftMost": "HL"
                                },
                                {
                                    "ProductNumber": "HL-U509-R",
                                    "LeftMost": "HL"
                                },
                                {
                                    "ProductNumber": "HN-1024",
                                    "LeftMost": "HN"
                                },
                                {
                                    "ProductNumber": "HN-1032",
                                    "LeftMost": "HN"
                                },
                                {
                                    "ProductNumber": "HN-1213",
                                    "LeftMost": "HN"
                                },
                                {
                                    "ProductNumber": "HN-1220",
                                    "LeftMost": "HN"
                                },
                                {
                                    "ProductNumber": "HN-1224",
                                    "LeftMost": "HN"
                                },
                                {
                                    "ProductNumber": "HN-1420",
                                    "LeftMost": "HN"
                                },
                                {
                                    "ProductNumber": "HN-1428",
                                    "LeftMost": "HN"
                                },
                                {
                                    "ProductNumber": "HN-3410",
                                    "LeftMost": "HN"
                                },
                                {
                                    "ProductNumber": "HN-3416",
                                    "LeftMost": "HN"
                                },
                                {
                                    "ProductNumber": "HN-3816",
                                    "LeftMost": "HN"
                                },
                                {
                                    "ProductNumber": "HN-3824",
                                    "LeftMost": "HN"
                                },
                                {
                                    "ProductNumber": "HN-4402",
                                    "LeftMost": "HN"
                                },
                                {
                                    "ProductNumber": "HN-5161",
                                    "LeftMost": "HN"
                                },
                                {
                                    "ProductNumber": "HN-5162",
                                    "LeftMost": "HN"
                                },
                                {
                                    "ProductNumber": "HN-5400",
                                    "LeftMost": "HN"
                                },
                                {
                                    "ProductNumber": "HN-5811",
                                    "LeftMost": "HN"
                                },
                                {
                                    "ProductNumber": "HN-5818",
                                    "LeftMost": "HN"
                                },
                                {
                                    "ProductNumber": "HN-6320",
                                    "LeftMost": "HN"
                                },
                                {
                                    "ProductNumber": "HN-7161",
                                    "LeftMost": "HN"
                                },
                                {
                                    "ProductNumber": "HN-7162",
                                    "LeftMost": "HN"
                                },
                                {
                                    "ProductNumber": "HN-8320",
                                    "LeftMost": "HN"
                                },
                                {
                                    "ProductNumber": "HN-9161",
                                    "LeftMost": "HN"
                                },
                                {
                                    "ProductNumber": "HN-9168",
                                    "LeftMost": "HN"
                                },
                                {
                                    "ProductNumber": "HS-0296",
                                    "LeftMost": "HS"
                                },
                                {
                                    "ProductNumber": "HS-2451",
                                    "LeftMost": "HS"
                                },
                                {
                                    "ProductNumber": "HS-3479",
                                    "LeftMost": "HS"
                                },
                                {
                                    "ProductNumber": "HT-2981",
                                    "LeftMost": "HT"
                                },
                                {
                                    "ProductNumber": "HT-8019",
                                    "LeftMost": "HT"
                                },
                                {
                                    "ProductNumber": "HU-6280",
                                    "LeftMost": "HU"
                                },
                                {
                                    "ProductNumber": "HU-8998",
                                    "LeftMost": "HU"
                                },
                                {
                                    "ProductNumber": "HY-1023-70",
                                    "LeftMost": "HY"
                                },
                                {
                                    "ProductNumber": "KW-4091",
                                    "LeftMost": "KW"
                                },
                                {
                                    "ProductNumber": "LE-1000",
                                    "LeftMost": "LE"
                                },
                                {
                                    "ProductNumber": "LE-1200",
                                    "LeftMost": "LE"
                                },
                                {
                                    "ProductNumber": "LE-1201",
                                    "LeftMost": "LE"
                                },
                                {
                                    "ProductNumber": "LE-1400",
                                    "LeftMost": "LE"
                                },
                                {
                                    "ProductNumber": "LE-3800",
                                    "LeftMost": "LE"
                                },
                                {
                                    "ProductNumber": "LE-5160",
                                    "LeftMost": "LE"
                                },
                                {
                                    "ProductNumber": "LE-6000",
                                    "LeftMost": "LE"
                                },
                                {
                                    "ProductNumber": "LE-7160",
                                    "LeftMost": "LE"
                                },
                                {
                                    "ProductNumber": "LE-8000",
                                    "LeftMost": "LE"
                                },
                                {
                                    "ProductNumber": "LI-1000",
                                    "LeftMost": "LI"
                                },
                                {
                                    "ProductNumber": "LI-1200",
                                    "LeftMost": "LI"
                                },
                                {
                                    "ProductNumber": "LI-1201",
                                    "LeftMost": "LI"
                                },
                                {
                                    "ProductNumber": "LI-1400",
                                    "LeftMost": "LI"
                                },
                                {
                                    "ProductNumber": "LI-3800",
                                    "LeftMost": "LI"
                                },
                                {
                                    "ProductNumber": "LI-5160",
                                    "LeftMost": "LI"
                                },
                                {
                                    "ProductNumber": "LI-5800",
                                    "LeftMost": "LI"
                                },
                                {
                                    "ProductNumber": "LI-6000",
                                    "LeftMost": "LI"
                                },
                                {
                                    "ProductNumber": "LI-7160",
                                    "LeftMost": "LI"
                                },
                                {
                                    "ProductNumber": "LI-8000",
                                    "LeftMost": "LI"
                                },
                                {
                                    "ProductNumber": "LJ-0192-L",
                                    "LeftMost": "LJ"
                                },
                                {
                                    "ProductNumber": "LJ-0192-M",
                                    "LeftMost": "LJ"
                                },
                                {
                                    "ProductNumber": "LJ-0192-S",
                                    "LeftMost": "LJ"
                                },
                                {
                                    "ProductNumber": "LJ-0192-X",
                                    "LeftMost": "LJ"
                                },
                                {
                                    "ProductNumber": "LJ-1213",
                                    "LeftMost": "LJ"
                                },
                                {
                                    "ProductNumber": "LJ-1220",
                                    "LeftMost": "LJ"
                                },
                                {
                                    "ProductNumber": "LJ-1420",
                                    "LeftMost": "LJ"
                                },
                                {
                                    "ProductNumber": "LJ-1428",
                                    "LeftMost": "LJ"
                                },
                                {
                                    "ProductNumber": "LJ-3410",
                                    "LeftMost": "LJ"
                                },
                                {
                                    "ProductNumber": "LJ-3416",
                                    "LeftMost": "LJ"
                                },
                                {
                                    "ProductNumber": "LJ-3816",
                                    "LeftMost": "LJ"
                                },
                                {
                                    "ProductNumber": "LJ-3824",
                                    "LeftMost": "LJ"
                                },
                                {
                                    "ProductNumber": "LJ-5161",
                                    "LeftMost": "LJ"
                                },
                                {
                                    "ProductNumber": "LJ-5162",
                                    "LeftMost": "LJ"
                                },
                                {
                                    "ProductNumber": "LJ-5811",
                                    "LeftMost": "LJ"
                                },
                                {
                                    "ProductNumber": "LJ-5818",
                                    "LeftMost": "LJ"
                                },
                                {
                                    "ProductNumber": "LJ-7161",
                                    "LeftMost": "LJ"
                                },
                                {
                                    "ProductNumber": "LJ-7162",
                                    "LeftMost": "LJ"
                                },
                                {
                                    "ProductNumber": "LJ-9080",
                                    "LeftMost": "LJ"
                                },
                                {
                                    "ProductNumber": "LJ-9161",
                                    "LeftMost": "LJ"
                                },
                                {
                                    "ProductNumber": "LN-1024",
                                    "LeftMost": "LN"
                                },
                                {
                                    "ProductNumber": "LN-1032",
                                    "LeftMost": "LN"
                                },
                                {
                                    "ProductNumber": "LN-1213",
                                    "LeftMost": "LN"
                                },
                                {
                                    "ProductNumber": "LN-1220",
                                    "LeftMost": "LN"
                                },
                                {
                                    "ProductNumber": "LN-1224",
                                    "LeftMost": "LN"
                                },
                                {
                                    "ProductNumber": "LN-1420",
                                    "LeftMost": "LN"
                                },
                                {
                                    "ProductNumber": "LN-1428",
                                    "LeftMost": "LN"
                                },
                                {
                                    "ProductNumber": "LN-3410",
                                    "LeftMost": "LN"
                                },
                                {
                                    "ProductNumber": "LN-3416",
                                    "LeftMost": "LN"
                                },
                                {
                                    "ProductNumber": "LN-3816",
                                    "LeftMost": "LN"
                                },
                                {
                                    "ProductNumber": "LN-3824",
                                    "LeftMost": "LN"
                                },
                                {
                                    "ProductNumber": "LN-4400",
                                    "LeftMost": "LN"
                                },
                                {
                                    "ProductNumber": "LN-5161",
                                    "LeftMost": "LN"
                                },
                                {
                                    "ProductNumber": "LN-5162",
                                    "LeftMost": "LN"
                                },
                                {
                                    "ProductNumber": "LN-5400",
                                    "LeftMost": "LN"
                                },
                                {
                                    "ProductNumber": "LN-5811",
                                    "LeftMost": "LN"
                                },
                                {
                                    "ProductNumber": "LN-5818",
                                    "LeftMost": "LN"
                                },
                                {
                                    "ProductNumber": "LN-6320",
                                    "LeftMost": "LN"
                                },
                                {
                                    "ProductNumber": "LN-7161",
                                    "LeftMost": "LN"
                                },
                                {
                                    "ProductNumber": "LN-7162",
                                    "LeftMost": "LN"
                                },
                                {
                                    "ProductNumber": "LN-8320",
                                    "LeftMost": "LN"
                                },
                                {
                                    "ProductNumber": "LN-9080",
                                    "LeftMost": "LN"
                                },
                                {
                                    "ProductNumber": "LN-9161",
                                    "LeftMost": "LN"
                                },
                                {
                                    "ProductNumber": "LO-C100",
                                    "LeftMost": "LO"
                                },
                                {
                                    "ProductNumber": "LR-2398",
                                    "LeftMost": "LR"
                                },
                                {
                                    "ProductNumber": "LR-8520",
                                    "LeftMost": "LR"
                                },
                                {
                                    "ProductNumber": "LT-H902",
                                    "LeftMost": "LT"
                                },
                                {
                                    "ProductNumber": "LT-H903",
                                    "LeftMost": "LT"
                                },
                                {
                                    "ProductNumber": "LT-T990",
                                    "LeftMost": "LT"
                                },
                                {
                                    "ProductNumber": "LW-1000",
                                    "LeftMost": "LW"
                                },
                                {
                                    "ProductNumber": "LW-1200",
                                    "LeftMost": "LW"
                                },
                                {
                                    "ProductNumber": "LW-1201",
                                    "LeftMost": "LW"
                                },
                                {
                                    "ProductNumber": "LW-1400",
                                    "LeftMost": "LW"
                                },
                                {
                                    "ProductNumber": "LW-3400",
                                    "LeftMost": "LW"
                                },
                                {
                                    "ProductNumber": "LW-3800",
                                    "LeftMost": "LW"
                                },
                                {
                                    "ProductNumber": "LW-4000",
                                    "LeftMost": "LW"
                                },
                                {
                                    "ProductNumber": "LW-5160",
                                    "LeftMost": "LW"
                                },
                                {
                                    "ProductNumber": "LW-5800",
                                    "LeftMost": "LW"
                                },
                                {
                                    "ProductNumber": "LW-6000",
                                    "LeftMost": "LW"
                                },
                                {
                                    "ProductNumber": "LW-7160",
                                    "LeftMost": "LW"
                                },
                                {
                                    "ProductNumber": "LW-8000",
                                    "LeftMost": "LW"
                                },
                                {
                                    "ProductNumber": "LW-9160",
                                    "LeftMost": "LW"
                                },
                                {
                                    "ProductNumber": "MA-7075",
                                    "LeftMost": "MA"
                                },
                                {
                                    "ProductNumber": "MB-2024",
                                    "LeftMost": "MB"
                                },
                                {
                                    "ProductNumber": "MB-6061",
                                    "LeftMost": "MB"
                                },
                                {
                                    "ProductNumber": "MP-2066",
                                    "LeftMost": "MP"
                                },
                                {
                                    "ProductNumber": "MP-2503",
                                    "LeftMost": "MP"
                                },
                                {
                                    "ProductNumber": "MP-4960",
                                    "LeftMost": "MP"
                                },
                                {
                                    "ProductNumber": "MS-0253",
                                    "LeftMost": "MS"
                                },
                                {
                                    "ProductNumber": "MS-1256",
                                    "LeftMost": "MS"
                                },
                                {
                                    "ProductNumber": "MS-1981",
                                    "LeftMost": "MS"
                                },
                                {
                                    "ProductNumber": "MS-2259",
                                    "LeftMost": "MS"
                                },
                                {
                                    "ProductNumber": "MS-2341",
                                    "LeftMost": "MS"
                                },
                                {
                                    "ProductNumber": "MS-2348",
                                    "LeftMost": "MS"
                                },
                                {
                                    "ProductNumber": "MS-6061",
                                    "LeftMost": "MS"
                                },
                                {
                                    "ProductNumber": "MT-1000",
                                    "LeftMost": "MT"
                                },
                                {
                                    "ProductNumber": "NI-4127",
                                    "LeftMost": "NI"
                                },
                                {
                                    "ProductNumber": "NI-9522",
                                    "LeftMost": "NI"
                                },
                                {
                                    "ProductNumber": "PA-187B",
                                    "LeftMost": "PA"
                                },
                                {
                                    "ProductNumber": "PA-361R",
                                    "LeftMost": "PA"
                                },
                                {
                                    "ProductNumber": "PA-529S",
                                    "LeftMost": "PA"
                                },
                                {
                                    "ProductNumber": "PA-632U",
                                    "LeftMost": "PA"
                                },
                                {
                                    "ProductNumber": "PA-823Y",
                                    "LeftMost": "PA"
                                },
                                {
                                    "ProductNumber": "PA-T100",
                                    "LeftMost": "PA"
                                },
                                {
                                    "ProductNumber": "PB-6109",
                                    "LeftMost": "PB"
                                },
                                {
                                    "ProductNumber": "PD-M282",
                                    "LeftMost": "PD"
                                },
                                {
                                    "ProductNumber": "PD-M340",
                                    "LeftMost": "PD"
                                },
                                {
                                    "ProductNumber": "PD-M562",
                                    "LeftMost": "PD"
                                },
                                {
                                    "ProductNumber": "PD-R347",
                                    "LeftMost": "PD"
                                },
                                {
                                    "ProductNumber": "PD-R563",
                                    "LeftMost": "PD"
                                },
                                {
                                    "ProductNumber": "PD-R853",
                                    "LeftMost": "PD"
                                },
                                {
                                    "ProductNumber": "PD-T852",
                                    "LeftMost": "PD"
                                },
                                {
                                    "ProductNumber": "PK-7098",
                                    "LeftMost": "PK"
                                },
                                {
                                    "ProductNumber": "PU-0452",
                                    "LeftMost": "PU"
                                },
                                {
                                    "ProductNumber": "PU-M044",
                                    "LeftMost": "PU"
                                },
                                {
                                    "ProductNumber": "RA-2345",
                                    "LeftMost": "RA"
                                },
                                {
                                    "ProductNumber": "RA-7490",
                                    "LeftMost": "RA"
                                },
                                {
                                    "ProductNumber": "RA-H123",
                                    "LeftMost": "RA"
                                },
                                {
                                    "ProductNumber": "RB-9231",
                                    "LeftMost": "RB"
                                },
                                {
                                    "ProductNumber": "RC-0291",
                                    "LeftMost": "RC"
                                },
                                {
                                    "ProductNumber": "RD-2308",
                                    "LeftMost": "RD"
                                },
                                {
                                    "ProductNumber": "RF-9198",
                                    "LeftMost": "RF"
                                },
                                {
                                    "ProductNumber": "RM-M464",
                                    "LeftMost": "RM"
                                },
                                {
                                    "ProductNumber": "RM-M692",
                                    "LeftMost": "RM"
                                },
                                {
                                    "ProductNumber": "RM-M823",
                                    "LeftMost": "RM"
                                },
                                {
                                    "ProductNumber": "RM-R436",
                                    "LeftMost": "RM"
                                },
                                {
                                    "ProductNumber": "RM-R600",
                                    "LeftMost": "RM"
                                },
                                {
                                    "ProductNumber": "RM-R800",
                                    "LeftMost": "RM"
                                },
                                {
                                    "ProductNumber": "RM-T801",
                                    "LeftMost": "RM"
                                },
                                {
                                    "ProductNumber": "RW-M423",
                                    "LeftMost": "RW"
                                },
                                {
                                    "ProductNumber": "RW-M762",
                                    "LeftMost": "RW"
                                },
                                {
                                    "ProductNumber": "RW-M928",
                                    "LeftMost": "RW"
                                },
                                {
                                    "ProductNumber": "RW-R623",
                                    "LeftMost": "RW"
                                },
                                {
                                    "ProductNumber": "RW-R762",
                                    "LeftMost": "RW"
                                },
                                {
                                    "ProductNumber": "RW-R820",
                                    "LeftMost": "RW"
                                },
                                {
                                    "ProductNumber": "RW-T905",
                                    "LeftMost": "RW"
                                },
                                {
                                    "ProductNumber": "SA-M198",
                                    "LeftMost": "SA"
                                },
                                {
                                    "ProductNumber": "SA-M237",
                                    "LeftMost": "SA"
                                },
                                {
                                    "ProductNumber": "SA-M687",
                                    "LeftMost": "SA"
                                },
                                {
                                    "ProductNumber": "SA-R127",
                                    "LeftMost": "SA"
                                },
                                {
                                    "ProductNumber": "SA-R430",
                                    "LeftMost": "SA"
                                },
                                {
                                    "ProductNumber": "SA-R522",
                                    "LeftMost": "SA"
                                },
                                {
                                    "ProductNumber": "SA-T467",
                                    "LeftMost": "SA"
                                },
                                {
                                    "ProductNumber": "SA-T612",
                                    "LeftMost": "SA"
                                },
                                {
                                    "ProductNumber": "SA-T872",
                                    "LeftMost": "SA"
                                },
                                {
                                    "ProductNumber": "SB-M891-L",
                                    "LeftMost": "SB"
                                },
                                {
                                    "ProductNumber": "SB-M891-M",
                                    "LeftMost": "SB"
                                },
                                {
                                    "ProductNumber": "SB-M891-S",
                                    "LeftMost": "SB"
                                },
                                {
                                    "ProductNumber": "SD-2342",
                                    "LeftMost": "SD"
                                },
                                {
                                    "ProductNumber": "SD-9872",
                                    "LeftMost": "SD"
                                },
                                {
                                    "ProductNumber": "SE-M236",
                                    "LeftMost": "SE"
                                },
                                {
                                    "ProductNumber": "SE-M798",
                                    "LeftMost": "SE"
                                },
                                {
                                    "ProductNumber": "SE-M940",
                                    "LeftMost": "SE"
                                },
                                {
                                    "ProductNumber": "SE-R581",
                                    "LeftMost": "SE"
                                },
                                {
                                    "ProductNumber": "SE-R908",
                                    "LeftMost": "SE"
                                },
                                {
                                    "ProductNumber": "SE-R995",
                                    "LeftMost": "SE"
                                },
                                {
                                    "ProductNumber": "SE-T312",
                                    "LeftMost": "SE"
                                },
                                {
                                    "ProductNumber": "SE-T762",
                                    "LeftMost": "SE"
                                },
                                {
                                    "ProductNumber": "SE-T924",
                                    "LeftMost": "SE"
                                },
                                {
                                    "ProductNumber": "SH-4562",
                                    "LeftMost": "SH"
                                },
                                {
                                    "ProductNumber": "SH-9312",
                                    "LeftMost": "SH"
                                },
                                {
                                    "ProductNumber": "SH-M897-L",
                                    "LeftMost": "SH"
                                },
                                {
                                    "ProductNumber": "SH-M897-M",
                                    "LeftMost": "SH"
                                },
                                {
                                    "ProductNumber": "SH-M897-S",
                                    "LeftMost": "SH"
                                },
                                {
                                    "ProductNumber": "SH-M897-X",
                                    "LeftMost": "SH"
                                },
                                {
                                    "ProductNumber": "SH-W890-L",
                                    "LeftMost": "SH"
                                },
                                {
                                    "ProductNumber": "SH-W890-M",
                                    "LeftMost": "SH"
                                },
                                {
                                    "ProductNumber": "SH-W890-S",
                                    "LeftMost": "SH"
                                },
                                {
                                    "ProductNumber": "SJ-0194-L",
                                    "LeftMost": "SJ"
                                },
                                {
                                    "ProductNumber": "SJ-0194-M",
                                    "LeftMost": "SJ"
                                },
                                {
                                    "ProductNumber": "SJ-0194-S",
                                    "LeftMost": "SJ"
                                },
                                {
                                    "ProductNumber": "SJ-0194-X",
                                    "LeftMost": "SJ"
                                },
                                {
                                    "ProductNumber": "SK-9283",
                                    "LeftMost": "SK"
                                },
                                {
                                    "ProductNumber": "SL-0931",
                                    "LeftMost": "SL"
                                },
                                {
                                    "ProductNumber": "SM-9087",
                                    "LeftMost": "SM"
                                },
                                {
                                    "ProductNumber": "SO-B909-L",
                                    "LeftMost": "SO"
                                },
                                {
                                    "ProductNumber": "SO-B909-M",
                                    "LeftMost": "SO"
                                },
                                {
                                    "ProductNumber": "SO-R809-L",
                                    "LeftMost": "SO"
                                },
                                {
                                    "ProductNumber": "SO-R809-M",
                                    "LeftMost": "SO"
                                },
                                {
                                    "ProductNumber": "SP-2981",
                                    "LeftMost": "SP"
                                },
                                {
                                    "ProductNumber": "SR-2098",
                                    "LeftMost": "SR"
                                },
                                {
                                    "ProductNumber": "SS-2985",
                                    "LeftMost": "SS"
                                },
                                {
                                    "ProductNumber": "ST-1401",
                                    "LeftMost": "ST"
                                },
                                {
                                    "ProductNumber": "ST-9828",
                                    "LeftMost": "ST"
                                },
                                {
                                    "ProductNumber": "TG-W091-L",
                                    "LeftMost": "TG"
                                },
                                {
                                    "ProductNumber": "TG-W091-M",
                                    "LeftMost": "TG"
                                },
                                {
                                    "ProductNumber": "TG-W091-S",
                                    "LeftMost": "TG"
                                },
                                {
                                    "ProductNumber": "TI-M267",
                                    "LeftMost": "TI"
                                },
                                {
                                    "ProductNumber": "TI-M602",
                                    "LeftMost": "TI"
                                },
                                {
                                    "ProductNumber": "TI-M823",
                                    "LeftMost": "TI"
                                },
                                {
                                    "ProductNumber": "TI-R092",
                                    "LeftMost": "TI"
                                },
                                {
                                    "ProductNumber": "TI-R628",
                                    "LeftMost": "TI"
                                },
                                {
                                    "ProductNumber": "TI-R982",
                                    "LeftMost": "TI"
                                },
                                {
                                    "ProductNumber": "TI-T723",
                                    "LeftMost": "TI"
                                },
                                {
                                    "ProductNumber": "TO-2301",
                                    "LeftMost": "TO"
                                },
                                {
                                    "ProductNumber": "TP-0923",
                                    "LeftMost": "TP"
                                },
                                {
                                    "ProductNumber": "TT-M928",
                                    "LeftMost": "TT"
                                },
                                {
                                    "ProductNumber": "TT-R982",
                                    "LeftMost": "TT"
                                },
                                {
                                    "ProductNumber": "TT-T092",
                                    "LeftMost": "TT"
                                },
                                {
                                    "ProductNumber": "VE-C304-L",
                                    "LeftMost": "VE"
                                },
                                {
                                    "ProductNumber": "VE-C304-M",
                                    "LeftMost": "VE"
                                },
                                {
                                    "ProductNumber": "VE-C304-S",
                                    "LeftMost": "VE"
                                },
                                {
                                    "ProductNumber": "WB-H098",
                                    "LeftMost": "WB"
                                }
                            ]
                        },
                        "text/html": [
                            "<table>",
                            "<tr><th>ProductNumber</th><th>LeftMost</th></tr>",
                            "<tr><td>AR-5381</td><td>AR</td></tr>",
                            "<tr><td>BA-8327</td><td>BA</td></tr>",
                            "<tr><td>BB-7421</td><td>BB</td></tr>",
                            "<tr><td>BB-8107</td><td>BB</td></tr>",
                            "<tr><td>BB-9108</td><td>BB</td></tr>",
                            "<tr><td>BC-M005</td><td>BC</td></tr>",
                            "<tr><td>BC-R205</td><td>BC</td></tr>",
                            "<tr><td>BE-2349</td><td>BE</td></tr>",
                            "<tr><td>BE-2908</td><td>BE</td></tr>",
                            "<tr><td>BK-M18B-40</td><td>BK</td></tr>",
                            "<tr><td>BK-M18B-42</td><td>BK</td></tr>",
                            "<tr><td>BK-M18B-44</td><td>BK</td></tr>",
                            "<tr><td>BK-M18B-48</td><td>BK</td></tr>",
                            "<tr><td>BK-M18B-52</td><td>BK</td></tr>",
                            "<tr><td>BK-M18S-40</td><td>BK</td></tr>",
                            "<tr><td>BK-M18S-42</td><td>BK</td></tr>",
                            "<tr><td>BK-M18S-44</td><td>BK</td></tr>",
                            "<tr><td>BK-M18S-48</td><td>BK</td></tr>",
                            "<tr><td>BK-M18S-52</td><td>BK</td></tr>",
                            "<tr><td>BK-M38S-38</td><td>BK</td></tr>",
                            "<tr><td>BK-M38S-40</td><td>BK</td></tr>",
                            "<tr><td>BK-M38S-42</td><td>BK</td></tr>",
                            "<tr><td>BK-M38S-46</td><td>BK</td></tr>",
                            "<tr><td>BK-M47B-38</td><td>BK</td></tr>",
                            "<tr><td>BK-M47B-40</td><td>BK</td></tr>",
                            "<tr><td>BK-M47B-44</td><td>BK</td></tr>",
                            "<tr><td>BK-M47B-48</td><td>BK</td></tr>",
                            "<tr><td>BK-M68B-38</td><td>BK</td></tr>",
                            "<tr><td>BK-M68B-42</td><td>BK</td></tr>",
                            "<tr><td>BK-M68B-46</td><td>BK</td></tr>",
                            "<tr><td>BK-M68S-38</td><td>BK</td></tr>",
                            "<tr><td>BK-M68S-42</td><td>BK</td></tr>",
                            "<tr><td>BK-M68S-46</td><td>BK</td></tr>",
                            "<tr><td>BK-M82B-38</td><td>BK</td></tr>",
                            "<tr><td>BK-M82B-42</td><td>BK</td></tr>",
                            "<tr><td>BK-M82B-44</td><td>BK</td></tr>",
                            "<tr><td>BK-M82B-48</td><td>BK</td></tr>",
                            "<tr><td>BK-M82S-38</td><td>BK</td></tr>",
                            "<tr><td>BK-M82S-42</td><td>BK</td></tr>",
                            "<tr><td>BK-M82S-44</td><td>BK</td></tr>",
                            "<tr><td>BK-M82S-48</td><td>BK</td></tr>",
                            "<tr><td>BK-R19B-44</td><td>BK</td></tr>",
                            "<tr><td>BK-R19B-48</td><td>BK</td></tr>",
                            "<tr><td>BK-R19B-52</td><td>BK</td></tr>",
                            "<tr><td>BK-R19B-58</td><td>BK</td></tr>",
                            "<tr><td>BK-R50B-44</td><td>BK</td></tr>",
                            "<tr><td>BK-R50B-48</td><td>BK</td></tr>",
                            "<tr><td>BK-R50B-52</td><td>BK</td></tr>",
                            "<tr><td>BK-R50B-58</td><td>BK</td></tr>",
                            "<tr><td>BK-R50B-60</td><td>BK</td></tr>",
                            "<tr><td>BK-R50B-62</td><td>BK</td></tr>",
                            "<tr><td>BK-R50R-44</td><td>BK</td></tr>",
                            "<tr><td>BK-R50R-48</td><td>BK</td></tr>",
                            "<tr><td>BK-R50R-52</td><td>BK</td></tr>",
                            "<tr><td>BK-R50R-58</td><td>BK</td></tr>",
                            "<tr><td>BK-R50R-60</td><td>BK</td></tr>",
                            "<tr><td>BK-R50R-62</td><td>BK</td></tr>",
                            "<tr><td>BK-R64Y-38</td><td>BK</td></tr>",
                            "<tr><td>BK-R64Y-40</td><td>BK</td></tr>",
                            "<tr><td>BK-R64Y-42</td><td>BK</td></tr>",
                            "<tr><td>BK-R64Y-44</td><td>BK</td></tr>",
                            "<tr><td>BK-R64Y-48</td><td>BK</td></tr>",
                            "<tr><td>BK-R68R-44</td><td>BK</td></tr>",
                            "<tr><td>BK-R68R-48</td><td>BK</td></tr>",
                            "<tr><td>BK-R68R-52</td><td>BK</td></tr>",
                            "<tr><td>BK-R68R-58</td><td>BK</td></tr>",
                            "<tr><td>BK-R68R-60</td><td>BK</td></tr>",
                            "<tr><td>BK-R79Y-40</td><td>BK</td></tr>",
                            "<tr><td>BK-R79Y-42</td><td>BK</td></tr>",
                            "<tr><td>BK-R79Y-44</td><td>BK</td></tr>",
                            "<tr><td>BK-R79Y-48</td><td>BK</td></tr>",
                            "<tr><td>BK-R89B-44</td><td>BK</td></tr>",
                            "<tr><td>BK-R89B-48</td><td>BK</td></tr>",
                            "<tr><td>BK-R89B-52</td><td>BK</td></tr>",
                            "<tr><td>BK-R89B-58</td><td>BK</td></tr>",
                            "<tr><td>BK-R89R-44</td><td>BK</td></tr>",
                            "<tr><td>BK-R89R-48</td><td>BK</td></tr>",
                            "<tr><td>BK-R89R-52</td><td>BK</td></tr>",
                            "<tr><td>BK-R89R-58</td><td>BK</td></tr>",
                            "<tr><td>BK-R93R-44</td><td>BK</td></tr>",
                            "<tr><td>BK-R93R-48</td><td>BK</td></tr>",
                            "<tr><td>BK-R93R-52</td><td>BK</td></tr>",
                            "<tr><td>BK-R93R-56</td><td>BK</td></tr>",
                            "<tr><td>BK-R93R-62</td><td>BK</td></tr>",
                            "<tr><td>BK-T18U-44</td><td>BK</td></tr>",
                            "<tr><td>BK-T18U-50</td><td>BK</td></tr>",
                            "<tr><td>BK-T18U-54</td><td>BK</td></tr>",
                            "<tr><td>BK-T18U-58</td><td>BK</td></tr>",
                            "<tr><td>BK-T18U-62</td><td>BK</td></tr>",
                            "<tr><td>BK-T18Y-44</td><td>BK</td></tr>",
                            "<tr><td>BK-T18Y-50</td><td>BK</td></tr>",
                            "<tr><td>BK-T18Y-54</td><td>BK</td></tr>",
                            "<tr><td>BK-T18Y-58</td><td>BK</td></tr>",
                            "<tr><td>BK-T18Y-62</td><td>BK</td></tr>",
                            "<tr><td>BK-T44U-46</td><td>BK</td></tr>",
                            "<tr><td>BK-T44U-50</td><td>BK</td></tr>",
                            "<tr><td>BK-T44U-54</td><td>BK</td></tr>",
                            "<tr><td>BK-T44U-60</td><td>BK</td></tr>",
                            "<tr><td>BK-T79U-46</td><td>BK</td></tr>",
                            "<tr><td>BK-T79U-50</td><td>BK</td></tr>",
                            "<tr><td>BK-T79U-54</td><td>BK</td></tr>",
                            "<tr><td>BK-T79U-60</td><td>BK</td></tr>",
                            "<tr><td>BK-T79Y-46</td><td>BK</td></tr>",
                            "<tr><td>BK-T79Y-50</td><td>BK</td></tr>",
                            "<tr><td>BK-T79Y-54</td><td>BK</td></tr>",
                            "<tr><td>BK-T79Y-60</td><td>BK</td></tr>",
                            "<tr><td>BL-2036</td><td>BL</td></tr>",
                            "<tr><td>CA-1098</td><td>CA</td></tr>",
                            "<tr><td>CA-5965</td><td>CA</td></tr>",
                            "<tr><td>CA-6738</td><td>CA</td></tr>",
                            "<tr><td>CA-7457</td><td>CA</td></tr>",
                            "<tr><td>CB-2903</td><td>CB</td></tr>",
                            "<tr><td>CH-0234</td><td>CH</td></tr>",
                            "<tr><td>CL-9009</td><td>CL</td></tr>",
                            "<tr><td>CN-6137</td><td>CN</td></tr>",
                            "<tr><td>CR-7833</td><td>CR</td></tr>",
                            "<tr><td>CR-9981</td><td>CR</td></tr>",
                            "<tr><td>CS-2812</td><td>CS</td></tr>",
                            "<tr><td>CS-4759</td><td>CS</td></tr>",
                            "<tr><td>CS-6583</td><td>CS</td></tr>",
                            "<tr><td>CS-9183</td><td>CS</td></tr>",
                            "<tr><td>DC-8732</td><td>DC</td></tr>",
                            "<tr><td>DC-9824</td><td>DC</td></tr>",
                            "<tr><td>DT-2377</td><td>DT</td></tr>",
                            "<tr><td>EC-M092</td><td>EC</td></tr>",
                            "<tr><td>EC-R098</td><td>EC</td></tr>",
                            "<tr><td>EC-T209</td><td>EC</td></tr>",
                            "<tr><td>FB-9873</td><td>FB</td></tr>",
                            "<tr><td>FC-3654</td><td>FC</td></tr>",
                            "<tr><td>FC-3982</td><td>FC</td></tr>",
                            "<tr><td>FD-2342</td><td>FD</td></tr>",
                            "<tr><td>FE-3760</td><td>FE</td></tr>",
                            "<tr><td>FE-6654</td><td>FE</td></tr>",
                            "<tr><td>FH-2981</td><td>FH</td></tr>",
                            "<tr><td>FK-1639</td><td>FK</td></tr>",
                            "<tr><td>FK-5136</td><td>FK</td></tr>",
                            "<tr><td>FK-9939</td><td>FK</td></tr>",
                            "<tr><td>FL-2301</td><td>FL</td></tr>",
                            "<tr><td>FR-M21B-40</td><td>FR</td></tr>",
                            "<tr><td>FR-M21B-42</td><td>FR</td></tr>",
                            "<tr><td>FR-M21B-44</td><td>FR</td></tr>",
                            "<tr><td>FR-M21B-48</td><td>FR</td></tr>",
                            "<tr><td>FR-M21B-52</td><td>FR</td></tr>",
                            "<tr><td>FR-M21S-40</td><td>FR</td></tr>",
                            "<tr><td>FR-M21S-42</td><td>FR</td></tr>",
                            "<tr><td>FR-M21S-44</td><td>FR</td></tr>",
                            "<tr><td>FR-M21S-48</td><td>FR</td></tr>",
                            "<tr><td>FR-M21S-52</td><td>FR</td></tr>",
                            "<tr><td>FR-M63B-38</td><td>FR</td></tr>",
                            "<tr><td>FR-M63B-40</td><td>FR</td></tr>",
                            "<tr><td>FR-M63B-44</td><td>FR</td></tr>",
                            "<tr><td>FR-M63B-48</td><td>FR</td></tr>",
                            "<tr><td>FR-M63S-38</td><td>FR</td></tr>",
                            "<tr><td>FR-M63S-40</td><td>FR</td></tr>",
                            "<tr><td>FR-M63S-42</td><td>FR</td></tr>",
                            "<tr><td>FR-M63S-46</td><td>FR</td></tr>",
                            "<tr><td>FR-M94B-38</td><td>FR</td></tr>",
                            "<tr><td>FR-M94B-42</td><td>FR</td></tr>",
                            "<tr><td>FR-M94B-44</td><td>FR</td></tr>",
                            "<tr><td>FR-M94B-46</td><td>FR</td></tr>",
                            "<tr><td>FR-M94B-48</td><td>FR</td></tr>",
                            "<tr><td>FR-M94S-38</td><td>FR</td></tr>",
                            "<tr><td>FR-M94S-42</td><td>FR</td></tr>",
                            "<tr><td>FR-M94S-44</td><td>FR</td></tr>",
                            "<tr><td>FR-M94S-46</td><td>FR</td></tr>",
                            "<tr><td>FR-M94S-52</td><td>FR</td></tr>",
                            "<tr><td>FR-R38B-44</td><td>FR</td></tr>",
                            "<tr><td>FR-R38B-48</td><td>FR</td></tr>",
                            "<tr><td>FR-R38B-52</td><td>FR</td></tr>",
                            "<tr><td>FR-R38B-58</td><td>FR</td></tr>",
                            "<tr><td>FR-R38B-60</td><td>FR</td></tr>",
                            "<tr><td>FR-R38B-62</td><td>FR</td></tr>",
                            "<tr><td>FR-R38R-44</td><td>FR</td></tr>",
                            "<tr><td>FR-R38R-48</td><td>FR</td></tr>",
                            "<tr><td>FR-R38R-52</td><td>FR</td></tr>",
                            "<tr><td>FR-R38R-58</td><td>FR</td></tr>",
                            "<tr><td>FR-R38R-60</td><td>FR</td></tr>",
                            "<tr><td>FR-R38R-62</td><td>FR</td></tr>",
                            "<tr><td>FR-R72R-44</td><td>FR</td></tr>",
                            "<tr><td>FR-R72R-48</td><td>FR</td></tr>",
                            "<tr><td>FR-R72R-52</td><td>FR</td></tr>",
                            "<tr><td>FR-R72R-58</td><td>FR</td></tr>",
                            "<tr><td>FR-R72R-60</td><td>FR</td></tr>",
                            "<tr><td>FR-R72Y-38</td><td>FR</td></tr>",
                            "<tr><td>FR-R72Y-40</td><td>FR</td></tr>",
                            "<tr><td>FR-R72Y-42</td><td>FR</td></tr>",
                            "<tr><td>FR-R72Y-44</td><td>FR</td></tr>",
                            "<tr><td>FR-R72Y-48</td><td>FR</td></tr>",
                            "<tr><td>FR-R92B-44</td><td>FR</td></tr>",
                            "<tr><td>FR-R92B-48</td><td>FR</td></tr>",
                            "<tr><td>FR-R92B-52</td><td>FR</td></tr>",
                            "<tr><td>FR-R92B-58</td><td>FR</td></tr>",
                            "<tr><td>FR-R92B-62</td><td>FR</td></tr>",
                            "<tr><td>FR-R92R-44</td><td>FR</td></tr>",
                            "<tr><td>FR-R92R-48</td><td>FR</td></tr>",
                            "<tr><td>FR-R92R-52</td><td>FR</td></tr>",
                            "<tr><td>FR-R92R-56</td><td>FR</td></tr>",
                            "<tr><td>FR-R92R-58</td><td>FR</td></tr>",
                            "<tr><td>FR-R92R-62</td><td>FR</td></tr>",
                            "<tr><td>FR-T67U-44</td><td>FR</td></tr>",
                            "<tr><td>FR-T67U-50</td><td>FR</td></tr>",
                            "<tr><td>FR-T67U-54</td><td>FR</td></tr>",
                            "<tr><td>FR-T67U-58</td><td>FR</td></tr>",
                            "<tr><td>FR-T67U-62</td><td>FR</td></tr>",
                            "<tr><td>FR-T67Y-44</td><td>FR</td></tr>",
                            "<tr><td>FR-T67Y-50</td><td>FR</td></tr>",
                            "<tr><td>FR-T67Y-54</td><td>FR</td></tr>",
                            "<tr><td>FR-T67Y-58</td><td>FR</td></tr>",
                            "<tr><td>FR-T67Y-62</td><td>FR</td></tr>",
                            "<tr><td>FR-T98U-46</td><td>FR</td></tr>",
                            "<tr><td>FR-T98U-50</td><td>FR</td></tr>",
                            "<tr><td>FR-T98U-54</td><td>FR</td></tr>",
                            "<tr><td>FR-T98U-60</td><td>FR</td></tr>",
                            "<tr><td>FR-T98Y-46</td><td>FR</td></tr>",
                            "<tr><td>FR-T98Y-50</td><td>FR</td></tr>",
                            "<tr><td>FR-T98Y-54</td><td>FR</td></tr>",
                            "<tr><td>FR-T98Y-60</td><td>FR</td></tr>",
                            "<tr><td>FW-1000</td><td>FW</td></tr>",
                            "<tr><td>FW-1200</td><td>FW</td></tr>",
                            "<tr><td>FW-1400</td><td>FW</td></tr>",
                            "<tr><td>FW-3400</td><td>FW</td></tr>",
                            "<tr><td>FW-3800</td><td>FW</td></tr>",
                            "<tr><td>FW-5160</td><td>FW</td></tr>",
                            "<tr><td>FW-5800</td><td>FW</td></tr>",
                            "<tr><td>FW-7160</td><td>FW</td></tr>",
                            "<tr><td>FW-9160</td><td>FW</td></tr>",
                            "<tr><td>FW-M423</td><td>FW</td></tr>",
                            "<tr><td>FW-M762</td><td>FW</td></tr>",
                            "<tr><td>FW-M928</td><td>FW</td></tr>",
                            "<tr><td>FW-R623</td><td>FW</td></tr>",
                            "<tr><td>FW-R762</td><td>FW</td></tr>",
                            "<tr><td>FW-R820</td><td>FW</td></tr>",
                            "<tr><td>FW-T905</td><td>FW</td></tr>",
                            "<tr><td>GL-F110-L</td><td>GL</td></tr>",
                            "<tr><td>GL-F110-M</td><td>GL</td></tr>",
                            "<tr><td>GL-F110-S</td><td>GL</td></tr>",
                            "<tr><td>GL-H102-L</td><td>GL</td></tr>",
                            "<tr><td>GL-H102-M</td><td>GL</td></tr>",
                            "<tr><td>GL-H102-S</td><td>GL</td></tr>",
                            "<tr><td>GP-0982</td><td>GP</td></tr>",
                            "<tr><td>GT-0820</td><td>GT</td></tr>",
                            "<tr><td>GT-1209</td><td>GT</td></tr>",
                            "<tr><td>GT-2908</td><td>GT</td></tr>",
                            "<tr><td>HB-M243</td><td>HB</td></tr>",
                            "<tr><td>HB-M763</td><td>HB</td></tr>",
                            "<tr><td>HB-M918</td><td>HB</td></tr>",
                            "<tr><td>HB-R504</td><td>HB</td></tr>",
                            "<tr><td>HB-R720</td><td>HB</td></tr>",
                            "<tr><td>HB-R956</td><td>HB</td></tr>",
                            "<tr><td>HB-T721</td><td>HB</td></tr>",
                            "<tr><td>HB-T928</td><td>HB</td></tr>",
                            "<tr><td>HJ-1213</td><td>HJ</td></tr>",
                            "<tr><td>HJ-1220</td><td>HJ</td></tr>",
                            "<tr><td>HJ-1420</td><td>HJ</td></tr>",
                            "<tr><td>HJ-1428</td><td>HJ</td></tr>",
                            "<tr><td>HJ-3410</td><td>HJ</td></tr>",
                            "<tr><td>HJ-3416</td><td>HJ</td></tr>",
                            "<tr><td>HJ-3816</td><td>HJ</td></tr>",
                            "<tr><td>HJ-3824</td><td>HJ</td></tr>",
                            "<tr><td>HJ-5161</td><td>HJ</td></tr>",
                            "<tr><td>HJ-5162</td><td>HJ</td></tr>",
                            "<tr><td>HJ-5811</td><td>HJ</td></tr>",
                            "<tr><td>HJ-5818</td><td>HJ</td></tr>",
                            "<tr><td>HJ-7161</td><td>HJ</td></tr>",
                            "<tr><td>HJ-7162</td><td>HJ</td></tr>",
                            "<tr><td>HJ-9080</td><td>HJ</td></tr>",
                            "<tr><td>HJ-9161</td><td>HJ</td></tr>",
                            "<tr><td>HL-U509</td><td>HL</td></tr>",
                            "<tr><td>HL-U509-B</td><td>HL</td></tr>",
                            "<tr><td>HL-U509-R</td><td>HL</td></tr>",
                            "<tr><td>HN-1024</td><td>HN</td></tr>",
                            "<tr><td>HN-1032</td><td>HN</td></tr>",
                            "<tr><td>HN-1213</td><td>HN</td></tr>",
                            "<tr><td>HN-1220</td><td>HN</td></tr>",
                            "<tr><td>HN-1224</td><td>HN</td></tr>",
                            "<tr><td>HN-1420</td><td>HN</td></tr>",
                            "<tr><td>HN-1428</td><td>HN</td></tr>",
                            "<tr><td>HN-3410</td><td>HN</td></tr>",
                            "<tr><td>HN-3416</td><td>HN</td></tr>",
                            "<tr><td>HN-3816</td><td>HN</td></tr>",
                            "<tr><td>HN-3824</td><td>HN</td></tr>",
                            "<tr><td>HN-4402</td><td>HN</td></tr>",
                            "<tr><td>HN-5161</td><td>HN</td></tr>",
                            "<tr><td>HN-5162</td><td>HN</td></tr>",
                            "<tr><td>HN-5400</td><td>HN</td></tr>",
                            "<tr><td>HN-5811</td><td>HN</td></tr>",
                            "<tr><td>HN-5818</td><td>HN</td></tr>",
                            "<tr><td>HN-6320</td><td>HN</td></tr>",
                            "<tr><td>HN-7161</td><td>HN</td></tr>",
                            "<tr><td>HN-7162</td><td>HN</td></tr>",
                            "<tr><td>HN-8320</td><td>HN</td></tr>",
                            "<tr><td>HN-9161</td><td>HN</td></tr>",
                            "<tr><td>HN-9168</td><td>HN</td></tr>",
                            "<tr><td>HS-0296</td><td>HS</td></tr>",
                            "<tr><td>HS-2451</td><td>HS</td></tr>",
                            "<tr><td>HS-3479</td><td>HS</td></tr>",
                            "<tr><td>HT-2981</td><td>HT</td></tr>",
                            "<tr><td>HT-8019</td><td>HT</td></tr>",
                            "<tr><td>HU-6280</td><td>HU</td></tr>",
                            "<tr><td>HU-8998</td><td>HU</td></tr>",
                            "<tr><td>HY-1023-70</td><td>HY</td></tr>",
                            "<tr><td>KW-4091</td><td>KW</td></tr>",
                            "<tr><td>LE-1000</td><td>LE</td></tr>",
                            "<tr><td>LE-1200</td><td>LE</td></tr>",
                            "<tr><td>LE-1201</td><td>LE</td></tr>",
                            "<tr><td>LE-1400</td><td>LE</td></tr>",
                            "<tr><td>LE-3800</td><td>LE</td></tr>",
                            "<tr><td>LE-5160</td><td>LE</td></tr>",
                            "<tr><td>LE-6000</td><td>LE</td></tr>",
                            "<tr><td>LE-7160</td><td>LE</td></tr>",
                            "<tr><td>LE-8000</td><td>LE</td></tr>",
                            "<tr><td>LI-1000</td><td>LI</td></tr>",
                            "<tr><td>LI-1200</td><td>LI</td></tr>",
                            "<tr><td>LI-1201</td><td>LI</td></tr>",
                            "<tr><td>LI-1400</td><td>LI</td></tr>",
                            "<tr><td>LI-3800</td><td>LI</td></tr>",
                            "<tr><td>LI-5160</td><td>LI</td></tr>",
                            "<tr><td>LI-5800</td><td>LI</td></tr>",
                            "<tr><td>LI-6000</td><td>LI</td></tr>",
                            "<tr><td>LI-7160</td><td>LI</td></tr>",
                            "<tr><td>LI-8000</td><td>LI</td></tr>",
                            "<tr><td>LJ-0192-L</td><td>LJ</td></tr>",
                            "<tr><td>LJ-0192-M</td><td>LJ</td></tr>",
                            "<tr><td>LJ-0192-S</td><td>LJ</td></tr>",
                            "<tr><td>LJ-0192-X</td><td>LJ</td></tr>",
                            "<tr><td>LJ-1213</td><td>LJ</td></tr>",
                            "<tr><td>LJ-1220</td><td>LJ</td></tr>",
                            "<tr><td>LJ-1420</td><td>LJ</td></tr>",
                            "<tr><td>LJ-1428</td><td>LJ</td></tr>",
                            "<tr><td>LJ-3410</td><td>LJ</td></tr>",
                            "<tr><td>LJ-3416</td><td>LJ</td></tr>",
                            "<tr><td>LJ-3816</td><td>LJ</td></tr>",
                            "<tr><td>LJ-3824</td><td>LJ</td></tr>",
                            "<tr><td>LJ-5161</td><td>LJ</td></tr>",
                            "<tr><td>LJ-5162</td><td>LJ</td></tr>",
                            "<tr><td>LJ-5811</td><td>LJ</td></tr>",
                            "<tr><td>LJ-5818</td><td>LJ</td></tr>",
                            "<tr><td>LJ-7161</td><td>LJ</td></tr>",
                            "<tr><td>LJ-7162</td><td>LJ</td></tr>",
                            "<tr><td>LJ-9080</td><td>LJ</td></tr>",
                            "<tr><td>LJ-9161</td><td>LJ</td></tr>",
                            "<tr><td>LN-1024</td><td>LN</td></tr>",
                            "<tr><td>LN-1032</td><td>LN</td></tr>",
                            "<tr><td>LN-1213</td><td>LN</td></tr>",
                            "<tr><td>LN-1220</td><td>LN</td></tr>",
                            "<tr><td>LN-1224</td><td>LN</td></tr>",
                            "<tr><td>LN-1420</td><td>LN</td></tr>",
                            "<tr><td>LN-1428</td><td>LN</td></tr>",
                            "<tr><td>LN-3410</td><td>LN</td></tr>",
                            "<tr><td>LN-3416</td><td>LN</td></tr>",
                            "<tr><td>LN-3816</td><td>LN</td></tr>",
                            "<tr><td>LN-3824</td><td>LN</td></tr>",
                            "<tr><td>LN-4400</td><td>LN</td></tr>",
                            "<tr><td>LN-5161</td><td>LN</td></tr>",
                            "<tr><td>LN-5162</td><td>LN</td></tr>",
                            "<tr><td>LN-5400</td><td>LN</td></tr>",
                            "<tr><td>LN-5811</td><td>LN</td></tr>",
                            "<tr><td>LN-5818</td><td>LN</td></tr>",
                            "<tr><td>LN-6320</td><td>LN</td></tr>",
                            "<tr><td>LN-7161</td><td>LN</td></tr>",
                            "<tr><td>LN-7162</td><td>LN</td></tr>",
                            "<tr><td>LN-8320</td><td>LN</td></tr>",
                            "<tr><td>LN-9080</td><td>LN</td></tr>",
                            "<tr><td>LN-9161</td><td>LN</td></tr>",
                            "<tr><td>LO-C100</td><td>LO</td></tr>",
                            "<tr><td>LR-2398</td><td>LR</td></tr>",
                            "<tr><td>LR-8520</td><td>LR</td></tr>",
                            "<tr><td>LT-H902</td><td>LT</td></tr>",
                            "<tr><td>LT-H903</td><td>LT</td></tr>",
                            "<tr><td>LT-T990</td><td>LT</td></tr>",
                            "<tr><td>LW-1000</td><td>LW</td></tr>",
                            "<tr><td>LW-1200</td><td>LW</td></tr>",
                            "<tr><td>LW-1201</td><td>LW</td></tr>",
                            "<tr><td>LW-1400</td><td>LW</td></tr>",
                            "<tr><td>LW-3400</td><td>LW</td></tr>",
                            "<tr><td>LW-3800</td><td>LW</td></tr>",
                            "<tr><td>LW-4000</td><td>LW</td></tr>",
                            "<tr><td>LW-5160</td><td>LW</td></tr>",
                            "<tr><td>LW-5800</td><td>LW</td></tr>",
                            "<tr><td>LW-6000</td><td>LW</td></tr>",
                            "<tr><td>LW-7160</td><td>LW</td></tr>",
                            "<tr><td>LW-8000</td><td>LW</td></tr>",
                            "<tr><td>LW-9160</td><td>LW</td></tr>",
                            "<tr><td>MA-7075</td><td>MA</td></tr>",
                            "<tr><td>MB-2024</td><td>MB</td></tr>",
                            "<tr><td>MB-6061</td><td>MB</td></tr>",
                            "<tr><td>MP-2066</td><td>MP</td></tr>",
                            "<tr><td>MP-2503</td><td>MP</td></tr>",
                            "<tr><td>MP-4960</td><td>MP</td></tr>",
                            "<tr><td>MS-0253</td><td>MS</td></tr>",
                            "<tr><td>MS-1256</td><td>MS</td></tr>",
                            "<tr><td>MS-1981</td><td>MS</td></tr>",
                            "<tr><td>MS-2259</td><td>MS</td></tr>",
                            "<tr><td>MS-2341</td><td>MS</td></tr>",
                            "<tr><td>MS-2348</td><td>MS</td></tr>",
                            "<tr><td>MS-6061</td><td>MS</td></tr>",
                            "<tr><td>MT-1000</td><td>MT</td></tr>",
                            "<tr><td>NI-4127</td><td>NI</td></tr>",
                            "<tr><td>NI-9522</td><td>NI</td></tr>",
                            "<tr><td>PA-187B</td><td>PA</td></tr>",
                            "<tr><td>PA-361R</td><td>PA</td></tr>",
                            "<tr><td>PA-529S</td><td>PA</td></tr>",
                            "<tr><td>PA-632U</td><td>PA</td></tr>",
                            "<tr><td>PA-823Y</td><td>PA</td></tr>",
                            "<tr><td>PA-T100</td><td>PA</td></tr>",
                            "<tr><td>PB-6109</td><td>PB</td></tr>",
                            "<tr><td>PD-M282</td><td>PD</td></tr>",
                            "<tr><td>PD-M340</td><td>PD</td></tr>",
                            "<tr><td>PD-M562</td><td>PD</td></tr>",
                            "<tr><td>PD-R347</td><td>PD</td></tr>",
                            "<tr><td>PD-R563</td><td>PD</td></tr>",
                            "<tr><td>PD-R853</td><td>PD</td></tr>",
                            "<tr><td>PD-T852</td><td>PD</td></tr>",
                            "<tr><td>PK-7098</td><td>PK</td></tr>",
                            "<tr><td>PU-0452</td><td>PU</td></tr>",
                            "<tr><td>PU-M044</td><td>PU</td></tr>",
                            "<tr><td>RA-2345</td><td>RA</td></tr>",
                            "<tr><td>RA-7490</td><td>RA</td></tr>",
                            "<tr><td>RA-H123</td><td>RA</td></tr>",
                            "<tr><td>RB-9231</td><td>RB</td></tr>",
                            "<tr><td>RC-0291</td><td>RC</td></tr>",
                            "<tr><td>RD-2308</td><td>RD</td></tr>",
                            "<tr><td>RF-9198</td><td>RF</td></tr>",
                            "<tr><td>RM-M464</td><td>RM</td></tr>",
                            "<tr><td>RM-M692</td><td>RM</td></tr>",
                            "<tr><td>RM-M823</td><td>RM</td></tr>",
                            "<tr><td>RM-R436</td><td>RM</td></tr>",
                            "<tr><td>RM-R600</td><td>RM</td></tr>",
                            "<tr><td>RM-R800</td><td>RM</td></tr>",
                            "<tr><td>RM-T801</td><td>RM</td></tr>",
                            "<tr><td>RW-M423</td><td>RW</td></tr>",
                            "<tr><td>RW-M762</td><td>RW</td></tr>",
                            "<tr><td>RW-M928</td><td>RW</td></tr>",
                            "<tr><td>RW-R623</td><td>RW</td></tr>",
                            "<tr><td>RW-R762</td><td>RW</td></tr>",
                            "<tr><td>RW-R820</td><td>RW</td></tr>",
                            "<tr><td>RW-T905</td><td>RW</td></tr>",
                            "<tr><td>SA-M198</td><td>SA</td></tr>",
                            "<tr><td>SA-M237</td><td>SA</td></tr>",
                            "<tr><td>SA-M687</td><td>SA</td></tr>",
                            "<tr><td>SA-R127</td><td>SA</td></tr>",
                            "<tr><td>SA-R430</td><td>SA</td></tr>",
                            "<tr><td>SA-R522</td><td>SA</td></tr>",
                            "<tr><td>SA-T467</td><td>SA</td></tr>",
                            "<tr><td>SA-T612</td><td>SA</td></tr>",
                            "<tr><td>SA-T872</td><td>SA</td></tr>",
                            "<tr><td>SB-M891-L</td><td>SB</td></tr>",
                            "<tr><td>SB-M891-M</td><td>SB</td></tr>",
                            "<tr><td>SB-M891-S</td><td>SB</td></tr>",
                            "<tr><td>SD-2342</td><td>SD</td></tr>",
                            "<tr><td>SD-9872</td><td>SD</td></tr>",
                            "<tr><td>SE-M236</td><td>SE</td></tr>",
                            "<tr><td>SE-M798</td><td>SE</td></tr>",
                            "<tr><td>SE-M940</td><td>SE</td></tr>",
                            "<tr><td>SE-R581</td><td>SE</td></tr>",
                            "<tr><td>SE-R908</td><td>SE</td></tr>",
                            "<tr><td>SE-R995</td><td>SE</td></tr>",
                            "<tr><td>SE-T312</td><td>SE</td></tr>",
                            "<tr><td>SE-T762</td><td>SE</td></tr>",
                            "<tr><td>SE-T924</td><td>SE</td></tr>",
                            "<tr><td>SH-4562</td><td>SH</td></tr>",
                            "<tr><td>SH-9312</td><td>SH</td></tr>",
                            "<tr><td>SH-M897-L</td><td>SH</td></tr>",
                            "<tr><td>SH-M897-M</td><td>SH</td></tr>",
                            "<tr><td>SH-M897-S</td><td>SH</td></tr>",
                            "<tr><td>SH-M897-X</td><td>SH</td></tr>",
                            "<tr><td>SH-W890-L</td><td>SH</td></tr>",
                            "<tr><td>SH-W890-M</td><td>SH</td></tr>",
                            "<tr><td>SH-W890-S</td><td>SH</td></tr>",
                            "<tr><td>SJ-0194-L</td><td>SJ</td></tr>",
                            "<tr><td>SJ-0194-M</td><td>SJ</td></tr>",
                            "<tr><td>SJ-0194-S</td><td>SJ</td></tr>",
                            "<tr><td>SJ-0194-X</td><td>SJ</td></tr>",
                            "<tr><td>SK-9283</td><td>SK</td></tr>",
                            "<tr><td>SL-0931</td><td>SL</td></tr>",
                            "<tr><td>SM-9087</td><td>SM</td></tr>",
                            "<tr><td>SO-B909-L</td><td>SO</td></tr>",
                            "<tr><td>SO-B909-M</td><td>SO</td></tr>",
                            "<tr><td>SO-R809-L</td><td>SO</td></tr>",
                            "<tr><td>SO-R809-M</td><td>SO</td></tr>",
                            "<tr><td>SP-2981</td><td>SP</td></tr>",
                            "<tr><td>SR-2098</td><td>SR</td></tr>",
                            "<tr><td>SS-2985</td><td>SS</td></tr>",
                            "<tr><td>ST-1401</td><td>ST</td></tr>",
                            "<tr><td>ST-9828</td><td>ST</td></tr>",
                            "<tr><td>TG-W091-L</td><td>TG</td></tr>",
                            "<tr><td>TG-W091-M</td><td>TG</td></tr>",
                            "<tr><td>TG-W091-S</td><td>TG</td></tr>",
                            "<tr><td>TI-M267</td><td>TI</td></tr>",
                            "<tr><td>TI-M602</td><td>TI</td></tr>",
                            "<tr><td>TI-M823</td><td>TI</td></tr>",
                            "<tr><td>TI-R092</td><td>TI</td></tr>",
                            "<tr><td>TI-R628</td><td>TI</td></tr>",
                            "<tr><td>TI-R982</td><td>TI</td></tr>",
                            "<tr><td>TI-T723</td><td>TI</td></tr>",
                            "<tr><td>TO-2301</td><td>TO</td></tr>",
                            "<tr><td>TP-0923</td><td>TP</td></tr>",
                            "<tr><td>TT-M928</td><td>TT</td></tr>",
                            "<tr><td>TT-R982</td><td>TT</td></tr>",
                            "<tr><td>TT-T092</td><td>TT</td></tr>",
                            "<tr><td>VE-C304-L</td><td>VE</td></tr>",
                            "<tr><td>VE-C304-M</td><td>VE</td></tr>",
                            "<tr><td>VE-C304-S</td><td>VE</td></tr>",
                            "<tr><td>WB-H098</td><td>WB</td></tr>",
                            "</table>"
                        ]
                    }
                }
            ],
            "execution_count": 6
        },
        {
            "cell_type": "markdown",
            "source": [
                "# 9.7 Returning Part of a String (SUBSTRING) \n",
                "## **Question 4. (explanation)**\n",
                "## What is the SYNTAX for using the SUBSTRING function?\n",
                "## The SYNTAX for using the SUBSTRING function in SQL is: SUBSTRING(input_string, start_position, length), where it extracts a substring from the preferred input_string starting at a start_position for number of length of characters."
            ],
            "metadata": {
                "azdata_cell_guid": "c479cea4-7af3-409b-a336-127cc4637ff6"
            },
            "attachments": {}
        },
        {
            "cell_type": "markdown",
            "source": [
                "# 9.8 Counting Characters or Bytes in a String \r\n",
                "## **Question 5. (screenshot: query and result)** \r\n",
                "## Use table Production.ProductReview. Find the number of characters in the comments column.\r\n",
                ""
            ],
            "metadata": {
                "azdata_cell_guid": "13539ad8-ecbb-4501-8510-62a7e5c96320"
            },
            "attachments": {}
        },
        {
            "cell_type": "code",
            "source": [
                "SELECT Comments,\r\n",
                "       LEN(Comments) AS NumberOfCharacters\r\n",
                "FROM AdventureWorks2022.Production.ProductReview;"
            ],
            "metadata": {
                "azdata_cell_guid": "adac030f-2c71-49c9-9f87-7b4513d9e2b5",
                "language": "sql"
            },
            "outputs": [
                {
                    "output_type": "display_data",
                    "data": {
                        "text/html": "(4 rows affected)"
                    },
                    "metadata": {}
                },
                {
                    "output_type": "display_data",
                    "data": {
                        "text/html": "Total execution time: 00:00:00.007"
                    },
                    "metadata": {}
                },
                {
                    "output_type": "execute_result",
                    "metadata": {},
                    "execution_count": 7,
                    "data": {
                        "application/vnd.dataresource+json": {
                            "schema": {
                                "fields": [
                                    {
                                        "name": "Comments"
                                    },
                                    {
                                        "name": "NumberOfCharacters"
                                    }
                                ]
                            },
                            "data": [
                                {
                                    "Comments": "I can't believe I'm singing the praises of a pair of socks, but I just came back from a grueling\r\n3-day ride and these socks really helped make the trip a blast. They're lightweight yet really cushioned my feet all day. \r\nThe reinforced toe is nearly bullet-proof and I didn't experience any problems with rubbing or blisters like I have with\r\nother brands. I know it sounds silly, but it's always the little stuff (like comfortable feet) that makes or breaks a long trip.\r\nI won't go on another trip without them!",
                                    "NumberOfCharacters": "514"
                                },
                                {
                                    "Comments": "A little on the heavy side, but overall the entry/exit is easy in all conditions. I've used these pedals for \r\nmore than 3 years and I've never had a problem. Cleanup is easy. Mud and sand don't get trapped. I would like \r\nthem even better if there was a weight reduction. Maybe in the next design. Still, I would recommend them to a friend.",
                                    "NumberOfCharacters": "341"
                                },
                                {
                                    "Comments": "Maybe it's just because I'm new to mountain biking, but I had a terrible time getting use\r\nto these pedals. In my first outing, I wiped out trying to release my foot. Any suggestions on\r\nways I can adjust the pedals, or is it just a learning curve thing?",
                                    "NumberOfCharacters": "254"
                                },
                                {
                                    "Comments": "The Road-550-W from Adventure Works Cycles is everything it's advertised to be. Finally, a quality bike that\r\nis actually built for a woman and provides control and comfort in one neat package. The top tube is shorter, the suspension is weight-tuned and there's a much shorter reach to the brake\r\nlevers. All this adds up to a great mountain bike that is sure to accommodate any woman's anatomy. In addition to getting the size right, the saddle is incredibly comfortable. \r\nAttention to detail is apparent in every aspect from the frame finish to the careful design of each component. Each component is a solid performer without any fluff. \r\nThe designers clearly did their homework and thought about size, weight, and funtionality throughout. And at less than 19 pounds, the bike is manageable for even the most petite cyclist.\r\n\r\nWe had 5 riders take the bike out for a spin and really put it to the test. The results were consistent and very positive. Our testers loved the manuverability \r\nand control they had with the redesigned frame on the 550-W. A definite improvement over the 2002 design. Four out of five testers listed quick handling\r\nand responsivness were the key elements they noticed. Technical climbing and on the flats, the bike just cruises through the rough. Tight corners and obstacles were handled effortlessly. The fifth tester was more impressed with the smooth ride. The heavy-duty shocks absorbed even the worst bumps and provided a soft ride on all but the \r\nnastiest trails and biggest drops. The shifting was rated superb and typical of what we've come to expect from Adventure Works Cycles. On descents, the bike handled flawlessly and tracked very well. The bike is well balanced front-to-rear and frame flex was minimal. In particular, the testers\r\nnoted that the brake system had a unique combination of power and modulation.  While some brake setups can be overly touchy, these brakes had a good\r\namount of power, but also a good feel that allows you to apply as little or as much braking power as is needed. Second is their short break-in period. We found that they tend to break-in well before\r\nthe end of the first ride; while others take two to three rides (or more) to come to full power. \r\n\r\nOn the negative side, the pedals were not quite up to our tester's standards. \r\nJust for fun, we experimented with routine maintenance tasks. Overall we found most operations to be straight forward and easy to complete. The only exception was replacing the front wheel. The maintenance manual that comes\r\nwith the bike say to install the front wheel with the axle quick release or bolt, then compress the fork a few times before fastening and tightening the two quick-release mechanisms on the bottom of the dropouts. This is to seat the axle in the dropouts, and if you do not\r\ndo this, the axle will become seated after you tightened the two bottom quick releases, which will then become loose. It's better to test the tightness carefully or you may notice that the two bottom quick releases have come loose enough to fall completely open. And that's something you don't want to experience\r\nwhile out on the road! \r\n\r\nThe Road-550-W frame is available in a variety of sizes and colors and has the same durable, high-quality aluminum that AWC is known for. At a MSRP of just under $1125.00, it's comparable in price to its closest competitors and\r\nwe think that after a test drive you'l find the quality and performance above and beyond . You'll have a grin on your face and be itching to get out on the road for more. While designed for serious road racing, the Road-550-W would be an excellent choice for just about any terrain and \r\nany level of experience. It's a huge step in the right direction for female cyclists and well worth your consideration and hard-earned money.",
                                    "NumberOfCharacters": "3812"
                                }
                            ]
                        },
                        "text/html": [
                            "<table>",
                            "<tr><th>Comments</th><th>NumberOfCharacters</th></tr>",
                            "<tr><td>I can&#39;t believe I&#39;m singing the praises of a pair of socks, but I just came back from a grueling\r\n3-day ride and these socks really helped make the trip a blast. They&#39;re lightweight yet really cushioned my feet all day. \r\nThe reinforced toe is nearly bullet-proof and I didn&#39;t experience any problems with rubbing or blisters like I have with\r\nother brands. I know it sounds silly, but it&#39;s always the little stuff (like comfortable feet) that makes or breaks a long trip.\r\nI won&#39;t go on another trip without them!</td><td>514</td></tr>",
                            "<tr><td>A little on the heavy side, but overall the entry/exit is easy in all conditions. I&#39;ve used these pedals for \r\nmore than 3 years and I&#39;ve never had a problem. Cleanup is easy. Mud and sand don&#39;t get trapped. I would like \r\nthem even better if there was a weight reduction. Maybe in the next design. Still, I would recommend them to a friend.</td><td>341</td></tr>",
                            "<tr><td>Maybe it&#39;s just because I&#39;m new to mountain biking, but I had a terrible time getting use\r\nto these pedals. In my first outing, I wiped out trying to release my foot. Any suggestions on\r\nways I can adjust the pedals, or is it just a learning curve thing?</td><td>254</td></tr>",
                            "<tr><td>The Road-550-W from Adventure Works Cycles is everything it&#39;s advertised to be. Finally, a quality bike that\r\nis actually built for a woman and provides control and comfort in one neat package. The top tube is shorter, the suspension is weight-tuned and there&#39;s a much shorter reach to the brake\r\nlevers. All this adds up to a great mountain bike that is sure to accommodate any woman&#39;s anatomy. In addition to getting the size right, the saddle is incredibly comfortable. \r\nAttention to detail is apparent in every aspect from the frame finish to the careful design of each component. Each component is a solid performer without any fluff. \r\nThe designers clearly did their homework and thought about size, weight, and funtionality throughout. And at less than 19 pounds, the bike is manageable for even the most petite cyclist.\r\n\r\nWe had 5 riders take the bike out for a spin and really put it to the test. The results were consistent and very positive. Our testers loved the manuverability \r\nand control they had with the redesigned frame on the 550-W. A definite improvement over the 2002 design. Four out of five testers listed quick handling\r\nand responsivness were the key elements they noticed. Technical climbing and on the flats, the bike just cruises through the rough. Tight corners and obstacles were handled effortlessly. The fifth tester was more impressed with the smooth ride. The heavy-duty shocks absorbed even the worst bumps and provided a soft ride on all but the \r\nnastiest trails and biggest drops. The shifting was rated superb and typical of what we&#39;ve come to expect from Adventure Works Cycles. On descents, the bike handled flawlessly and tracked very well. The bike is well balanced front-to-rear and frame flex was minimal. In particular, the testers\r\nnoted that the brake system had a unique combination of power and modulation.  While some brake setups can be overly touchy, these brakes had a good\r\namount of power, but also a good feel that allows you to apply as little or as much braking power as is needed. Second is their short break-in period. We found that they tend to break-in well before\r\nthe end of the first ride; while others take two to three rides (or more) to come to full power. \r\n\r\nOn the negative side, the pedals were not quite up to our tester&#39;s standards. \r\nJust for fun, we experimented with routine maintenance tasks. Overall we found most operations to be straight forward and easy to complete. The only exception was replacing the front wheel. The maintenance manual that comes\r\nwith the bike say to install the front wheel with the axle quick release or bolt, then compress the fork a few times before fastening and tightening the two quick-release mechanisms on the bottom of the dropouts. This is to seat the axle in the dropouts, and if you do not\r\ndo this, the axle will become seated after you tightened the two bottom quick releases, which will then become loose. It&#39;s better to test the tightness carefully or you may notice that the two bottom quick releases have come loose enough to fall completely open. And that&#39;s something you don&#39;t want to experience\r\nwhile out on the road! \r\n\r\nThe Road-550-W frame is available in a variety of sizes and colors and has the same durable, high-quality aluminum that AWC is known for. At a MSRP of just under $1125.00, it&#39;s comparable in price to its closest competitors and\r\nwe think that after a test drive you&#39;l find the quality and performance above and beyond . You&#39;ll have a grin on your face and be itching to get out on the road for more. While designed for serious road racing, the Road-550-W would be an excellent choice for just about any terrain and \r\nany level of experience. It&#39;s a huge step in the right direction for female cyclists and well worth your consideration and hard-earned money.</td><td>3812</td></tr>",
                            "</table>"
                        ]
                    }
                }
            ],
            "execution_count": 7
        },
        {
            "cell_type": "markdown",
            "source": [
                "# 9.9 Replacing Part of a String \n",
                "## **Question 6. (screenshot: query and result)** \n",
                "## Use the table Production.UnitMeasure, column Name. We want to replace all occurrences of the word ‘centimeter’ with the abbreviation ‘cm’ in our results."
            ],
            "metadata": {
                "azdata_cell_guid": "a73b1ede-2bd7-4cd2-82dd-89e6eb91ef4b"
            },
            "attachments": {}
        },
        {
            "cell_type": "code",
            "source": [
                "SELECT Name,\r\n",
                "       REPLACE(Name, 'centimeter', 'cm') AS UnitMeasure\r\n",
                "FROM Production.UnitMeasure;"
            ],
            "metadata": {
                "azdata_cell_guid": "6b29a7a0-16b3-4bb1-94d6-8db1861dd841",
                "language": "sql"
            },
            "outputs": [
                {
                    "output_type": "display_data",
                    "data": {
                        "text/html": "(38 rows affected)"
                    },
                    "metadata": {}
                },
                {
                    "output_type": "display_data",
                    "data": {
                        "text/html": "Total execution time: 00:00:00.006"
                    },
                    "metadata": {}
                },
                {
                    "output_type": "execute_result",
                    "metadata": {},
                    "execution_count": 8,
                    "data": {
                        "application/vnd.dataresource+json": {
                            "schema": {
                                "fields": [
                                    {
                                        "name": "Name"
                                    },
                                    {
                                        "name": "UnitMeasure"
                                    }
                                ]
                            },
                            "data": [
                                {
                                    "Name": "Bottle",
                                    "UnitMeasure": "Bottle"
                                },
                                {
                                    "Name": "Boxes",
                                    "UnitMeasure": "Boxes"
                                },
                                {
                                    "Name": "Canister",
                                    "UnitMeasure": "Canister"
                                },
                                {
                                    "Name": "Carton",
                                    "UnitMeasure": "Carton"
                                },
                                {
                                    "Name": "Case",
                                    "UnitMeasure": "Case"
                                },
                                {
                                    "Name": "Celsius",
                                    "UnitMeasure": "Celsius"
                                },
                                {
                                    "Name": "Centimeter",
                                    "UnitMeasure": "cm"
                                },
                                {
                                    "Name": "Container",
                                    "UnitMeasure": "Container"
                                },
                                {
                                    "Name": "Crate",
                                    "UnitMeasure": "Crate"
                                },
                                {
                                    "Name": "Cubic centimeter",
                                    "UnitMeasure": "Cubic cm"
                                },
                                {
                                    "Name": "Cubic decimeter",
                                    "UnitMeasure": "Cubic decimeter"
                                },
                                {
                                    "Name": "Cubic foot",
                                    "UnitMeasure": "Cubic foot"
                                },
                                {
                                    "Name": "Cubic meter",
                                    "UnitMeasure": "Cubic meter"
                                },
                                {
                                    "Name": "Cubic meters",
                                    "UnitMeasure": "Cubic meters"
                                },
                                {
                                    "Name": "Decimeter",
                                    "UnitMeasure": "Decimeter"
                                },
                                {
                                    "Name": "Dozen",
                                    "UnitMeasure": "Dozen"
                                },
                                {
                                    "Name": "Each",
                                    "UnitMeasure": "Each"
                                },
                                {
                                    "Name": "Gallon",
                                    "UnitMeasure": "Gallon"
                                },
                                {
                                    "Name": "Gram",
                                    "UnitMeasure": "Gram"
                                },
                                {
                                    "Name": "Inch",
                                    "UnitMeasure": "Inch"
                                },
                                {
                                    "Name": "Kilogram",
                                    "UnitMeasure": "Kilogram"
                                },
                                {
                                    "Name": "Kilogram/cubic meter",
                                    "UnitMeasure": "Kilogram/cubic meter"
                                },
                                {
                                    "Name": "Kilometer",
                                    "UnitMeasure": "Kilometer"
                                },
                                {
                                    "Name": "Kiloton",
                                    "UnitMeasure": "Kiloton"
                                },
                                {
                                    "Name": "Liter",
                                    "UnitMeasure": "Liter"
                                },
                                {
                                    "Name": "Meter",
                                    "UnitMeasure": "Meter"
                                },
                                {
                                    "Name": "Milligram",
                                    "UnitMeasure": "Milligram"
                                },
                                {
                                    "Name": "Milliliter",
                                    "UnitMeasure": "Milliliter"
                                },
                                {
                                    "Name": "Millimeter",
                                    "UnitMeasure": "Millimeter"
                                },
                                {
                                    "Name": "Ounces",
                                    "UnitMeasure": "Ounces"
                                },
                                {
                                    "Name": "Pack",
                                    "UnitMeasure": "Pack"
                                },
                                {
                                    "Name": "Pallet",
                                    "UnitMeasure": "Pallet"
                                },
                                {
                                    "Name": "Percentage",
                                    "UnitMeasure": "Percentage"
                                },
                                {
                                    "Name": "Piece",
                                    "UnitMeasure": "Piece"
                                },
                                {
                                    "Name": "Pint, US liquid",
                                    "UnitMeasure": "Pint, US liquid"
                                },
                                {
                                    "Name": "Square centimeter",
                                    "UnitMeasure": "Square cm"
                                },
                                {
                                    "Name": "Square meter",
                                    "UnitMeasure": "Square meter"
                                },
                                {
                                    "Name": "US pound",
                                    "UnitMeasure": "US pound"
                                }
                            ]
                        },
                        "text/html": [
                            "<table>",
                            "<tr><th>Name</th><th>UnitMeasure</th></tr>",
                            "<tr><td>Bottle</td><td>Bottle</td></tr>",
                            "<tr><td>Boxes</td><td>Boxes</td></tr>",
                            "<tr><td>Canister</td><td>Canister</td></tr>",
                            "<tr><td>Carton</td><td>Carton</td></tr>",
                            "<tr><td>Case</td><td>Case</td></tr>",
                            "<tr><td>Celsius</td><td>Celsius</td></tr>",
                            "<tr><td>Centimeter</td><td>cm</td></tr>",
                            "<tr><td>Container</td><td>Container</td></tr>",
                            "<tr><td>Crate</td><td>Crate</td></tr>",
                            "<tr><td>Cubic centimeter</td><td>Cubic cm</td></tr>",
                            "<tr><td>Cubic decimeter</td><td>Cubic decimeter</td></tr>",
                            "<tr><td>Cubic foot</td><td>Cubic foot</td></tr>",
                            "<tr><td>Cubic meter</td><td>Cubic meter</td></tr>",
                            "<tr><td>Cubic meters</td><td>Cubic meters</td></tr>",
                            "<tr><td>Decimeter</td><td>Decimeter</td></tr>",
                            "<tr><td>Dozen</td><td>Dozen</td></tr>",
                            "<tr><td>Each</td><td>Each</td></tr>",
                            "<tr><td>Gallon</td><td>Gallon</td></tr>",
                            "<tr><td>Gram</td><td>Gram</td></tr>",
                            "<tr><td>Inch</td><td>Inch</td></tr>",
                            "<tr><td>Kilogram</td><td>Kilogram</td></tr>",
                            "<tr><td>Kilogram/cubic meter</td><td>Kilogram/cubic meter</td></tr>",
                            "<tr><td>Kilometer</td><td>Kilometer</td></tr>",
                            "<tr><td>Kiloton</td><td>Kiloton</td></tr>",
                            "<tr><td>Liter</td><td>Liter</td></tr>",
                            "<tr><td>Meter</td><td>Meter</td></tr>",
                            "<tr><td>Milligram</td><td>Milligram</td></tr>",
                            "<tr><td>Milliliter</td><td>Milliliter</td></tr>",
                            "<tr><td>Millimeter</td><td>Millimeter</td></tr>",
                            "<tr><td>Ounces</td><td>Ounces</td></tr>",
                            "<tr><td>Pack</td><td>Pack</td></tr>",
                            "<tr><td>Pallet</td><td>Pallet</td></tr>",
                            "<tr><td>Percentage</td><td>Percentage</td></tr>",
                            "<tr><td>Piece</td><td>Piece</td></tr>",
                            "<tr><td>Pint, US liquid</td><td>Pint, US liquid</td></tr>",
                            "<tr><td>Square centimeter</td><td>Square cm</td></tr>",
                            "<tr><td>Square meter</td><td>Square meter</td></tr>",
                            "<tr><td>US pound</td><td>US pound</td></tr>",
                            "</table>"
                        ]
                    }
                }
            ],
            "execution_count": 8
        },
        {
            "cell_type": "markdown",
            "source": [
                "# 9.10 Inserting a string, into another string. \r\n",
                "## **Question 7. (explanation)** \r\n",
                "## <u>What function is used to insert a string into another string?</u>\r\n",
                "## The STUFF function in SQL lets you replace part of a string starting at a specified position with another string.\r\n",
                "\r\n",
                "## <u>What is the syntax we would use?</u>\r\n",
                "## Syntax: STUFF(original_string, start_position, length_to_replace, insert_string)\r\n",
                "## SELECT STUFF ('My cat''s name is X. Have you met him?', 18, 1, 'Edgar' );"
            ],
            "metadata": {
                "azdata_cell_guid": "dde09872-2c87-4df3-aeb8-70bd8910ca16"
            },
            "attachments": {}
        },
        {
            "cell_type": "markdown",
            "source": [
                "# 9.11 Changing Character Case (UPPER and LOWER) \r\n",
                "## **Question 8. (screenshot: query and result)**\r\n",
                "## Use the table Production.ScrapReason, column Name. Select the Name, the Name in all uppercase as Caps, and the Name in lowercase as Lower. You should have 3 columns in the results. Name, Caps, and Lower.\r\n",
                ""
            ],
            "metadata": {
                "azdata_cell_guid": "3f8c793f-2672-4908-a82b-a42d8183171f"
            },
            "attachments": {}
        },
        {
            "cell_type": "code",
            "source": [
                "SELECT Name,\r\n",
                "       UPPER(Name) AS Caps,\r\n",
                "       LOWER(Name) AS Lower\r\n",
                "FROM AdventureWorks2022.Production.ScrapReason;\r\n",
                ""
            ],
            "metadata": {
                "azdata_cell_guid": "d45f2c10-d90d-4320-8296-72cea16e3140",
                "language": "sql"
            },
            "outputs": [
                {
                    "output_type": "display_data",
                    "data": {
                        "text/html": "(16 rows affected)"
                    },
                    "metadata": {}
                },
                {
                    "output_type": "display_data",
                    "data": {
                        "text/html": "Total execution time: 00:00:00.005"
                    },
                    "metadata": {}
                },
                {
                    "output_type": "execute_result",
                    "metadata": {},
                    "execution_count": 9,
                    "data": {
                        "application/vnd.dataresource+json": {
                            "schema": {
                                "fields": [
                                    {
                                        "name": "Name"
                                    },
                                    {
                                        "name": "Caps"
                                    },
                                    {
                                        "name": "Lower"
                                    }
                                ]
                            },
                            "data": [
                                {
                                    "Name": "Brake assembly not as ordered",
                                    "Caps": "BRAKE ASSEMBLY NOT AS ORDERED",
                                    "Lower": "brake assembly not as ordered"
                                },
                                {
                                    "Name": "Color incorrect",
                                    "Caps": "COLOR INCORRECT",
                                    "Lower": "color incorrect"
                                },
                                {
                                    "Name": "Drill pattern incorrect",
                                    "Caps": "DRILL PATTERN INCORRECT",
                                    "Lower": "drill pattern incorrect"
                                },
                                {
                                    "Name": "Drill size too large",
                                    "Caps": "DRILL SIZE TOO LARGE",
                                    "Lower": "drill size too large"
                                },
                                {
                                    "Name": "Drill size too small",
                                    "Caps": "DRILL SIZE TOO SMALL",
                                    "Lower": "drill size too small"
                                },
                                {
                                    "Name": "Gouge in metal",
                                    "Caps": "GOUGE IN METAL",
                                    "Lower": "gouge in metal"
                                },
                                {
                                    "Name": "Handling damage",
                                    "Caps": "HANDLING DAMAGE",
                                    "Lower": "handling damage"
                                },
                                {
                                    "Name": "Paint process failed",
                                    "Caps": "PAINT PROCESS FAILED",
                                    "Lower": "paint process failed"
                                },
                                {
                                    "Name": "Primer process failed",
                                    "Caps": "PRIMER PROCESS FAILED",
                                    "Lower": "primer process failed"
                                },
                                {
                                    "Name": "Seat assembly not as ordered",
                                    "Caps": "SEAT ASSEMBLY NOT AS ORDERED",
                                    "Lower": "seat assembly not as ordered"
                                },
                                {
                                    "Name": "Stress test failed",
                                    "Caps": "STRESS TEST FAILED",
                                    "Lower": "stress test failed"
                                },
                                {
                                    "Name": "Thermoform temperature too high",
                                    "Caps": "THERMOFORM TEMPERATURE TOO HIGH",
                                    "Lower": "thermoform temperature too high"
                                },
                                {
                                    "Name": "Thermoform temperature too low",
                                    "Caps": "THERMOFORM TEMPERATURE TOO LOW",
                                    "Lower": "thermoform temperature too low"
                                },
                                {
                                    "Name": "Trim length too long",
                                    "Caps": "TRIM LENGTH TOO LONG",
                                    "Lower": "trim length too long"
                                },
                                {
                                    "Name": "Trim length too short",
                                    "Caps": "TRIM LENGTH TOO SHORT",
                                    "Lower": "trim length too short"
                                },
                                {
                                    "Name": "Wheel misaligned",
                                    "Caps": "WHEEL MISALIGNED",
                                    "Lower": "wheel misaligned"
                                }
                            ]
                        },
                        "text/html": [
                            "<table>",
                            "<tr><th>Name</th><th>Caps</th><th>Lower</th></tr>",
                            "<tr><td>Brake assembly not as ordered</td><td>BRAKE ASSEMBLY NOT AS ORDERED</td><td>brake assembly not as ordered</td></tr>",
                            "<tr><td>Color incorrect</td><td>COLOR INCORRECT</td><td>color incorrect</td></tr>",
                            "<tr><td>Drill pattern incorrect</td><td>DRILL PATTERN INCORRECT</td><td>drill pattern incorrect</td></tr>",
                            "<tr><td>Drill size too large</td><td>DRILL SIZE TOO LARGE</td><td>drill size too large</td></tr>",
                            "<tr><td>Drill size too small</td><td>DRILL SIZE TOO SMALL</td><td>drill size too small</td></tr>",
                            "<tr><td>Gouge in metal</td><td>GOUGE IN METAL</td><td>gouge in metal</td></tr>",
                            "<tr><td>Handling damage</td><td>HANDLING DAMAGE</td><td>handling damage</td></tr>",
                            "<tr><td>Paint process failed</td><td>PAINT PROCESS FAILED</td><td>paint process failed</td></tr>",
                            "<tr><td>Primer process failed</td><td>PRIMER PROCESS FAILED</td><td>primer process failed</td></tr>",
                            "<tr><td>Seat assembly not as ordered</td><td>SEAT ASSEMBLY NOT AS ORDERED</td><td>seat assembly not as ordered</td></tr>",
                            "<tr><td>Stress test failed</td><td>STRESS TEST FAILED</td><td>stress test failed</td></tr>",
                            "<tr><td>Thermoform temperature too high</td><td>THERMOFORM TEMPERATURE TOO HIGH</td><td>thermoform temperature too high</td></tr>",
                            "<tr><td>Thermoform temperature too low</td><td>THERMOFORM TEMPERATURE TOO LOW</td><td>thermoform temperature too low</td></tr>",
                            "<tr><td>Trim length too long</td><td>TRIM LENGTH TOO LONG</td><td>trim length too long</td></tr>",
                            "<tr><td>Trim length too short</td><td>TRIM LENGTH TOO SHORT</td><td>trim length too short</td></tr>",
                            "<tr><td>Wheel misaligned</td><td>WHEEL MISALIGNED</td><td>wheel misaligned</td></tr>",
                            "</table>"
                        ]
                    }
                }
            ],
            "execution_count": 9
        },
        {
            "cell_type": "markdown",
            "source": [
                "# 9.12 Removing Leading and Trailing Blanks \r\n",
                "## **Question 9. (3 parts)**\r\n",
                "## **9a. (explanation)** \r\n",
                "## <u>What two functions can we use to trim leading and trailing blanks from a string?</u>\r\n",
                "## The two functions we can use to trim leading (spaces at the beginning) and trailing (spaces at the end) blanks from a string are LTRIM for leading spaces and RTRIM for trailing spaces.\r\n",
                "\r\n",
                "# 9.13 Repeat an Expression N Times \r\n",
                "## **9b. (explanation)**\r\n",
                "## <u>What does the following query do?</u>\r\n",
                "## <u>SELECT REPLICATE('SQL ', 10)</u>\r\n",
                "## The query SELECT REPLICATE('SQL ', 10) in SQL creates a new string by repeating the phrase 'SQL ' ten times consecutively, resulting in 'SQL SQL SQL SQL SQL SQL SQL SQL SQL SQL '.\r\n",
                ""
            ],
            "metadata": {
                "azdata_cell_guid": "6a279325-60ef-4d19-a2d7-b7f9ef23e299"
            },
            "attachments": {}
        },
        {
            "cell_type": "markdown",
            "source": [
                "# 9.14 Repeat a Blank Space N Times \n",
                "## **9c. (screenshot: query and result)**\n",
                "## Use Person.Address table. CONCAT the City and PostalCode columns with 20  Spaces between City and PostalCode.  Limit the results to where the City is Lakewood."
            ],
            "metadata": {
                "azdata_cell_guid": "ba60b9bf-914a-4b7e-8a20-a7e8da95e3d4"
            },
            "attachments": {}
        },
        {
            "cell_type": "code",
            "source": [
                "SELECT City,\r\n",
                "       PostalCode,\r\n",
                "       CONCAT(City, REPLICATE(' ', 20), PostalCode) AS CityPostalCode\r\n",
                "FROM AdventureWorks2022.Person.Address\r\n",
                "WHERE City = 'Lakewood';"
            ],
            "metadata": {
                "azdata_cell_guid": "81f4e69a-8c51-4b59-8357-79d91e7c1c81",
                "language": "sql"
            },
            "outputs": [
                {
                    "output_type": "display_data",
                    "data": {
                        "text/html": "(85 rows affected)"
                    },
                    "metadata": {}
                },
                {
                    "output_type": "display_data",
                    "data": {
                        "text/html": "Total execution time: 00:00:00.017"
                    },
                    "metadata": {}
                },
                {
                    "output_type": "execute_result",
                    "metadata": {},
                    "execution_count": 10,
                    "data": {
                        "application/vnd.dataresource+json": {
                            "schema": {
                                "fields": [
                                    {
                                        "name": "City"
                                    },
                                    {
                                        "name": "PostalCode"
                                    },
                                    {
                                        "name": "CityPostalCode"
                                    }
                                ]
                            },
                            "data": [
                                {
                                    "City": "Lakewood",
                                    "PostalCode": "90712",
                                    "CityPostalCode": "Lakewood                    90712"
                                },
                                {
                                    "City": "Lakewood",
                                    "PostalCode": "90712",
                                    "CityPostalCode": "Lakewood                    90712"
                                },
                                {
                                    "City": "Lakewood",
                                    "PostalCode": "90712",
                                    "CityPostalCode": "Lakewood                    90712"
                                },
                                {
                                    "City": "Lakewood",
                                    "PostalCode": "90712",
                                    "CityPostalCode": "Lakewood                    90712"
                                },
                                {
                                    "City": "Lakewood",
                                    "PostalCode": "90712",
                                    "CityPostalCode": "Lakewood                    90712"
                                },
                                {
                                    "City": "Lakewood",
                                    "PostalCode": "90712",
                                    "CityPostalCode": "Lakewood                    90712"
                                },
                                {
                                    "City": "Lakewood",
                                    "PostalCode": "90712",
                                    "CityPostalCode": "Lakewood                    90712"
                                },
                                {
                                    "City": "Lakewood",
                                    "PostalCode": "90712",
                                    "CityPostalCode": "Lakewood                    90712"
                                },
                                {
                                    "City": "Lakewood",
                                    "PostalCode": "90712",
                                    "CityPostalCode": "Lakewood                    90712"
                                },
                                {
                                    "City": "Lakewood",
                                    "PostalCode": "90712",
                                    "CityPostalCode": "Lakewood                    90712"
                                },
                                {
                                    "City": "Lakewood",
                                    "PostalCode": "90712",
                                    "CityPostalCode": "Lakewood                    90712"
                                },
                                {
                                    "City": "Lakewood",
                                    "PostalCode": "90712",
                                    "CityPostalCode": "Lakewood                    90712"
                                },
                                {
                                    "City": "Lakewood",
                                    "PostalCode": "90712",
                                    "CityPostalCode": "Lakewood                    90712"
                                },
                                {
                                    "City": "Lakewood",
                                    "PostalCode": "90712",
                                    "CityPostalCode": "Lakewood                    90712"
                                },
                                {
                                    "City": "Lakewood",
                                    "PostalCode": "90712",
                                    "CityPostalCode": "Lakewood                    90712"
                                },
                                {
                                    "City": "Lakewood",
                                    "PostalCode": "90712",
                                    "CityPostalCode": "Lakewood                    90712"
                                },
                                {
                                    "City": "Lakewood",
                                    "PostalCode": "90712",
                                    "CityPostalCode": "Lakewood                    90712"
                                },
                                {
                                    "City": "Lakewood",
                                    "PostalCode": "90712",
                                    "CityPostalCode": "Lakewood                    90712"
                                },
                                {
                                    "City": "Lakewood",
                                    "PostalCode": "90712",
                                    "CityPostalCode": "Lakewood                    90712"
                                },
                                {
                                    "City": "Lakewood",
                                    "PostalCode": "90712",
                                    "CityPostalCode": "Lakewood                    90712"
                                },
                                {
                                    "City": "Lakewood",
                                    "PostalCode": "90712",
                                    "CityPostalCode": "Lakewood                    90712"
                                },
                                {
                                    "City": "Lakewood",
                                    "PostalCode": "90712",
                                    "CityPostalCode": "Lakewood                    90712"
                                },
                                {
                                    "City": "Lakewood",
                                    "PostalCode": "90712",
                                    "CityPostalCode": "Lakewood                    90712"
                                },
                                {
                                    "City": "Lakewood",
                                    "PostalCode": "90712",
                                    "CityPostalCode": "Lakewood                    90712"
                                },
                                {
                                    "City": "Lakewood",
                                    "PostalCode": "90712",
                                    "CityPostalCode": "Lakewood                    90712"
                                },
                                {
                                    "City": "Lakewood",
                                    "PostalCode": "90712",
                                    "CityPostalCode": "Lakewood                    90712"
                                },
                                {
                                    "City": "Lakewood",
                                    "PostalCode": "90712",
                                    "CityPostalCode": "Lakewood                    90712"
                                },
                                {
                                    "City": "Lakewood",
                                    "PostalCode": "90712",
                                    "CityPostalCode": "Lakewood                    90712"
                                },
                                {
                                    "City": "Lakewood",
                                    "PostalCode": "90712",
                                    "CityPostalCode": "Lakewood                    90712"
                                },
                                {
                                    "City": "Lakewood",
                                    "PostalCode": "90712",
                                    "CityPostalCode": "Lakewood                    90712"
                                },
                                {
                                    "City": "Lakewood",
                                    "PostalCode": "90712",
                                    "CityPostalCode": "Lakewood                    90712"
                                },
                                {
                                    "City": "Lakewood",
                                    "PostalCode": "90712",
                                    "CityPostalCode": "Lakewood                    90712"
                                },
                                {
                                    "City": "Lakewood",
                                    "PostalCode": "63301",
                                    "CityPostalCode": "Lakewood                    63301"
                                },
                                {
                                    "City": "Lakewood",
                                    "PostalCode": "90712",
                                    "CityPostalCode": "Lakewood                    90712"
                                },
                                {
                                    "City": "Lakewood",
                                    "PostalCode": "90712",
                                    "CityPostalCode": "Lakewood                    90712"
                                },
                                {
                                    "City": "Lakewood",
                                    "PostalCode": "90712",
                                    "CityPostalCode": "Lakewood                    90712"
                                },
                                {
                                    "City": "Lakewood",
                                    "PostalCode": "90712",
                                    "CityPostalCode": "Lakewood                    90712"
                                },
                                {
                                    "City": "Lakewood",
                                    "PostalCode": "90712",
                                    "CityPostalCode": "Lakewood                    90712"
                                },
                                {
                                    "City": "Lakewood",
                                    "PostalCode": "90712",
                                    "CityPostalCode": "Lakewood                    90712"
                                },
                                {
                                    "City": "Lakewood",
                                    "PostalCode": "90712",
                                    "CityPostalCode": "Lakewood                    90712"
                                },
                                {
                                    "City": "Lakewood",
                                    "PostalCode": "90712",
                                    "CityPostalCode": "Lakewood                    90712"
                                },
                                {
                                    "City": "Lakewood",
                                    "PostalCode": "90712",
                                    "CityPostalCode": "Lakewood                    90712"
                                },
                                {
                                    "City": "Lakewood",
                                    "PostalCode": "90712",
                                    "CityPostalCode": "Lakewood                    90712"
                                },
                                {
                                    "City": "Lakewood",
                                    "PostalCode": "90712",
                                    "CityPostalCode": "Lakewood                    90712"
                                },
                                {
                                    "City": "Lakewood",
                                    "PostalCode": "90712",
                                    "CityPostalCode": "Lakewood                    90712"
                                },
                                {
                                    "City": "Lakewood",
                                    "PostalCode": "90712",
                                    "CityPostalCode": "Lakewood                    90712"
                                },
                                {
                                    "City": "Lakewood",
                                    "PostalCode": "90712",
                                    "CityPostalCode": "Lakewood                    90712"
                                },
                                {
                                    "City": "Lakewood",
                                    "PostalCode": "90712",
                                    "CityPostalCode": "Lakewood                    90712"
                                },
                                {
                                    "City": "Lakewood",
                                    "PostalCode": "90712",
                                    "CityPostalCode": "Lakewood                    90712"
                                },
                                {
                                    "City": "Lakewood",
                                    "PostalCode": "90712",
                                    "CityPostalCode": "Lakewood                    90712"
                                },
                                {
                                    "City": "Lakewood",
                                    "PostalCode": "90712",
                                    "CityPostalCode": "Lakewood                    90712"
                                },
                                {
                                    "City": "Lakewood",
                                    "PostalCode": "90712",
                                    "CityPostalCode": "Lakewood                    90712"
                                },
                                {
                                    "City": "Lakewood",
                                    "PostalCode": "90712",
                                    "CityPostalCode": "Lakewood                    90712"
                                },
                                {
                                    "City": "Lakewood",
                                    "PostalCode": "90712",
                                    "CityPostalCode": "Lakewood                    90712"
                                },
                                {
                                    "City": "Lakewood",
                                    "PostalCode": "90712",
                                    "CityPostalCode": "Lakewood                    90712"
                                },
                                {
                                    "City": "Lakewood",
                                    "PostalCode": "90712",
                                    "CityPostalCode": "Lakewood                    90712"
                                },
                                {
                                    "City": "Lakewood",
                                    "PostalCode": "90712",
                                    "CityPostalCode": "Lakewood                    90712"
                                },
                                {
                                    "City": "Lakewood",
                                    "PostalCode": "90712",
                                    "CityPostalCode": "Lakewood                    90712"
                                },
                                {
                                    "City": "Lakewood",
                                    "PostalCode": "90712",
                                    "CityPostalCode": "Lakewood                    90712"
                                },
                                {
                                    "City": "Lakewood",
                                    "PostalCode": "90712",
                                    "CityPostalCode": "Lakewood                    90712"
                                },
                                {
                                    "City": "Lakewood",
                                    "PostalCode": "90712",
                                    "CityPostalCode": "Lakewood                    90712"
                                },
                                {
                                    "City": "Lakewood",
                                    "PostalCode": "90712",
                                    "CityPostalCode": "Lakewood                    90712"
                                },
                                {
                                    "City": "Lakewood",
                                    "PostalCode": "90712",
                                    "CityPostalCode": "Lakewood                    90712"
                                },
                                {
                                    "City": "Lakewood",
                                    "PostalCode": "90712",
                                    "CityPostalCode": "Lakewood                    90712"
                                },
                                {
                                    "City": "Lakewood",
                                    "PostalCode": "90712",
                                    "CityPostalCode": "Lakewood                    90712"
                                },
                                {
                                    "City": "Lakewood",
                                    "PostalCode": "90712",
                                    "CityPostalCode": "Lakewood                    90712"
                                },
                                {
                                    "City": "Lakewood",
                                    "PostalCode": "90712",
                                    "CityPostalCode": "Lakewood                    90712"
                                },
                                {
                                    "City": "Lakewood",
                                    "PostalCode": "90712",
                                    "CityPostalCode": "Lakewood                    90712"
                                },
                                {
                                    "City": "Lakewood",
                                    "PostalCode": "90712",
                                    "CityPostalCode": "Lakewood                    90712"
                                },
                                {
                                    "City": "Lakewood",
                                    "PostalCode": "90712",
                                    "CityPostalCode": "Lakewood                    90712"
                                },
                                {
                                    "City": "Lakewood",
                                    "PostalCode": "90712",
                                    "CityPostalCode": "Lakewood                    90712"
                                },
                                {
                                    "City": "Lakewood",
                                    "PostalCode": "90712",
                                    "CityPostalCode": "Lakewood                    90712"
                                },
                                {
                                    "City": "Lakewood",
                                    "PostalCode": "90712",
                                    "CityPostalCode": "Lakewood                    90712"
                                },
                                {
                                    "City": "Lakewood",
                                    "PostalCode": "90712",
                                    "CityPostalCode": "Lakewood                    90712"
                                },
                                {
                                    "City": "Lakewood",
                                    "PostalCode": "90712",
                                    "CityPostalCode": "Lakewood                    90712"
                                },
                                {
                                    "City": "Lakewood",
                                    "PostalCode": "90712",
                                    "CityPostalCode": "Lakewood                    90712"
                                },
                                {
                                    "City": "Lakewood",
                                    "PostalCode": "90712",
                                    "CityPostalCode": "Lakewood                    90712"
                                },
                                {
                                    "City": "Lakewood",
                                    "PostalCode": "90712",
                                    "CityPostalCode": "Lakewood                    90712"
                                },
                                {
                                    "City": "Lakewood",
                                    "PostalCode": "90712",
                                    "CityPostalCode": "Lakewood                    90712"
                                },
                                {
                                    "City": "Lakewood",
                                    "PostalCode": "90712",
                                    "CityPostalCode": "Lakewood                    90712"
                                },
                                {
                                    "City": "Lakewood",
                                    "PostalCode": "90712",
                                    "CityPostalCode": "Lakewood                    90712"
                                },
                                {
                                    "City": "Lakewood",
                                    "PostalCode": "90712",
                                    "CityPostalCode": "Lakewood                    90712"
                                },
                                {
                                    "City": "Lakewood",
                                    "PostalCode": "90712",
                                    "CityPostalCode": "Lakewood                    90712"
                                },
                                {
                                    "City": "Lakewood",
                                    "PostalCode": "90712",
                                    "CityPostalCode": "Lakewood                    90712"
                                },
                                {
                                    "City": "Lakewood",
                                    "PostalCode": "90712",
                                    "CityPostalCode": "Lakewood                    90712"
                                }
                            ]
                        },
                        "text/html": [
                            "<table>",
                            "<tr><th>City</th><th>PostalCode</th><th>CityPostalCode</th></tr>",
                            "<tr><td>Lakewood</td><td>90712</td><td>Lakewood                    90712</td></tr>",
                            "<tr><td>Lakewood</td><td>90712</td><td>Lakewood                    90712</td></tr>",
                            "<tr><td>Lakewood</td><td>90712</td><td>Lakewood                    90712</td></tr>",
                            "<tr><td>Lakewood</td><td>90712</td><td>Lakewood                    90712</td></tr>",
                            "<tr><td>Lakewood</td><td>90712</td><td>Lakewood                    90712</td></tr>",
                            "<tr><td>Lakewood</td><td>90712</td><td>Lakewood                    90712</td></tr>",
                            "<tr><td>Lakewood</td><td>90712</td><td>Lakewood                    90712</td></tr>",
                            "<tr><td>Lakewood</td><td>90712</td><td>Lakewood                    90712</td></tr>",
                            "<tr><td>Lakewood</td><td>90712</td><td>Lakewood                    90712</td></tr>",
                            "<tr><td>Lakewood</td><td>90712</td><td>Lakewood                    90712</td></tr>",
                            "<tr><td>Lakewood</td><td>90712</td><td>Lakewood                    90712</td></tr>",
                            "<tr><td>Lakewood</td><td>90712</td><td>Lakewood                    90712</td></tr>",
                            "<tr><td>Lakewood</td><td>90712</td><td>Lakewood                    90712</td></tr>",
                            "<tr><td>Lakewood</td><td>90712</td><td>Lakewood                    90712</td></tr>",
                            "<tr><td>Lakewood</td><td>90712</td><td>Lakewood                    90712</td></tr>",
                            "<tr><td>Lakewood</td><td>90712</td><td>Lakewood                    90712</td></tr>",
                            "<tr><td>Lakewood</td><td>90712</td><td>Lakewood                    90712</td></tr>",
                            "<tr><td>Lakewood</td><td>90712</td><td>Lakewood                    90712</td></tr>",
                            "<tr><td>Lakewood</td><td>90712</td><td>Lakewood                    90712</td></tr>",
                            "<tr><td>Lakewood</td><td>90712</td><td>Lakewood                    90712</td></tr>",
                            "<tr><td>Lakewood</td><td>90712</td><td>Lakewood                    90712</td></tr>",
                            "<tr><td>Lakewood</td><td>90712</td><td>Lakewood                    90712</td></tr>",
                            "<tr><td>Lakewood</td><td>90712</td><td>Lakewood                    90712</td></tr>",
                            "<tr><td>Lakewood</td><td>90712</td><td>Lakewood                    90712</td></tr>",
                            "<tr><td>Lakewood</td><td>90712</td><td>Lakewood                    90712</td></tr>",
                            "<tr><td>Lakewood</td><td>90712</td><td>Lakewood                    90712</td></tr>",
                            "<tr><td>Lakewood</td><td>90712</td><td>Lakewood                    90712</td></tr>",
                            "<tr><td>Lakewood</td><td>90712</td><td>Lakewood                    90712</td></tr>",
                            "<tr><td>Lakewood</td><td>90712</td><td>Lakewood                    90712</td></tr>",
                            "<tr><td>Lakewood</td><td>90712</td><td>Lakewood                    90712</td></tr>",
                            "<tr><td>Lakewood</td><td>90712</td><td>Lakewood                    90712</td></tr>",
                            "<tr><td>Lakewood</td><td>90712</td><td>Lakewood                    90712</td></tr>",
                            "<tr><td>Lakewood</td><td>63301</td><td>Lakewood                    63301</td></tr>",
                            "<tr><td>Lakewood</td><td>90712</td><td>Lakewood                    90712</td></tr>",
                            "<tr><td>Lakewood</td><td>90712</td><td>Lakewood                    90712</td></tr>",
                            "<tr><td>Lakewood</td><td>90712</td><td>Lakewood                    90712</td></tr>",
                            "<tr><td>Lakewood</td><td>90712</td><td>Lakewood                    90712</td></tr>",
                            "<tr><td>Lakewood</td><td>90712</td><td>Lakewood                    90712</td></tr>",
                            "<tr><td>Lakewood</td><td>90712</td><td>Lakewood                    90712</td></tr>",
                            "<tr><td>Lakewood</td><td>90712</td><td>Lakewood                    90712</td></tr>",
                            "<tr><td>Lakewood</td><td>90712</td><td>Lakewood                    90712</td></tr>",
                            "<tr><td>Lakewood</td><td>90712</td><td>Lakewood                    90712</td></tr>",
                            "<tr><td>Lakewood</td><td>90712</td><td>Lakewood                    90712</td></tr>",
                            "<tr><td>Lakewood</td><td>90712</td><td>Lakewood                    90712</td></tr>",
                            "<tr><td>Lakewood</td><td>90712</td><td>Lakewood                    90712</td></tr>",
                            "<tr><td>Lakewood</td><td>90712</td><td>Lakewood                    90712</td></tr>",
                            "<tr><td>Lakewood</td><td>90712</td><td>Lakewood                    90712</td></tr>",
                            "<tr><td>Lakewood</td><td>90712</td><td>Lakewood                    90712</td></tr>",
                            "<tr><td>Lakewood</td><td>90712</td><td>Lakewood                    90712</td></tr>",
                            "<tr><td>Lakewood</td><td>90712</td><td>Lakewood                    90712</td></tr>",
                            "<tr><td>Lakewood</td><td>90712</td><td>Lakewood                    90712</td></tr>",
                            "<tr><td>Lakewood</td><td>90712</td><td>Lakewood                    90712</td></tr>",
                            "<tr><td>Lakewood</td><td>90712</td><td>Lakewood                    90712</td></tr>",
                            "<tr><td>Lakewood</td><td>90712</td><td>Lakewood                    90712</td></tr>",
                            "<tr><td>Lakewood</td><td>90712</td><td>Lakewood                    90712</td></tr>",
                            "<tr><td>Lakewood</td><td>90712</td><td>Lakewood                    90712</td></tr>",
                            "<tr><td>Lakewood</td><td>90712</td><td>Lakewood                    90712</td></tr>",
                            "<tr><td>Lakewood</td><td>90712</td><td>Lakewood                    90712</td></tr>",
                            "<tr><td>Lakewood</td><td>90712</td><td>Lakewood                    90712</td></tr>",
                            "<tr><td>Lakewood</td><td>90712</td><td>Lakewood                    90712</td></tr>",
                            "<tr><td>Lakewood</td><td>90712</td><td>Lakewood                    90712</td></tr>",
                            "<tr><td>Lakewood</td><td>90712</td><td>Lakewood                    90712</td></tr>",
                            "<tr><td>Lakewood</td><td>90712</td><td>Lakewood                    90712</td></tr>",
                            "<tr><td>Lakewood</td><td>90712</td><td>Lakewood                    90712</td></tr>",
                            "<tr><td>Lakewood</td><td>90712</td><td>Lakewood                    90712</td></tr>",
                            "<tr><td>Lakewood</td><td>90712</td><td>Lakewood                    90712</td></tr>",
                            "<tr><td>Lakewood</td><td>90712</td><td>Lakewood                    90712</td></tr>",
                            "<tr><td>Lakewood</td><td>90712</td><td>Lakewood                    90712</td></tr>",
                            "<tr><td>Lakewood</td><td>90712</td><td>Lakewood                    90712</td></tr>",
                            "<tr><td>Lakewood</td><td>90712</td><td>Lakewood                    90712</td></tr>",
                            "<tr><td>Lakewood</td><td>90712</td><td>Lakewood                    90712</td></tr>",
                            "<tr><td>Lakewood</td><td>90712</td><td>Lakewood                    90712</td></tr>",
                            "<tr><td>Lakewood</td><td>90712</td><td>Lakewood                    90712</td></tr>",
                            "<tr><td>Lakewood</td><td>90712</td><td>Lakewood                    90712</td></tr>",
                            "<tr><td>Lakewood</td><td>90712</td><td>Lakewood                    90712</td></tr>",
                            "<tr><td>Lakewood</td><td>90712</td><td>Lakewood                    90712</td></tr>",
                            "<tr><td>Lakewood</td><td>90712</td><td>Lakewood                    90712</td></tr>",
                            "<tr><td>Lakewood</td><td>90712</td><td>Lakewood                    90712</td></tr>",
                            "<tr><td>Lakewood</td><td>90712</td><td>Lakewood                    90712</td></tr>",
                            "<tr><td>Lakewood</td><td>90712</td><td>Lakewood                    90712</td></tr>",
                            "<tr><td>Lakewood</td><td>90712</td><td>Lakewood                    90712</td></tr>",
                            "<tr><td>Lakewood</td><td>90712</td><td>Lakewood                    90712</td></tr>",
                            "<tr><td>Lakewood</td><td>90712</td><td>Lakewood                    90712</td></tr>",
                            "<tr><td>Lakewood</td><td>90712</td><td>Lakewood                    90712</td></tr>",
                            "<tr><td>Lakewood</td><td>90712</td><td>Lakewood                    90712</td></tr>",
                            "</table>"
                        ]
                    }
                }
            ],
            "execution_count": 10
        },
        {
            "cell_type": "markdown",
            "source": [
                "# 9.15 Reverse Order of Characters in a String \n",
                "## **Question 10. (screenshot: query and result)**\n",
                "## Use HumanResources.Employee table, LoginID column. Use the method in example 9.15 to separate the Path adventure-works\\ from the Employee.You will be using several functions to achieve this including LEFT, RIGHT, LEN, CHARINDEX and REVERSE.\n",
                ""
            ],
            "metadata": {
                "azdata_cell_guid": "64c62a52-2368-4c8e-a362-8ab0564f574d"
            },
            "attachments": {}
        },
        {
            "cell_type": "code",
            "source": [
                "SELECT LoginID,\r\n",
                "       LEFT(LoginID, CHARINDEX('\\', LoginID) - 1) AS Domain,\r\n",
                "       RIGHT(LoginID, LEN(LoginID) - CHARINDEX('\\', LoginID)) AS EmployeeID\r\n",
                "FROM AdventureWorks2022.HumanResources.Employee;"
            ],
            "metadata": {
                "azdata_cell_guid": "a7201f1f-aa08-4639-85a1-778555541690",
                "language": "sql"
            },
            "outputs": [
                {
                    "output_type": "display_data",
                    "data": {
                        "text/html": "(290 rows affected)"
                    },
                    "metadata": {}
                },
                {
                    "output_type": "display_data",
                    "data": {
                        "text/html": "Total execution time: 00:00:00.011"
                    },
                    "metadata": {}
                },
                {
                    "output_type": "execute_result",
                    "metadata": {},
                    "execution_count": 11,
                    "data": {
                        "application/vnd.dataresource+json": {
                            "schema": {
                                "fields": [
                                    {
                                        "name": "LoginID"
                                    },
                                    {
                                        "name": "Domain"
                                    },
                                    {
                                        "name": "EmployeeID"
                                    }
                                ]
                            },
                            "data": [
                                {
                                    "LoginID": "adventure-works\\alan0",
                                    "Domain": "adventure-works",
                                    "EmployeeID": "alan0"
                                },
                                {
                                    "LoginID": "adventure-works\\alejandro0",
                                    "Domain": "adventure-works",
                                    "EmployeeID": "alejandro0"
                                },
                                {
                                    "LoginID": "adventure-works\\alex0",
                                    "Domain": "adventure-works",
                                    "EmployeeID": "alex0"
                                },
                                {
                                    "LoginID": "adventure-works\\alice0",
                                    "Domain": "adventure-works",
                                    "EmployeeID": "alice0"
                                },
                                {
                                    "LoginID": "adventure-works\\amy0",
                                    "Domain": "adventure-works",
                                    "EmployeeID": "amy0"
                                },
                                {
                                    "LoginID": "adventure-works\\andreas0",
                                    "Domain": "adventure-works",
                                    "EmployeeID": "andreas0"
                                },
                                {
                                    "LoginID": "adventure-works\\andrew0",
                                    "Domain": "adventure-works",
                                    "EmployeeID": "andrew0"
                                },
                                {
                                    "LoginID": "adventure-works\\andrew1",
                                    "Domain": "adventure-works",
                                    "EmployeeID": "andrew1"
                                },
                                {
                                    "LoginID": "adventure-works\\andy0",
                                    "Domain": "adventure-works",
                                    "EmployeeID": "andy0"
                                },
                                {
                                    "LoginID": "adventure-works\\angela0",
                                    "Domain": "adventure-works",
                                    "EmployeeID": "angela0"
                                },
                                {
                                    "LoginID": "adventure-works\\anibal0",
                                    "Domain": "adventure-works",
                                    "EmployeeID": "anibal0"
                                },
                                {
                                    "LoginID": "adventure-works\\annette0",
                                    "Domain": "adventure-works",
                                    "EmployeeID": "annette0"
                                },
                                {
                                    "LoginID": "adventure-works\\annik0",
                                    "Domain": "adventure-works",
                                    "EmployeeID": "annik0"
                                },
                                {
                                    "LoginID": "adventure-works\\arvind0",
                                    "Domain": "adventure-works",
                                    "EmployeeID": "arvind0"
                                },
                                {
                                    "LoginID": "adventure-works\\ascott0",
                                    "Domain": "adventure-works",
                                    "EmployeeID": "ascott0"
                                },
                                {
                                    "LoginID": "adventure-works\\ashvini0",
                                    "Domain": "adventure-works",
                                    "EmployeeID": "ashvini0"
                                },
                                {
                                    "LoginID": "adventure-works\\barbara0",
                                    "Domain": "adventure-works",
                                    "EmployeeID": "barbara0"
                                },
                                {
                                    "LoginID": "adventure-works\\barbara1",
                                    "Domain": "adventure-works",
                                    "EmployeeID": "barbara1"
                                },
                                {
                                    "LoginID": "adventure-works\\baris0",
                                    "Domain": "adventure-works",
                                    "EmployeeID": "baris0"
                                },
                                {
                                    "LoginID": "adventure-works\\barry0",
                                    "Domain": "adventure-works",
                                    "EmployeeID": "barry0"
                                },
                                {
                                    "LoginID": "adventure-works\\belinda0",
                                    "Domain": "adventure-works",
                                    "EmployeeID": "belinda0"
                                },
                                {
                                    "LoginID": "adventure-works\\ben0",
                                    "Domain": "adventure-works",
                                    "EmployeeID": "ben0"
                                },
                                {
                                    "LoginID": "adventure-works\\benjamin0",
                                    "Domain": "adventure-works",
                                    "EmployeeID": "benjamin0"
                                },
                                {
                                    "LoginID": "adventure-works\\betsy0",
                                    "Domain": "adventure-works",
                                    "EmployeeID": "betsy0"
                                },
                                {
                                    "LoginID": "adventure-works\\bjorn0",
                                    "Domain": "adventure-works",
                                    "EmployeeID": "bjorn0"
                                },
                                {
                                    "LoginID": "adventure-works\\bob0",
                                    "Domain": "adventure-works",
                                    "EmployeeID": "bob0"
                                },
                                {
                                    "LoginID": "adventure-works\\bonnie0",
                                    "Domain": "adventure-works",
                                    "EmployeeID": "bonnie0"
                                },
                                {
                                    "LoginID": "adventure-works\\brandon0",
                                    "Domain": "adventure-works",
                                    "EmployeeID": "brandon0"
                                },
                                {
                                    "LoginID": "adventure-works\\brenda0",
                                    "Domain": "adventure-works",
                                    "EmployeeID": "brenda0"
                                },
                                {
                                    "LoginID": "adventure-works\\brian0",
                                    "Domain": "adventure-works",
                                    "EmployeeID": "brian0"
                                },
                                {
                                    "LoginID": "adventure-works\\brian1",
                                    "Domain": "adventure-works",
                                    "EmployeeID": "brian1"
                                },
                                {
                                    "LoginID": "adventure-works\\brian2",
                                    "Domain": "adventure-works",
                                    "EmployeeID": "brian2"
                                },
                                {
                                    "LoginID": "adventure-works\\brian3",
                                    "Domain": "adventure-works",
                                    "EmployeeID": "brian3"
                                },
                                {
                                    "LoginID": "adventure-works\\britta0",
                                    "Domain": "adventure-works",
                                    "EmployeeID": "britta0"
                                },
                                {
                                    "LoginID": "adventure-works\\bryan0",
                                    "Domain": "adventure-works",
                                    "EmployeeID": "bryan0"
                                },
                                {
                                    "LoginID": "adventure-works\\bryan1",
                                    "Domain": "adventure-works",
                                    "EmployeeID": "bryan1"
                                },
                                {
                                    "LoginID": "adventure-works\\candy0",
                                    "Domain": "adventure-works",
                                    "EmployeeID": "candy0"
                                },
                                {
                                    "LoginID": "adventure-works\\carol0",
                                    "Domain": "adventure-works",
                                    "EmployeeID": "carol0"
                                },
                                {
                                    "LoginID": "adventure-works\\carole0",
                                    "Domain": "adventure-works",
                                    "EmployeeID": "carole0"
                                },
                                {
                                    "LoginID": "adventure-works\\chad0",
                                    "Domain": "adventure-works",
                                    "EmployeeID": "chad0"
                                },
                                {
                                    "LoginID": "adventure-works\\charles0",
                                    "Domain": "adventure-works",
                                    "EmployeeID": "charles0"
                                },
                                {
                                    "LoginID": "adventure-works\\chris0",
                                    "Domain": "adventure-works",
                                    "EmployeeID": "chris0"
                                },
                                {
                                    "LoginID": "adventure-works\\chris1",
                                    "Domain": "adventure-works",
                                    "EmployeeID": "chris1"
                                },
                                {
                                    "LoginID": "adventure-works\\chris2",
                                    "Domain": "adventure-works",
                                    "EmployeeID": "chris2"
                                },
                                {
                                    "LoginID": "adventure-works\\christian0",
                                    "Domain": "adventure-works",
                                    "EmployeeID": "christian0"
                                },
                                {
                                    "LoginID": "adventure-works\\christopher0",
                                    "Domain": "adventure-works",
                                    "EmployeeID": "christopher0"
                                },
                                {
                                    "LoginID": "adventure-works\\cristian0",
                                    "Domain": "adventure-works",
                                    "EmployeeID": "cristian0"
                                },
                                {
                                    "LoginID": "adventure-works\\cynthia0",
                                    "Domain": "adventure-works",
                                    "EmployeeID": "cynthia0"
                                },
                                {
                                    "LoginID": "adventure-works\\dan0",
                                    "Domain": "adventure-works",
                                    "EmployeeID": "dan0"
                                },
                                {
                                    "LoginID": "adventure-works\\dan1",
                                    "Domain": "adventure-works",
                                    "EmployeeID": "dan1"
                                },
                                {
                                    "LoginID": "adventure-works\\danielle0",
                                    "Domain": "adventure-works",
                                    "EmployeeID": "danielle0"
                                },
                                {
                                    "LoginID": "adventure-works\\david0",
                                    "Domain": "adventure-works",
                                    "EmployeeID": "david0"
                                },
                                {
                                    "LoginID": "adventure-works\\david1",
                                    "Domain": "adventure-works",
                                    "EmployeeID": "david1"
                                },
                                {
                                    "LoginID": "adventure-works\\david2",
                                    "Domain": "adventure-works",
                                    "EmployeeID": "david2"
                                },
                                {
                                    "LoginID": "adventure-works\\david3",
                                    "Domain": "adventure-works",
                                    "EmployeeID": "david3"
                                },
                                {
                                    "LoginID": "adventure-works\\david4",
                                    "Domain": "adventure-works",
                                    "EmployeeID": "david4"
                                },
                                {
                                    "LoginID": "adventure-works\\david5",
                                    "Domain": "adventure-works",
                                    "EmployeeID": "david5"
                                },
                                {
                                    "LoginID": "adventure-works\\david6",
                                    "Domain": "adventure-works",
                                    "EmployeeID": "david6"
                                },
                                {
                                    "LoginID": "adventure-works\\david7",
                                    "Domain": "adventure-works",
                                    "EmployeeID": "david7"
                                },
                                {
                                    "LoginID": "adventure-works\\david8",
                                    "Domain": "adventure-works",
                                    "EmployeeID": "david8"
                                },
                                {
                                    "LoginID": "adventure-works\\deborah0",
                                    "Domain": "adventure-works",
                                    "EmployeeID": "deborah0"
                                },
                                {
                                    "LoginID": "adventure-works\\denise0",
                                    "Domain": "adventure-works",
                                    "EmployeeID": "denise0"
                                },
                                {
                                    "LoginID": "adventure-works\\diane0",
                                    "Domain": "adventure-works",
                                    "EmployeeID": "diane0"
                                },
                                {
                                    "LoginID": "adventure-works\\diane1",
                                    "Domain": "adventure-works",
                                    "EmployeeID": "diane1"
                                },
                                {
                                    "LoginID": "adventure-works\\diane2",
                                    "Domain": "adventure-works",
                                    "EmployeeID": "diane2"
                                },
                                {
                                    "LoginID": "adventure-works\\don0",
                                    "Domain": "adventure-works",
                                    "EmployeeID": "don0"
                                },
                                {
                                    "LoginID": "adventure-works\\doris0",
                                    "Domain": "adventure-works",
                                    "EmployeeID": "doris0"
                                },
                                {
                                    "LoginID": "adventure-works\\douglas0",
                                    "Domain": "adventure-works",
                                    "EmployeeID": "douglas0"
                                },
                                {
                                    "LoginID": "adventure-works\\dragan0",
                                    "Domain": "adventure-works",
                                    "EmployeeID": "dragan0"
                                },
                                {
                                    "LoginID": "adventure-works\\dylan0",
                                    "Domain": "adventure-works",
                                    "EmployeeID": "dylan0"
                                },
                                {
                                    "LoginID": "adventure-works\\ebru0",
                                    "Domain": "adventure-works",
                                    "EmployeeID": "ebru0"
                                },
                                {
                                    "LoginID": "adventure-works\\ed0",
                                    "Domain": "adventure-works",
                                    "EmployeeID": "ed0"
                                },
                                {
                                    "LoginID": "adventure-works\\elizabeth0",
                                    "Domain": "adventure-works",
                                    "EmployeeID": "elizabeth0"
                                },
                                {
                                    "LoginID": "adventure-works\\eric0",
                                    "Domain": "adventure-works",
                                    "EmployeeID": "eric0"
                                },
                                {
                                    "LoginID": "adventure-works\\eric1",
                                    "Domain": "adventure-works",
                                    "EmployeeID": "eric1"
                                },
                                {
                                    "LoginID": "adventure-works\\eric2",
                                    "Domain": "adventure-works",
                                    "EmployeeID": "eric2"
                                },
                                {
                                    "LoginID": "adventure-works\\erin0",
                                    "Domain": "adventure-works",
                                    "EmployeeID": "erin0"
                                },
                                {
                                    "LoginID": "adventure-works\\eugene0",
                                    "Domain": "adventure-works",
                                    "EmployeeID": "eugene0"
                                },
                                {
                                    "LoginID": "adventure-works\\eugene1",
                                    "Domain": "adventure-works",
                                    "EmployeeID": "eugene1"
                                },
                                {
                                    "LoginID": "adventure-works\\fadi0",
                                    "Domain": "adventure-works",
                                    "EmployeeID": "fadi0"
                                },
                                {
                                    "LoginID": "adventure-works\\françois0",
                                    "Domain": "adventure-works",
                                    "EmployeeID": "françois0"
                                },
                                {
                                    "LoginID": "adventure-works\\frank0",
                                    "Domain": "adventure-works",
                                    "EmployeeID": "frank0"
                                },
                                {
                                    "LoginID": "adventure-works\\frank1",
                                    "Domain": "adventure-works",
                                    "EmployeeID": "frank1"
                                },
                                {
                                    "LoginID": "adventure-works\\frank2",
                                    "Domain": "adventure-works",
                                    "EmployeeID": "frank2"
                                },
                                {
                                    "LoginID": "adventure-works\\frank3",
                                    "Domain": "adventure-works",
                                    "EmployeeID": "frank3"
                                },
                                {
                                    "LoginID": "adventure-works\\fred0",
                                    "Domain": "adventure-works",
                                    "EmployeeID": "fred0"
                                },
                                {
                                    "LoginID": "adventure-works\\fukiko0",
                                    "Domain": "adventure-works",
                                    "EmployeeID": "fukiko0"
                                },
                                {
                                    "LoginID": "adventure-works\\gabe0",
                                    "Domain": "adventure-works",
                                    "EmployeeID": "gabe0"
                                },
                                {
                                    "LoginID": "adventure-works\\gail0",
                                    "Domain": "adventure-works",
                                    "EmployeeID": "gail0"
                                },
                                {
                                    "LoginID": "adventure-works\\garrett0",
                                    "Domain": "adventure-works",
                                    "EmployeeID": "garrett0"
                                },
                                {
                                    "LoginID": "adventure-works\\garrett1",
                                    "Domain": "adventure-works",
                                    "EmployeeID": "garrett1"
                                },
                                {
                                    "LoginID": "adventure-works\\gary0",
                                    "Domain": "adventure-works",
                                    "EmployeeID": "gary0"
                                },
                                {
                                    "LoginID": "adventure-works\\gary1",
                                    "Domain": "adventure-works",
                                    "EmployeeID": "gary1"
                                },
                                {
                                    "LoginID": "adventure-works\\george0",
                                    "Domain": "adventure-works",
                                    "EmployeeID": "george0"
                                },
                                {
                                    "LoginID": "adventure-works\\gigi0",
                                    "Domain": "adventure-works",
                                    "EmployeeID": "gigi0"
                                },
                                {
                                    "LoginID": "adventure-works\\gordon0",
                                    "Domain": "adventure-works",
                                    "EmployeeID": "gordon0"
                                },
                                {
                                    "LoginID": "adventure-works\\grant0",
                                    "Domain": "adventure-works",
                                    "EmployeeID": "grant0"
                                },
                                {
                                    "LoginID": "adventure-works\\greg0",
                                    "Domain": "adventure-works",
                                    "EmployeeID": "greg0"
                                },
                                {
                                    "LoginID": "adventure-works\\guy1",
                                    "Domain": "adventure-works",
                                    "EmployeeID": "guy1"
                                },
                                {
                                    "LoginID": "adventure-works\\hanying0",
                                    "Domain": "adventure-works",
                                    "EmployeeID": "hanying0"
                                },
                                {
                                    "LoginID": "adventure-works\\hao0",
                                    "Domain": "adventure-works",
                                    "EmployeeID": "hao0"
                                },
                                {
                                    "LoginID": "adventure-works\\hazem0",
                                    "Domain": "adventure-works",
                                    "EmployeeID": "hazem0"
                                },
                                {
                                    "LoginID": "adventure-works\\houman0",
                                    "Domain": "adventure-works",
                                    "EmployeeID": "houman0"
                                },
                                {
                                    "LoginID": "adventure-works\\hung-fu0",
                                    "Domain": "adventure-works",
                                    "EmployeeID": "hung-fu0"
                                },
                                {
                                    "LoginID": "adventure-works\\ivo0",
                                    "Domain": "adventure-works",
                                    "EmployeeID": "ivo0"
                                },
                                {
                                    "LoginID": "adventure-works\\jack0",
                                    "Domain": "adventure-works",
                                    "EmployeeID": "jack0"
                                },
                                {
                                    "LoginID": "adventure-works\\jack1",
                                    "Domain": "adventure-works",
                                    "EmployeeID": "jack1"
                                },
                                {
                                    "LoginID": "adventure-works\\jae0",
                                    "Domain": "adventure-works",
                                    "EmployeeID": "jae0"
                                },
                                {
                                    "LoginID": "adventure-works\\james0",
                                    "Domain": "adventure-works",
                                    "EmployeeID": "james0"
                                },
                                {
                                    "LoginID": "adventure-works\\james1",
                                    "Domain": "adventure-works",
                                    "EmployeeID": "james1"
                                },
                                {
                                    "LoginID": "adventure-works\\jan0",
                                    "Domain": "adventure-works",
                                    "EmployeeID": "jan0"
                                },
                                {
                                    "LoginID": "adventure-works\\janaina0",
                                    "Domain": "adventure-works",
                                    "EmployeeID": "janaina0"
                                },
                                {
                                    "LoginID": "adventure-works\\janet0",
                                    "Domain": "adventure-works",
                                    "EmployeeID": "janet0"
                                },
                                {
                                    "LoginID": "adventure-works\\janeth0",
                                    "Domain": "adventure-works",
                                    "EmployeeID": "janeth0"
                                },
                                {
                                    "LoginID": "adventure-works\\janice0",
                                    "Domain": "adventure-works",
                                    "EmployeeID": "janice0"
                                },
                                {
                                    "LoginID": "adventure-works\\jason0",
                                    "Domain": "adventure-works",
                                    "EmployeeID": "jason0"
                                },
                                {
                                    "LoginID": "adventure-works\\jay0",
                                    "Domain": "adventure-works",
                                    "EmployeeID": "jay0"
                                },
                                {
                                    "LoginID": "adventure-works\\jean0",
                                    "Domain": "adventure-works",
                                    "EmployeeID": "jean0"
                                },
                                {
                                    "LoginID": "adventure-works\\jeff0",
                                    "Domain": "adventure-works",
                                    "EmployeeID": "jeff0"
                                },
                                {
                                    "LoginID": "adventure-works\\jeffrey0",
                                    "Domain": "adventure-works",
                                    "EmployeeID": "jeffrey0"
                                },
                                {
                                    "LoginID": "adventure-works\\jianshuo0",
                                    "Domain": "adventure-works",
                                    "EmployeeID": "jianshuo0"
                                },
                                {
                                    "LoginID": "adventure-works\\jill0",
                                    "Domain": "adventure-works",
                                    "EmployeeID": "jill0"
                                },
                                {
                                    "LoginID": "adventure-works\\jillian0",
                                    "Domain": "adventure-works",
                                    "EmployeeID": "jillian0"
                                },
                                {
                                    "LoginID": "adventure-works\\jim0",
                                    "Domain": "adventure-works",
                                    "EmployeeID": "jim0"
                                },
                                {
                                    "LoginID": "adventure-works\\jimmy0",
                                    "Domain": "adventure-works",
                                    "EmployeeID": "jimmy0"
                                },
                                {
                                    "LoginID": "adventure-works\\jinghao0",
                                    "Domain": "adventure-works",
                                    "EmployeeID": "jinghao0"
                                },
                                {
                                    "LoginID": "adventure-works\\jo0",
                                    "Domain": "adventure-works",
                                    "EmployeeID": "jo0"
                                },
                                {
                                    "LoginID": "adventure-works\\jo1",
                                    "Domain": "adventure-works",
                                    "EmployeeID": "jo1"
                                },
                                {
                                    "LoginID": "adventure-works\\john0",
                                    "Domain": "adventure-works",
                                    "EmployeeID": "john0"
                                },
                                {
                                    "LoginID": "adventure-works\\john1",
                                    "Domain": "adventure-works",
                                    "EmployeeID": "john1"
                                },
                                {
                                    "LoginID": "adventure-works\\john2",
                                    "Domain": "adventure-works",
                                    "EmployeeID": "john2"
                                },
                                {
                                    "LoginID": "adventure-works\\john3",
                                    "Domain": "adventure-works",
                                    "EmployeeID": "john3"
                                },
                                {
                                    "LoginID": "adventure-works\\john4",
                                    "Domain": "adventure-works",
                                    "EmployeeID": "john4"
                                },
                                {
                                    "LoginID": "adventure-works\\john5",
                                    "Domain": "adventure-works",
                                    "EmployeeID": "john5"
                                },
                                {
                                    "LoginID": "adventure-works\\jolynn0",
                                    "Domain": "adventure-works",
                                    "EmployeeID": "jolynn0"
                                },
                                {
                                    "LoginID": "adventure-works\\jose0",
                                    "Domain": "adventure-works",
                                    "EmployeeID": "jose0"
                                },
                                {
                                    "LoginID": "adventure-works\\josé1",
                                    "Domain": "adventure-works",
                                    "EmployeeID": "josé1"
                                },
                                {
                                    "LoginID": "adventure-works\\jossef0",
                                    "Domain": "adventure-works",
                                    "EmployeeID": "jossef0"
                                },
                                {
                                    "LoginID": "adventure-works\\jun0",
                                    "Domain": "adventure-works",
                                    "EmployeeID": "jun0"
                                },
                                {
                                    "LoginID": "adventure-works\\karan0",
                                    "Domain": "adventure-works",
                                    "EmployeeID": "karan0"
                                },
                                {
                                    "LoginID": "adventure-works\\karen0",
                                    "Domain": "adventure-works",
                                    "EmployeeID": "karen0"
                                },
                                {
                                    "LoginID": "adventure-works\\karen1",
                                    "Domain": "adventure-works",
                                    "EmployeeID": "karen1"
                                },
                                {
                                    "LoginID": "adventure-works\\kathie0",
                                    "Domain": "adventure-works",
                                    "EmployeeID": "kathie0"
                                },
                                {
                                    "LoginID": "adventure-works\\katie0",
                                    "Domain": "adventure-works",
                                    "EmployeeID": "katie0"
                                },
                                {
                                    "LoginID": "adventure-works\\ken0",
                                    "Domain": "adventure-works",
                                    "EmployeeID": "ken0"
                                },
                                {
                                    "LoginID": "adventure-works\\ken1",
                                    "Domain": "adventure-works",
                                    "EmployeeID": "ken1"
                                },
                                {
                                    "LoginID": "adventure-works\\kendall0",
                                    "Domain": "adventure-works",
                                    "EmployeeID": "kendall0"
                                },
                                {
                                    "LoginID": "adventure-works\\kevin0",
                                    "Domain": "adventure-works",
                                    "EmployeeID": "kevin0"
                                },
                                {
                                    "LoginID": "adventure-works\\kevin1",
                                    "Domain": "adventure-works",
                                    "EmployeeID": "kevin1"
                                },
                                {
                                    "LoginID": "adventure-works\\kevin2",
                                    "Domain": "adventure-works",
                                    "EmployeeID": "kevin2"
                                },
                                {
                                    "LoginID": "adventure-works\\kim0",
                                    "Domain": "adventure-works",
                                    "EmployeeID": "kim0"
                                },
                                {
                                    "LoginID": "adventure-works\\kim1",
                                    "Domain": "adventure-works",
                                    "EmployeeID": "kim1"
                                },
                                {
                                    "LoginID": "adventure-works\\kimberly0",
                                    "Domain": "adventure-works",
                                    "EmployeeID": "kimberly0"
                                },
                                {
                                    "LoginID": "adventure-works\\kirk0",
                                    "Domain": "adventure-works",
                                    "EmployeeID": "kirk0"
                                },
                                {
                                    "LoginID": "adventure-works\\kitti0",
                                    "Domain": "adventure-works",
                                    "EmployeeID": "kitti0"
                                },
                                {
                                    "LoginID": "adventure-works\\kok-ho0",
                                    "Domain": "adventure-works",
                                    "EmployeeID": "kok-ho0"
                                },
                                {
                                    "LoginID": "adventure-works\\krishna0",
                                    "Domain": "adventure-works",
                                    "EmployeeID": "krishna0"
                                },
                                {
                                    "LoginID": "adventure-works\\lane0",
                                    "Domain": "adventure-works",
                                    "EmployeeID": "lane0"
                                },
                                {
                                    "LoginID": "adventure-works\\laura0",
                                    "Domain": "adventure-works",
                                    "EmployeeID": "laura0"
                                },
                                {
                                    "LoginID": "adventure-works\\laura1",
                                    "Domain": "adventure-works",
                                    "EmployeeID": "laura1"
                                },
                                {
                                    "LoginID": "adventure-works\\linda0",
                                    "Domain": "adventure-works",
                                    "EmployeeID": "linda0"
                                },
                                {
                                    "LoginID": "adventure-works\\linda1",
                                    "Domain": "adventure-works",
                                    "EmployeeID": "linda1"
                                },
                                {
                                    "LoginID": "adventure-works\\linda2",
                                    "Domain": "adventure-works",
                                    "EmployeeID": "linda2"
                                },
                                {
                                    "LoginID": "adventure-works\\linda3",
                                    "Domain": "adventure-works",
                                    "EmployeeID": "linda3"
                                },
                                {
                                    "LoginID": "adventure-works\\lionel0",
                                    "Domain": "adventure-works",
                                    "EmployeeID": "lionel0"
                                },
                                {
                                    "LoginID": "adventure-works\\lolan0",
                                    "Domain": "adventure-works",
                                    "EmployeeID": "lolan0"
                                },
                                {
                                    "LoginID": "adventure-works\\lori0",
                                    "Domain": "adventure-works",
                                    "EmployeeID": "lori0"
                                },
                                {
                                    "LoginID": "adventure-works\\lori1",
                                    "Domain": "adventure-works",
                                    "EmployeeID": "lori1"
                                },
                                {
                                    "LoginID": "adventure-works\\lorraine0",
                                    "Domain": "adventure-works",
                                    "EmployeeID": "lorraine0"
                                },
                                {
                                    "LoginID": "adventure-works\\lynn0",
                                    "Domain": "adventure-works",
                                    "EmployeeID": "lynn0"
                                },
                                {
                                    "LoginID": "adventure-works\\maciej0",
                                    "Domain": "adventure-works",
                                    "EmployeeID": "maciej0"
                                },
                                {
                                    "LoginID": "adventure-works\\magnus0",
                                    "Domain": "adventure-works",
                                    "EmployeeID": "magnus0"
                                },
                                {
                                    "LoginID": "adventure-works\\mandar0",
                                    "Domain": "adventure-works",
                                    "EmployeeID": "mandar0"
                                },
                                {
                                    "LoginID": "adventure-works\\marc0",
                                    "Domain": "adventure-works",
                                    "EmployeeID": "marc0"
                                },
                                {
                                    "LoginID": "adventure-works\\margie0",
                                    "Domain": "adventure-works",
                                    "EmployeeID": "margie0"
                                },
                                {
                                    "LoginID": "adventure-works\\mark0",
                                    "Domain": "adventure-works",
                                    "EmployeeID": "mark0"
                                },
                                {
                                    "LoginID": "adventure-works\\mark1",
                                    "Domain": "adventure-works",
                                    "EmployeeID": "mark1"
                                },
                                {
                                    "LoginID": "adventure-works\\mary0",
                                    "Domain": "adventure-works",
                                    "EmployeeID": "mary0"
                                },
                                {
                                    "LoginID": "adventure-works\\mary1",
                                    "Domain": "adventure-works",
                                    "EmployeeID": "mary1"
                                },
                                {
                                    "LoginID": "adventure-works\\mary2",
                                    "Domain": "adventure-works",
                                    "EmployeeID": "mary2"
                                },
                                {
                                    "LoginID": "adventure-works\\matthias0",
                                    "Domain": "adventure-works",
                                    "EmployeeID": "matthias0"
                                },
                                {
                                    "LoginID": "adventure-works\\merav0",
                                    "Domain": "adventure-works",
                                    "EmployeeID": "merav0"
                                },
                                {
                                    "LoginID": "adventure-works\\michael0",
                                    "Domain": "adventure-works",
                                    "EmployeeID": "michael0"
                                },
                                {
                                    "LoginID": "adventure-works\\michael1",
                                    "Domain": "adventure-works",
                                    "EmployeeID": "michael1"
                                },
                                {
                                    "LoginID": "adventure-works\\michael2",
                                    "Domain": "adventure-works",
                                    "EmployeeID": "michael2"
                                },
                                {
                                    "LoginID": "adventure-works\\michael3",
                                    "Domain": "adventure-works",
                                    "EmployeeID": "michael3"
                                },
                                {
                                    "LoginID": "adventure-works\\michael4",
                                    "Domain": "adventure-works",
                                    "EmployeeID": "michael4"
                                },
                                {
                                    "LoginID": "adventure-works\\michael5",
                                    "Domain": "adventure-works",
                                    "EmployeeID": "michael5"
                                },
                                {
                                    "LoginID": "adventure-works\\michael6",
                                    "Domain": "adventure-works",
                                    "EmployeeID": "michael6"
                                },
                                {
                                    "LoginID": "adventure-works\\michael7",
                                    "Domain": "adventure-works",
                                    "EmployeeID": "michael7"
                                },
                                {
                                    "LoginID": "adventure-works\\michael8",
                                    "Domain": "adventure-works",
                                    "EmployeeID": "michael8"
                                },
                                {
                                    "LoginID": "adventure-works\\michael9",
                                    "Domain": "adventure-works",
                                    "EmployeeID": "michael9"
                                },
                                {
                                    "LoginID": "adventure-works\\michiko0",
                                    "Domain": "adventure-works",
                                    "EmployeeID": "michiko0"
                                },
                                {
                                    "LoginID": "adventure-works\\mihail0",
                                    "Domain": "adventure-works",
                                    "EmployeeID": "mihail0"
                                },
                                {
                                    "LoginID": "adventure-works\\mikael0",
                                    "Domain": "adventure-works",
                                    "EmployeeID": "mikael0"
                                },
                                {
                                    "LoginID": "adventure-works\\mike0",
                                    "Domain": "adventure-works",
                                    "EmployeeID": "mike0"
                                },
                                {
                                    "LoginID": "adventure-works\\min0",
                                    "Domain": "adventure-works",
                                    "EmployeeID": "min0"
                                },
                                {
                                    "LoginID": "adventure-works\\mindaugas0",
                                    "Domain": "adventure-works",
                                    "EmployeeID": "mindaugas0"
                                },
                                {
                                    "LoginID": "adventure-works\\mindy0",
                                    "Domain": "adventure-works",
                                    "EmployeeID": "mindy0"
                                },
                                {
                                    "LoginID": "adventure-works\\nancy0",
                                    "Domain": "adventure-works",
                                    "EmployeeID": "nancy0"
                                },
                                {
                                    "LoginID": "adventure-works\\nicole0",
                                    "Domain": "adventure-works",
                                    "EmployeeID": "nicole0"
                                },
                                {
                                    "LoginID": "adventure-works\\nitin0",
                                    "Domain": "adventure-works",
                                    "EmployeeID": "nitin0"
                                },
                                {
                                    "LoginID": "adventure-works\\nuan0",
                                    "Domain": "adventure-works",
                                    "EmployeeID": "nuan0"
                                },
                                {
                                    "LoginID": "adventure-works\\olinda0",
                                    "Domain": "adventure-works",
                                    "EmployeeID": "olinda0"
                                },
                                {
                                    "LoginID": "adventure-works\\ovidiu0",
                                    "Domain": "adventure-works",
                                    "EmployeeID": "ovidiu0"
                                },
                                {
                                    "LoginID": "adventure-works\\pamela0",
                                    "Domain": "adventure-works",
                                    "EmployeeID": "pamela0"
                                },
                                {
                                    "LoginID": "adventure-works\\pat0",
                                    "Domain": "adventure-works",
                                    "EmployeeID": "pat0"
                                },
                                {
                                    "LoginID": "adventure-works\\patrick0",
                                    "Domain": "adventure-works",
                                    "EmployeeID": "patrick0"
                                },
                                {
                                    "LoginID": "adventure-works\\patrick1",
                                    "Domain": "adventure-works",
                                    "EmployeeID": "patrick1"
                                },
                                {
                                    "LoginID": "adventure-works\\paul0",
                                    "Domain": "adventure-works",
                                    "EmployeeID": "paul0"
                                },
                                {
                                    "LoginID": "adventure-works\\paul1",
                                    "Domain": "adventure-works",
                                    "EmployeeID": "paul1"
                                },
                                {
                                    "LoginID": "adventure-works\\paula0",
                                    "Domain": "adventure-works",
                                    "EmployeeID": "paula0"
                                },
                                {
                                    "LoginID": "adventure-works\\paula1",
                                    "Domain": "adventure-works",
                                    "EmployeeID": "paula1"
                                },
                                {
                                    "LoginID": "adventure-works\\peng0",
                                    "Domain": "adventure-works",
                                    "EmployeeID": "peng0"
                                },
                                {
                                    "LoginID": "adventure-works\\pete0",
                                    "Domain": "adventure-works",
                                    "EmployeeID": "pete0"
                                },
                                {
                                    "LoginID": "adventure-works\\peter0",
                                    "Domain": "adventure-works",
                                    "EmployeeID": "peter0"
                                },
                                {
                                    "LoginID": "adventure-works\\peter1",
                                    "Domain": "adventure-works",
                                    "EmployeeID": "peter1"
                                },
                                {
                                    "LoginID": "adventure-works\\pilar0",
                                    "Domain": "adventure-works",
                                    "EmployeeID": "pilar0"
                                },
                                {
                                    "LoginID": "adventure-works\\prasanna0",
                                    "Domain": "adventure-works",
                                    "EmployeeID": "prasanna0"
                                },
                                {
                                    "LoginID": "adventure-works\\rachel0",
                                    "Domain": "adventure-works",
                                    "EmployeeID": "rachel0"
                                },
                                {
                                    "LoginID": "adventure-works\\rajesh0",
                                    "Domain": "adventure-works",
                                    "EmployeeID": "rajesh0"
                                },
                                {
                                    "LoginID": "adventure-works\\ramesh0",
                                    "Domain": "adventure-works",
                                    "EmployeeID": "ramesh0"
                                },
                                {
                                    "LoginID": "adventure-works\\randy0",
                                    "Domain": "adventure-works",
                                    "EmployeeID": "randy0"
                                },
                                {
                                    "LoginID": "adventure-works\\ranjit0",
                                    "Domain": "adventure-works",
                                    "EmployeeID": "ranjit0"
                                },
                                {
                                    "LoginID": "adventure-works\\raymond0",
                                    "Domain": "adventure-works",
                                    "EmployeeID": "raymond0"
                                },
                                {
                                    "LoginID": "adventure-works\\rebecca0",
                                    "Domain": "adventure-works",
                                    "EmployeeID": "rebecca0"
                                },
                                {
                                    "LoginID": "adventure-works\\reed0",
                                    "Domain": "adventure-works",
                                    "EmployeeID": "reed0"
                                },
                                {
                                    "LoginID": "adventure-works\\reinout0",
                                    "Domain": "adventure-works",
                                    "EmployeeID": "reinout0"
                                },
                                {
                                    "LoginID": "adventure-works\\reuben0",
                                    "Domain": "adventure-works",
                                    "EmployeeID": "reuben0"
                                },
                                {
                                    "LoginID": "adventure-works\\rob0",
                                    "Domain": "adventure-works",
                                    "EmployeeID": "rob0"
                                },
                                {
                                    "LoginID": "adventure-works\\rob1",
                                    "Domain": "adventure-works",
                                    "EmployeeID": "rob1"
                                },
                                {
                                    "LoginID": "adventure-works\\robert0",
                                    "Domain": "adventure-works",
                                    "EmployeeID": "robert0"
                                },
                                {
                                    "LoginID": "adventure-works\\roberto0",
                                    "Domain": "adventure-works",
                                    "EmployeeID": "roberto0"
                                },
                                {
                                    "LoginID": "adventure-works\\rostislav0",
                                    "Domain": "adventure-works",
                                    "EmployeeID": "rostislav0"
                                },
                                {
                                    "LoginID": "adventure-works\\russell0",
                                    "Domain": "adventure-works",
                                    "EmployeeID": "russell0"
                                },
                                {
                                    "LoginID": "adventure-works\\russell1",
                                    "Domain": "adventure-works",
                                    "EmployeeID": "russell1"
                                },
                                {
                                    "LoginID": "adventure-works\\ruth0",
                                    "Domain": "adventure-works",
                                    "EmployeeID": "ruth0"
                                },
                                {
                                    "LoginID": "adventure-works\\ryan0",
                                    "Domain": "adventure-works",
                                    "EmployeeID": "ryan0"
                                },
                                {
                                    "LoginID": "adventure-works\\sairaj0",
                                    "Domain": "adventure-works",
                                    "EmployeeID": "sairaj0"
                                },
                                {
                                    "LoginID": "adventure-works\\samantha0",
                                    "Domain": "adventure-works",
                                    "EmployeeID": "samantha0"
                                },
                                {
                                    "LoginID": "adventure-works\\sameer0",
                                    "Domain": "adventure-works",
                                    "EmployeeID": "sameer0"
                                },
                                {
                                    "LoginID": "adventure-works\\sandeep0",
                                    "Domain": "adventure-works",
                                    "EmployeeID": "sandeep0"
                                },
                                {
                                    "LoginID": "adventure-works\\sandra0",
                                    "Domain": "adventure-works",
                                    "EmployeeID": "sandra0"
                                },
                                {
                                    "LoginID": "adventure-works\\sariya0",
                                    "Domain": "adventure-works",
                                    "EmployeeID": "sariya0"
                                },
                                {
                                    "LoginID": "adventure-works\\scott0",
                                    "Domain": "adventure-works",
                                    "EmployeeID": "scott0"
                                },
                                {
                                    "LoginID": "adventure-works\\sean0",
                                    "Domain": "adventure-works",
                                    "EmployeeID": "sean0"
                                },
                                {
                                    "LoginID": "adventure-works\\sean1",
                                    "Domain": "adventure-works",
                                    "EmployeeID": "sean1"
                                },
                                {
                                    "LoginID": "adventure-works\\shammi0",
                                    "Domain": "adventure-works",
                                    "EmployeeID": "shammi0"
                                },
                                {
                                    "LoginID": "adventure-works\\shane0",
                                    "Domain": "adventure-works",
                                    "EmployeeID": "shane0"
                                },
                                {
                                    "LoginID": "adventure-works\\sharon0",
                                    "Domain": "adventure-works",
                                    "EmployeeID": "sharon0"
                                },
                                {
                                    "LoginID": "adventure-works\\sheela0",
                                    "Domain": "adventure-works",
                                    "EmployeeID": "sheela0"
                                },
                                {
                                    "LoginID": "adventure-works\\shelley0",
                                    "Domain": "adventure-works",
                                    "EmployeeID": "shelley0"
                                },
                                {
                                    "LoginID": "adventure-works\\shu0",
                                    "Domain": "adventure-works",
                                    "EmployeeID": "shu0"
                                },
                                {
                                    "LoginID": "adventure-works\\sidney0",
                                    "Domain": "adventure-works",
                                    "EmployeeID": "sidney0"
                                },
                                {
                                    "LoginID": "adventure-works\\simon0",
                                    "Domain": "adventure-works",
                                    "EmployeeID": "simon0"
                                },
                                {
                                    "LoginID": "adventure-works\\sootha0",
                                    "Domain": "adventure-works",
                                    "EmployeeID": "sootha0"
                                },
                                {
                                    "LoginID": "adventure-works\\stefen0",
                                    "Domain": "adventure-works",
                                    "EmployeeID": "stefen0"
                                },
                                {
                                    "LoginID": "adventure-works\\stephanie0",
                                    "Domain": "adventure-works",
                                    "EmployeeID": "stephanie0"
                                },
                                {
                                    "LoginID": "adventure-works\\stephen0",
                                    "Domain": "adventure-works",
                                    "EmployeeID": "stephen0"
                                },
                                {
                                    "LoginID": "adventure-works\\steve0",
                                    "Domain": "adventure-works",
                                    "EmployeeID": "steve0"
                                },
                                {
                                    "LoginID": "adventure-works\\steven0",
                                    "Domain": "adventure-works",
                                    "EmployeeID": "steven0"
                                },
                                {
                                    "LoginID": "adventure-works\\stuart0",
                                    "Domain": "adventure-works",
                                    "EmployeeID": "stuart0"
                                },
                                {
                                    "LoginID": "adventure-works\\stuart1",
                                    "Domain": "adventure-works",
                                    "EmployeeID": "stuart1"
                                },
                                {
                                    "LoginID": "adventure-works\\suchitra0",
                                    "Domain": "adventure-works",
                                    "EmployeeID": "suchitra0"
                                },
                                {
                                    "LoginID": "adventure-works\\suroor0",
                                    "Domain": "adventure-works",
                                    "EmployeeID": "suroor0"
                                },
                                {
                                    "LoginID": "adventure-works\\susan0",
                                    "Domain": "adventure-works",
                                    "EmployeeID": "susan0"
                                },
                                {
                                    "LoginID": "adventure-works\\susan1",
                                    "Domain": "adventure-works",
                                    "EmployeeID": "susan1"
                                },
                                {
                                    "LoginID": "adventure-works\\syed0",
                                    "Domain": "adventure-works",
                                    "EmployeeID": "syed0"
                                },
                                {
                                    "LoginID": "adventure-works\\sylvester0",
                                    "Domain": "adventure-works",
                                    "EmployeeID": "sylvester0"
                                },
                                {
                                    "LoginID": "adventure-works\\tawana0",
                                    "Domain": "adventure-works",
                                    "EmployeeID": "tawana0"
                                },
                                {
                                    "LoginID": "adventure-works\\taylor0",
                                    "Domain": "adventure-works",
                                    "EmployeeID": "taylor0"
                                },
                                {
                                    "LoginID": "adventure-works\\tengiz0",
                                    "Domain": "adventure-works",
                                    "EmployeeID": "tengiz0"
                                },
                                {
                                    "LoginID": "adventure-works\\terrence0",
                                    "Domain": "adventure-works",
                                    "EmployeeID": "terrence0"
                                },
                                {
                                    "LoginID": "adventure-works\\terri0",
                                    "Domain": "adventure-works",
                                    "EmployeeID": "terri0"
                                },
                                {
                                    "LoginID": "adventure-works\\terry0",
                                    "Domain": "adventure-works",
                                    "EmployeeID": "terry0"
                                },
                                {
                                    "LoginID": "adventure-works\\tete0",
                                    "Domain": "adventure-works",
                                    "EmployeeID": "tete0"
                                },
                                {
                                    "LoginID": "adventure-works\\thierry0",
                                    "Domain": "adventure-works",
                                    "EmployeeID": "thierry0"
                                },
                                {
                                    "LoginID": "adventure-works\\thomas0",
                                    "Domain": "adventure-works",
                                    "EmployeeID": "thomas0"
                                },
                                {
                                    "LoginID": "adventure-works\\tom0",
                                    "Domain": "adventure-works",
                                    "EmployeeID": "tom0"
                                },
                                {
                                    "LoginID": "adventure-works\\tsvi0",
                                    "Domain": "adventure-works",
                                    "EmployeeID": "tsvi0"
                                },
                                {
                                    "LoginID": "adventure-works\\vamsi0",
                                    "Domain": "adventure-works",
                                    "EmployeeID": "vamsi0"
                                },
                                {
                                    "LoginID": "adventure-works\\vidur0",
                                    "Domain": "adventure-works",
                                    "EmployeeID": "vidur0"
                                },
                                {
                                    "LoginID": "adventure-works\\wanida0",
                                    "Domain": "adventure-works",
                                    "EmployeeID": "wanida0"
                                },
                                {
                                    "LoginID": "adventure-works\\wendy0",
                                    "Domain": "adventure-works",
                                    "EmployeeID": "wendy0"
                                },
                                {
                                    "LoginID": "adventure-works\\william0",
                                    "Domain": "adventure-works",
                                    "EmployeeID": "william0"
                                },
                                {
                                    "LoginID": "adventure-works\\willis0",
                                    "Domain": "adventure-works",
                                    "EmployeeID": "willis0"
                                },
                                {
                                    "LoginID": "adventure-works\\yuhong0",
                                    "Domain": "adventure-works",
                                    "EmployeeID": "yuhong0"
                                },
                                {
                                    "LoginID": "adventure-works\\yvonne0",
                                    "Domain": "adventure-works",
                                    "EmployeeID": "yvonne0"
                                },
                                {
                                    "LoginID": "adventure-works\\zainal0",
                                    "Domain": "adventure-works",
                                    "EmployeeID": "zainal0"
                                },
                                {
                                    "LoginID": "adventure-works\\zheng0",
                                    "Domain": "adventure-works",
                                    "EmployeeID": "zheng0"
                                }
                            ]
                        },
                        "text/html": [
                            "<table>",
                            "<tr><th>LoginID</th><th>Domain</th><th>EmployeeID</th></tr>",
                            "<tr><td>adventure-works\\alan0</td><td>adventure-works</td><td>alan0</td></tr>",
                            "<tr><td>adventure-works\\alejandro0</td><td>adventure-works</td><td>alejandro0</td></tr>",
                            "<tr><td>adventure-works\\alex0</td><td>adventure-works</td><td>alex0</td></tr>",
                            "<tr><td>adventure-works\\alice0</td><td>adventure-works</td><td>alice0</td></tr>",
                            "<tr><td>adventure-works\\amy0</td><td>adventure-works</td><td>amy0</td></tr>",
                            "<tr><td>adventure-works\\andreas0</td><td>adventure-works</td><td>andreas0</td></tr>",
                            "<tr><td>adventure-works\\andrew0</td><td>adventure-works</td><td>andrew0</td></tr>",
                            "<tr><td>adventure-works\\andrew1</td><td>adventure-works</td><td>andrew1</td></tr>",
                            "<tr><td>adventure-works\\andy0</td><td>adventure-works</td><td>andy0</td></tr>",
                            "<tr><td>adventure-works\\angela0</td><td>adventure-works</td><td>angela0</td></tr>",
                            "<tr><td>adventure-works\\anibal0</td><td>adventure-works</td><td>anibal0</td></tr>",
                            "<tr><td>adventure-works\\annette0</td><td>adventure-works</td><td>annette0</td></tr>",
                            "<tr><td>adventure-works\\annik0</td><td>adventure-works</td><td>annik0</td></tr>",
                            "<tr><td>adventure-works\\arvind0</td><td>adventure-works</td><td>arvind0</td></tr>",
                            "<tr><td>adventure-works\\ascott0</td><td>adventure-works</td><td>ascott0</td></tr>",
                            "<tr><td>adventure-works\\ashvini0</td><td>adventure-works</td><td>ashvini0</td></tr>",
                            "<tr><td>adventure-works\\barbara0</td><td>adventure-works</td><td>barbara0</td></tr>",
                            "<tr><td>adventure-works\\barbara1</td><td>adventure-works</td><td>barbara1</td></tr>",
                            "<tr><td>adventure-works\\baris0</td><td>adventure-works</td><td>baris0</td></tr>",
                            "<tr><td>adventure-works\\barry0</td><td>adventure-works</td><td>barry0</td></tr>",
                            "<tr><td>adventure-works\\belinda0</td><td>adventure-works</td><td>belinda0</td></tr>",
                            "<tr><td>adventure-works\\ben0</td><td>adventure-works</td><td>ben0</td></tr>",
                            "<tr><td>adventure-works\\benjamin0</td><td>adventure-works</td><td>benjamin0</td></tr>",
                            "<tr><td>adventure-works\\betsy0</td><td>adventure-works</td><td>betsy0</td></tr>",
                            "<tr><td>adventure-works\\bjorn0</td><td>adventure-works</td><td>bjorn0</td></tr>",
                            "<tr><td>adventure-works\\bob0</td><td>adventure-works</td><td>bob0</td></tr>",
                            "<tr><td>adventure-works\\bonnie0</td><td>adventure-works</td><td>bonnie0</td></tr>",
                            "<tr><td>adventure-works\\brandon0</td><td>adventure-works</td><td>brandon0</td></tr>",
                            "<tr><td>adventure-works\\brenda0</td><td>adventure-works</td><td>brenda0</td></tr>",
                            "<tr><td>adventure-works\\brian0</td><td>adventure-works</td><td>brian0</td></tr>",
                            "<tr><td>adventure-works\\brian1</td><td>adventure-works</td><td>brian1</td></tr>",
                            "<tr><td>adventure-works\\brian2</td><td>adventure-works</td><td>brian2</td></tr>",
                            "<tr><td>adventure-works\\brian3</td><td>adventure-works</td><td>brian3</td></tr>",
                            "<tr><td>adventure-works\\britta0</td><td>adventure-works</td><td>britta0</td></tr>",
                            "<tr><td>adventure-works\\bryan0</td><td>adventure-works</td><td>bryan0</td></tr>",
                            "<tr><td>adventure-works\\bryan1</td><td>adventure-works</td><td>bryan1</td></tr>",
                            "<tr><td>adventure-works\\candy0</td><td>adventure-works</td><td>candy0</td></tr>",
                            "<tr><td>adventure-works\\carol0</td><td>adventure-works</td><td>carol0</td></tr>",
                            "<tr><td>adventure-works\\carole0</td><td>adventure-works</td><td>carole0</td></tr>",
                            "<tr><td>adventure-works\\chad0</td><td>adventure-works</td><td>chad0</td></tr>",
                            "<tr><td>adventure-works\\charles0</td><td>adventure-works</td><td>charles0</td></tr>",
                            "<tr><td>adventure-works\\chris0</td><td>adventure-works</td><td>chris0</td></tr>",
                            "<tr><td>adventure-works\\chris1</td><td>adventure-works</td><td>chris1</td></tr>",
                            "<tr><td>adventure-works\\chris2</td><td>adventure-works</td><td>chris2</td></tr>",
                            "<tr><td>adventure-works\\christian0</td><td>adventure-works</td><td>christian0</td></tr>",
                            "<tr><td>adventure-works\\christopher0</td><td>adventure-works</td><td>christopher0</td></tr>",
                            "<tr><td>adventure-works\\cristian0</td><td>adventure-works</td><td>cristian0</td></tr>",
                            "<tr><td>adventure-works\\cynthia0</td><td>adventure-works</td><td>cynthia0</td></tr>",
                            "<tr><td>adventure-works\\dan0</td><td>adventure-works</td><td>dan0</td></tr>",
                            "<tr><td>adventure-works\\dan1</td><td>adventure-works</td><td>dan1</td></tr>",
                            "<tr><td>adventure-works\\danielle0</td><td>adventure-works</td><td>danielle0</td></tr>",
                            "<tr><td>adventure-works\\david0</td><td>adventure-works</td><td>david0</td></tr>",
                            "<tr><td>adventure-works\\david1</td><td>adventure-works</td><td>david1</td></tr>",
                            "<tr><td>adventure-works\\david2</td><td>adventure-works</td><td>david2</td></tr>",
                            "<tr><td>adventure-works\\david3</td><td>adventure-works</td><td>david3</td></tr>",
                            "<tr><td>adventure-works\\david4</td><td>adventure-works</td><td>david4</td></tr>",
                            "<tr><td>adventure-works\\david5</td><td>adventure-works</td><td>david5</td></tr>",
                            "<tr><td>adventure-works\\david6</td><td>adventure-works</td><td>david6</td></tr>",
                            "<tr><td>adventure-works\\david7</td><td>adventure-works</td><td>david7</td></tr>",
                            "<tr><td>adventure-works\\david8</td><td>adventure-works</td><td>david8</td></tr>",
                            "<tr><td>adventure-works\\deborah0</td><td>adventure-works</td><td>deborah0</td></tr>",
                            "<tr><td>adventure-works\\denise0</td><td>adventure-works</td><td>denise0</td></tr>",
                            "<tr><td>adventure-works\\diane0</td><td>adventure-works</td><td>diane0</td></tr>",
                            "<tr><td>adventure-works\\diane1</td><td>adventure-works</td><td>diane1</td></tr>",
                            "<tr><td>adventure-works\\diane2</td><td>adventure-works</td><td>diane2</td></tr>",
                            "<tr><td>adventure-works\\don0</td><td>adventure-works</td><td>don0</td></tr>",
                            "<tr><td>adventure-works\\doris0</td><td>adventure-works</td><td>doris0</td></tr>",
                            "<tr><td>adventure-works\\douglas0</td><td>adventure-works</td><td>douglas0</td></tr>",
                            "<tr><td>adventure-works\\dragan0</td><td>adventure-works</td><td>dragan0</td></tr>",
                            "<tr><td>adventure-works\\dylan0</td><td>adventure-works</td><td>dylan0</td></tr>",
                            "<tr><td>adventure-works\\ebru0</td><td>adventure-works</td><td>ebru0</td></tr>",
                            "<tr><td>adventure-works\\ed0</td><td>adventure-works</td><td>ed0</td></tr>",
                            "<tr><td>adventure-works\\elizabeth0</td><td>adventure-works</td><td>elizabeth0</td></tr>",
                            "<tr><td>adventure-works\\eric0</td><td>adventure-works</td><td>eric0</td></tr>",
                            "<tr><td>adventure-works\\eric1</td><td>adventure-works</td><td>eric1</td></tr>",
                            "<tr><td>adventure-works\\eric2</td><td>adventure-works</td><td>eric2</td></tr>",
                            "<tr><td>adventure-works\\erin0</td><td>adventure-works</td><td>erin0</td></tr>",
                            "<tr><td>adventure-works\\eugene0</td><td>adventure-works</td><td>eugene0</td></tr>",
                            "<tr><td>adventure-works\\eugene1</td><td>adventure-works</td><td>eugene1</td></tr>",
                            "<tr><td>adventure-works\\fadi0</td><td>adventure-works</td><td>fadi0</td></tr>",
                            "<tr><td>adventure-works\\françois0</td><td>adventure-works</td><td>françois0</td></tr>",
                            "<tr><td>adventure-works\\frank0</td><td>adventure-works</td><td>frank0</td></tr>",
                            "<tr><td>adventure-works\\frank1</td><td>adventure-works</td><td>frank1</td></tr>",
                            "<tr><td>adventure-works\\frank2</td><td>adventure-works</td><td>frank2</td></tr>",
                            "<tr><td>adventure-works\\frank3</td><td>adventure-works</td><td>frank3</td></tr>",
                            "<tr><td>adventure-works\\fred0</td><td>adventure-works</td><td>fred0</td></tr>",
                            "<tr><td>adventure-works\\fukiko0</td><td>adventure-works</td><td>fukiko0</td></tr>",
                            "<tr><td>adventure-works\\gabe0</td><td>adventure-works</td><td>gabe0</td></tr>",
                            "<tr><td>adventure-works\\gail0</td><td>adventure-works</td><td>gail0</td></tr>",
                            "<tr><td>adventure-works\\garrett0</td><td>adventure-works</td><td>garrett0</td></tr>",
                            "<tr><td>adventure-works\\garrett1</td><td>adventure-works</td><td>garrett1</td></tr>",
                            "<tr><td>adventure-works\\gary0</td><td>adventure-works</td><td>gary0</td></tr>",
                            "<tr><td>adventure-works\\gary1</td><td>adventure-works</td><td>gary1</td></tr>",
                            "<tr><td>adventure-works\\george0</td><td>adventure-works</td><td>george0</td></tr>",
                            "<tr><td>adventure-works\\gigi0</td><td>adventure-works</td><td>gigi0</td></tr>",
                            "<tr><td>adventure-works\\gordon0</td><td>adventure-works</td><td>gordon0</td></tr>",
                            "<tr><td>adventure-works\\grant0</td><td>adventure-works</td><td>grant0</td></tr>",
                            "<tr><td>adventure-works\\greg0</td><td>adventure-works</td><td>greg0</td></tr>",
                            "<tr><td>adventure-works\\guy1</td><td>adventure-works</td><td>guy1</td></tr>",
                            "<tr><td>adventure-works\\hanying0</td><td>adventure-works</td><td>hanying0</td></tr>",
                            "<tr><td>adventure-works\\hao0</td><td>adventure-works</td><td>hao0</td></tr>",
                            "<tr><td>adventure-works\\hazem0</td><td>adventure-works</td><td>hazem0</td></tr>",
                            "<tr><td>adventure-works\\houman0</td><td>adventure-works</td><td>houman0</td></tr>",
                            "<tr><td>adventure-works\\hung-fu0</td><td>adventure-works</td><td>hung-fu0</td></tr>",
                            "<tr><td>adventure-works\\ivo0</td><td>adventure-works</td><td>ivo0</td></tr>",
                            "<tr><td>adventure-works\\jack0</td><td>adventure-works</td><td>jack0</td></tr>",
                            "<tr><td>adventure-works\\jack1</td><td>adventure-works</td><td>jack1</td></tr>",
                            "<tr><td>adventure-works\\jae0</td><td>adventure-works</td><td>jae0</td></tr>",
                            "<tr><td>adventure-works\\james0</td><td>adventure-works</td><td>james0</td></tr>",
                            "<tr><td>adventure-works\\james1</td><td>adventure-works</td><td>james1</td></tr>",
                            "<tr><td>adventure-works\\jan0</td><td>adventure-works</td><td>jan0</td></tr>",
                            "<tr><td>adventure-works\\janaina0</td><td>adventure-works</td><td>janaina0</td></tr>",
                            "<tr><td>adventure-works\\janet0</td><td>adventure-works</td><td>janet0</td></tr>",
                            "<tr><td>adventure-works\\janeth0</td><td>adventure-works</td><td>janeth0</td></tr>",
                            "<tr><td>adventure-works\\janice0</td><td>adventure-works</td><td>janice0</td></tr>",
                            "<tr><td>adventure-works\\jason0</td><td>adventure-works</td><td>jason0</td></tr>",
                            "<tr><td>adventure-works\\jay0</td><td>adventure-works</td><td>jay0</td></tr>",
                            "<tr><td>adventure-works\\jean0</td><td>adventure-works</td><td>jean0</td></tr>",
                            "<tr><td>adventure-works\\jeff0</td><td>adventure-works</td><td>jeff0</td></tr>",
                            "<tr><td>adventure-works\\jeffrey0</td><td>adventure-works</td><td>jeffrey0</td></tr>",
                            "<tr><td>adventure-works\\jianshuo0</td><td>adventure-works</td><td>jianshuo0</td></tr>",
                            "<tr><td>adventure-works\\jill0</td><td>adventure-works</td><td>jill0</td></tr>",
                            "<tr><td>adventure-works\\jillian0</td><td>adventure-works</td><td>jillian0</td></tr>",
                            "<tr><td>adventure-works\\jim0</td><td>adventure-works</td><td>jim0</td></tr>",
                            "<tr><td>adventure-works\\jimmy0</td><td>adventure-works</td><td>jimmy0</td></tr>",
                            "<tr><td>adventure-works\\jinghao0</td><td>adventure-works</td><td>jinghao0</td></tr>",
                            "<tr><td>adventure-works\\jo0</td><td>adventure-works</td><td>jo0</td></tr>",
                            "<tr><td>adventure-works\\jo1</td><td>adventure-works</td><td>jo1</td></tr>",
                            "<tr><td>adventure-works\\john0</td><td>adventure-works</td><td>john0</td></tr>",
                            "<tr><td>adventure-works\\john1</td><td>adventure-works</td><td>john1</td></tr>",
                            "<tr><td>adventure-works\\john2</td><td>adventure-works</td><td>john2</td></tr>",
                            "<tr><td>adventure-works\\john3</td><td>adventure-works</td><td>john3</td></tr>",
                            "<tr><td>adventure-works\\john4</td><td>adventure-works</td><td>john4</td></tr>",
                            "<tr><td>adventure-works\\john5</td><td>adventure-works</td><td>john5</td></tr>",
                            "<tr><td>adventure-works\\jolynn0</td><td>adventure-works</td><td>jolynn0</td></tr>",
                            "<tr><td>adventure-works\\jose0</td><td>adventure-works</td><td>jose0</td></tr>",
                            "<tr><td>adventure-works\\josé1</td><td>adventure-works</td><td>josé1</td></tr>",
                            "<tr><td>adventure-works\\jossef0</td><td>adventure-works</td><td>jossef0</td></tr>",
                            "<tr><td>adventure-works\\jun0</td><td>adventure-works</td><td>jun0</td></tr>",
                            "<tr><td>adventure-works\\karan0</td><td>adventure-works</td><td>karan0</td></tr>",
                            "<tr><td>adventure-works\\karen0</td><td>adventure-works</td><td>karen0</td></tr>",
                            "<tr><td>adventure-works\\karen1</td><td>adventure-works</td><td>karen1</td></tr>",
                            "<tr><td>adventure-works\\kathie0</td><td>adventure-works</td><td>kathie0</td></tr>",
                            "<tr><td>adventure-works\\katie0</td><td>adventure-works</td><td>katie0</td></tr>",
                            "<tr><td>adventure-works\\ken0</td><td>adventure-works</td><td>ken0</td></tr>",
                            "<tr><td>adventure-works\\ken1</td><td>adventure-works</td><td>ken1</td></tr>",
                            "<tr><td>adventure-works\\kendall0</td><td>adventure-works</td><td>kendall0</td></tr>",
                            "<tr><td>adventure-works\\kevin0</td><td>adventure-works</td><td>kevin0</td></tr>",
                            "<tr><td>adventure-works\\kevin1</td><td>adventure-works</td><td>kevin1</td></tr>",
                            "<tr><td>adventure-works\\kevin2</td><td>adventure-works</td><td>kevin2</td></tr>",
                            "<tr><td>adventure-works\\kim0</td><td>adventure-works</td><td>kim0</td></tr>",
                            "<tr><td>adventure-works\\kim1</td><td>adventure-works</td><td>kim1</td></tr>",
                            "<tr><td>adventure-works\\kimberly0</td><td>adventure-works</td><td>kimberly0</td></tr>",
                            "<tr><td>adventure-works\\kirk0</td><td>adventure-works</td><td>kirk0</td></tr>",
                            "<tr><td>adventure-works\\kitti0</td><td>adventure-works</td><td>kitti0</td></tr>",
                            "<tr><td>adventure-works\\kok-ho0</td><td>adventure-works</td><td>kok-ho0</td></tr>",
                            "<tr><td>adventure-works\\krishna0</td><td>adventure-works</td><td>krishna0</td></tr>",
                            "<tr><td>adventure-works\\lane0</td><td>adventure-works</td><td>lane0</td></tr>",
                            "<tr><td>adventure-works\\laura0</td><td>adventure-works</td><td>laura0</td></tr>",
                            "<tr><td>adventure-works\\laura1</td><td>adventure-works</td><td>laura1</td></tr>",
                            "<tr><td>adventure-works\\linda0</td><td>adventure-works</td><td>linda0</td></tr>",
                            "<tr><td>adventure-works\\linda1</td><td>adventure-works</td><td>linda1</td></tr>",
                            "<tr><td>adventure-works\\linda2</td><td>adventure-works</td><td>linda2</td></tr>",
                            "<tr><td>adventure-works\\linda3</td><td>adventure-works</td><td>linda3</td></tr>",
                            "<tr><td>adventure-works\\lionel0</td><td>adventure-works</td><td>lionel0</td></tr>",
                            "<tr><td>adventure-works\\lolan0</td><td>adventure-works</td><td>lolan0</td></tr>",
                            "<tr><td>adventure-works\\lori0</td><td>adventure-works</td><td>lori0</td></tr>",
                            "<tr><td>adventure-works\\lori1</td><td>adventure-works</td><td>lori1</td></tr>",
                            "<tr><td>adventure-works\\lorraine0</td><td>adventure-works</td><td>lorraine0</td></tr>",
                            "<tr><td>adventure-works\\lynn0</td><td>adventure-works</td><td>lynn0</td></tr>",
                            "<tr><td>adventure-works\\maciej0</td><td>adventure-works</td><td>maciej0</td></tr>",
                            "<tr><td>adventure-works\\magnus0</td><td>adventure-works</td><td>magnus0</td></tr>",
                            "<tr><td>adventure-works\\mandar0</td><td>adventure-works</td><td>mandar0</td></tr>",
                            "<tr><td>adventure-works\\marc0</td><td>adventure-works</td><td>marc0</td></tr>",
                            "<tr><td>adventure-works\\margie0</td><td>adventure-works</td><td>margie0</td></tr>",
                            "<tr><td>adventure-works\\mark0</td><td>adventure-works</td><td>mark0</td></tr>",
                            "<tr><td>adventure-works\\mark1</td><td>adventure-works</td><td>mark1</td></tr>",
                            "<tr><td>adventure-works\\mary0</td><td>adventure-works</td><td>mary0</td></tr>",
                            "<tr><td>adventure-works\\mary1</td><td>adventure-works</td><td>mary1</td></tr>",
                            "<tr><td>adventure-works\\mary2</td><td>adventure-works</td><td>mary2</td></tr>",
                            "<tr><td>adventure-works\\matthias0</td><td>adventure-works</td><td>matthias0</td></tr>",
                            "<tr><td>adventure-works\\merav0</td><td>adventure-works</td><td>merav0</td></tr>",
                            "<tr><td>adventure-works\\michael0</td><td>adventure-works</td><td>michael0</td></tr>",
                            "<tr><td>adventure-works\\michael1</td><td>adventure-works</td><td>michael1</td></tr>",
                            "<tr><td>adventure-works\\michael2</td><td>adventure-works</td><td>michael2</td></tr>",
                            "<tr><td>adventure-works\\michael3</td><td>adventure-works</td><td>michael3</td></tr>",
                            "<tr><td>adventure-works\\michael4</td><td>adventure-works</td><td>michael4</td></tr>",
                            "<tr><td>adventure-works\\michael5</td><td>adventure-works</td><td>michael5</td></tr>",
                            "<tr><td>adventure-works\\michael6</td><td>adventure-works</td><td>michael6</td></tr>",
                            "<tr><td>adventure-works\\michael7</td><td>adventure-works</td><td>michael7</td></tr>",
                            "<tr><td>adventure-works\\michael8</td><td>adventure-works</td><td>michael8</td></tr>",
                            "<tr><td>adventure-works\\michael9</td><td>adventure-works</td><td>michael9</td></tr>",
                            "<tr><td>adventure-works\\michiko0</td><td>adventure-works</td><td>michiko0</td></tr>",
                            "<tr><td>adventure-works\\mihail0</td><td>adventure-works</td><td>mihail0</td></tr>",
                            "<tr><td>adventure-works\\mikael0</td><td>adventure-works</td><td>mikael0</td></tr>",
                            "<tr><td>adventure-works\\mike0</td><td>adventure-works</td><td>mike0</td></tr>",
                            "<tr><td>adventure-works\\min0</td><td>adventure-works</td><td>min0</td></tr>",
                            "<tr><td>adventure-works\\mindaugas0</td><td>adventure-works</td><td>mindaugas0</td></tr>",
                            "<tr><td>adventure-works\\mindy0</td><td>adventure-works</td><td>mindy0</td></tr>",
                            "<tr><td>adventure-works\\nancy0</td><td>adventure-works</td><td>nancy0</td></tr>",
                            "<tr><td>adventure-works\\nicole0</td><td>adventure-works</td><td>nicole0</td></tr>",
                            "<tr><td>adventure-works\\nitin0</td><td>adventure-works</td><td>nitin0</td></tr>",
                            "<tr><td>adventure-works\\nuan0</td><td>adventure-works</td><td>nuan0</td></tr>",
                            "<tr><td>adventure-works\\olinda0</td><td>adventure-works</td><td>olinda0</td></tr>",
                            "<tr><td>adventure-works\\ovidiu0</td><td>adventure-works</td><td>ovidiu0</td></tr>",
                            "<tr><td>adventure-works\\pamela0</td><td>adventure-works</td><td>pamela0</td></tr>",
                            "<tr><td>adventure-works\\pat0</td><td>adventure-works</td><td>pat0</td></tr>",
                            "<tr><td>adventure-works\\patrick0</td><td>adventure-works</td><td>patrick0</td></tr>",
                            "<tr><td>adventure-works\\patrick1</td><td>adventure-works</td><td>patrick1</td></tr>",
                            "<tr><td>adventure-works\\paul0</td><td>adventure-works</td><td>paul0</td></tr>",
                            "<tr><td>adventure-works\\paul1</td><td>adventure-works</td><td>paul1</td></tr>",
                            "<tr><td>adventure-works\\paula0</td><td>adventure-works</td><td>paula0</td></tr>",
                            "<tr><td>adventure-works\\paula1</td><td>adventure-works</td><td>paula1</td></tr>",
                            "<tr><td>adventure-works\\peng0</td><td>adventure-works</td><td>peng0</td></tr>",
                            "<tr><td>adventure-works\\pete0</td><td>adventure-works</td><td>pete0</td></tr>",
                            "<tr><td>adventure-works\\peter0</td><td>adventure-works</td><td>peter0</td></tr>",
                            "<tr><td>adventure-works\\peter1</td><td>adventure-works</td><td>peter1</td></tr>",
                            "<tr><td>adventure-works\\pilar0</td><td>adventure-works</td><td>pilar0</td></tr>",
                            "<tr><td>adventure-works\\prasanna0</td><td>adventure-works</td><td>prasanna0</td></tr>",
                            "<tr><td>adventure-works\\rachel0</td><td>adventure-works</td><td>rachel0</td></tr>",
                            "<tr><td>adventure-works\\rajesh0</td><td>adventure-works</td><td>rajesh0</td></tr>",
                            "<tr><td>adventure-works\\ramesh0</td><td>adventure-works</td><td>ramesh0</td></tr>",
                            "<tr><td>adventure-works\\randy0</td><td>adventure-works</td><td>randy0</td></tr>",
                            "<tr><td>adventure-works\\ranjit0</td><td>adventure-works</td><td>ranjit0</td></tr>",
                            "<tr><td>adventure-works\\raymond0</td><td>adventure-works</td><td>raymond0</td></tr>",
                            "<tr><td>adventure-works\\rebecca0</td><td>adventure-works</td><td>rebecca0</td></tr>",
                            "<tr><td>adventure-works\\reed0</td><td>adventure-works</td><td>reed0</td></tr>",
                            "<tr><td>adventure-works\\reinout0</td><td>adventure-works</td><td>reinout0</td></tr>",
                            "<tr><td>adventure-works\\reuben0</td><td>adventure-works</td><td>reuben0</td></tr>",
                            "<tr><td>adventure-works\\rob0</td><td>adventure-works</td><td>rob0</td></tr>",
                            "<tr><td>adventure-works\\rob1</td><td>adventure-works</td><td>rob1</td></tr>",
                            "<tr><td>adventure-works\\robert0</td><td>adventure-works</td><td>robert0</td></tr>",
                            "<tr><td>adventure-works\\roberto0</td><td>adventure-works</td><td>roberto0</td></tr>",
                            "<tr><td>adventure-works\\rostislav0</td><td>adventure-works</td><td>rostislav0</td></tr>",
                            "<tr><td>adventure-works\\russell0</td><td>adventure-works</td><td>russell0</td></tr>",
                            "<tr><td>adventure-works\\russell1</td><td>adventure-works</td><td>russell1</td></tr>",
                            "<tr><td>adventure-works\\ruth0</td><td>adventure-works</td><td>ruth0</td></tr>",
                            "<tr><td>adventure-works\\ryan0</td><td>adventure-works</td><td>ryan0</td></tr>",
                            "<tr><td>adventure-works\\sairaj0</td><td>adventure-works</td><td>sairaj0</td></tr>",
                            "<tr><td>adventure-works\\samantha0</td><td>adventure-works</td><td>samantha0</td></tr>",
                            "<tr><td>adventure-works\\sameer0</td><td>adventure-works</td><td>sameer0</td></tr>",
                            "<tr><td>adventure-works\\sandeep0</td><td>adventure-works</td><td>sandeep0</td></tr>",
                            "<tr><td>adventure-works\\sandra0</td><td>adventure-works</td><td>sandra0</td></tr>",
                            "<tr><td>adventure-works\\sariya0</td><td>adventure-works</td><td>sariya0</td></tr>",
                            "<tr><td>adventure-works\\scott0</td><td>adventure-works</td><td>scott0</td></tr>",
                            "<tr><td>adventure-works\\sean0</td><td>adventure-works</td><td>sean0</td></tr>",
                            "<tr><td>adventure-works\\sean1</td><td>adventure-works</td><td>sean1</td></tr>",
                            "<tr><td>adventure-works\\shammi0</td><td>adventure-works</td><td>shammi0</td></tr>",
                            "<tr><td>adventure-works\\shane0</td><td>adventure-works</td><td>shane0</td></tr>",
                            "<tr><td>adventure-works\\sharon0</td><td>adventure-works</td><td>sharon0</td></tr>",
                            "<tr><td>adventure-works\\sheela0</td><td>adventure-works</td><td>sheela0</td></tr>",
                            "<tr><td>adventure-works\\shelley0</td><td>adventure-works</td><td>shelley0</td></tr>",
                            "<tr><td>adventure-works\\shu0</td><td>adventure-works</td><td>shu0</td></tr>",
                            "<tr><td>adventure-works\\sidney0</td><td>adventure-works</td><td>sidney0</td></tr>",
                            "<tr><td>adventure-works\\simon0</td><td>adventure-works</td><td>simon0</td></tr>",
                            "<tr><td>adventure-works\\sootha0</td><td>adventure-works</td><td>sootha0</td></tr>",
                            "<tr><td>adventure-works\\stefen0</td><td>adventure-works</td><td>stefen0</td></tr>",
                            "<tr><td>adventure-works\\stephanie0</td><td>adventure-works</td><td>stephanie0</td></tr>",
                            "<tr><td>adventure-works\\stephen0</td><td>adventure-works</td><td>stephen0</td></tr>",
                            "<tr><td>adventure-works\\steve0</td><td>adventure-works</td><td>steve0</td></tr>",
                            "<tr><td>adventure-works\\steven0</td><td>adventure-works</td><td>steven0</td></tr>",
                            "<tr><td>adventure-works\\stuart0</td><td>adventure-works</td><td>stuart0</td></tr>",
                            "<tr><td>adventure-works\\stuart1</td><td>adventure-works</td><td>stuart1</td></tr>",
                            "<tr><td>adventure-works\\suchitra0</td><td>adventure-works</td><td>suchitra0</td></tr>",
                            "<tr><td>adventure-works\\suroor0</td><td>adventure-works</td><td>suroor0</td></tr>",
                            "<tr><td>adventure-works\\susan0</td><td>adventure-works</td><td>susan0</td></tr>",
                            "<tr><td>adventure-works\\susan1</td><td>adventure-works</td><td>susan1</td></tr>",
                            "<tr><td>adventure-works\\syed0</td><td>adventure-works</td><td>syed0</td></tr>",
                            "<tr><td>adventure-works\\sylvester0</td><td>adventure-works</td><td>sylvester0</td></tr>",
                            "<tr><td>adventure-works\\tawana0</td><td>adventure-works</td><td>tawana0</td></tr>",
                            "<tr><td>adventure-works\\taylor0</td><td>adventure-works</td><td>taylor0</td></tr>",
                            "<tr><td>adventure-works\\tengiz0</td><td>adventure-works</td><td>tengiz0</td></tr>",
                            "<tr><td>adventure-works\\terrence0</td><td>adventure-works</td><td>terrence0</td></tr>",
                            "<tr><td>adventure-works\\terri0</td><td>adventure-works</td><td>terri0</td></tr>",
                            "<tr><td>adventure-works\\terry0</td><td>adventure-works</td><td>terry0</td></tr>",
                            "<tr><td>adventure-works\\tete0</td><td>adventure-works</td><td>tete0</td></tr>",
                            "<tr><td>adventure-works\\thierry0</td><td>adventure-works</td><td>thierry0</td></tr>",
                            "<tr><td>adventure-works\\thomas0</td><td>adventure-works</td><td>thomas0</td></tr>",
                            "<tr><td>adventure-works\\tom0</td><td>adventure-works</td><td>tom0</td></tr>",
                            "<tr><td>adventure-works\\tsvi0</td><td>adventure-works</td><td>tsvi0</td></tr>",
                            "<tr><td>adventure-works\\vamsi0</td><td>adventure-works</td><td>vamsi0</td></tr>",
                            "<tr><td>adventure-works\\vidur0</td><td>adventure-works</td><td>vidur0</td></tr>",
                            "<tr><td>adventure-works\\wanida0</td><td>adventure-works</td><td>wanida0</td></tr>",
                            "<tr><td>adventure-works\\wendy0</td><td>adventure-works</td><td>wendy0</td></tr>",
                            "<tr><td>adventure-works\\william0</td><td>adventure-works</td><td>william0</td></tr>",
                            "<tr><td>adventure-works\\willis0</td><td>adventure-works</td><td>willis0</td></tr>",
                            "<tr><td>adventure-works\\yuhong0</td><td>adventure-works</td><td>yuhong0</td></tr>",
                            "<tr><td>adventure-works\\yvonne0</td><td>adventure-works</td><td>yvonne0</td></tr>",
                            "<tr><td>adventure-works\\zainal0</td><td>adventure-works</td><td>zainal0</td></tr>",
                            "<tr><td>adventure-works\\zheng0</td><td>adventure-works</td><td>zheng0</td></tr>",
                            "</table>"
                        ]
                    }
                }
            ],
            "execution_count": 11
        }
    ]
}