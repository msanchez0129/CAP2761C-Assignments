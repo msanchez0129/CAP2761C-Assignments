{
    "metadata": {
        "kernelspec": {
            "name": "SQL",
            "display_name": "SQL",
            "language": "sql"
        },
        "language_info": {
            "name": "sql",
            "version": ""
        }
    },
    "nbformat_minor": 2,
    "nbformat": 4,
    "cells": [
        {
            "cell_type": "markdown",
            "source": [
                "# Assignment 15"
            ],
            "metadata": {
                "azdata_cell_guid": "563c01f1-24a5-46f5-8234-259ce9196266"
            },
            "attachments": {}
        },
        {
            "cell_type": "markdown",
            "source": [
                "# Chapter 11\n",
                "# 11.5 Writing Mathematical Expressions\n",
                "## **Question 1. (screenshot: queries and results)**\n",
                "## Use Production.Product table. We want to get the name, StandardCost and ListPrice for all products that have the word “Touring” and Cost more than “zero”. We want to have a promotional sale for the “Touring” items. Use mathematical expressions on the existing columns to create a new column in the result for the sale price if we offer a 15% discount.\n",
                ""
            ],
            "metadata": {
                "azdata_cell_guid": "8420caff-3143-4368-95af-0048416ac128"
            },
            "attachments": {}
        },
        {
            "cell_type": "code",
            "source": [
                "DECLARE @DiscountRate decimal(5,2) = 0.15;\r\n",
                "\r\n",
                "SELECT Name,\r\n",
                "       StandardCost,\r\n",
                "       ListPrice,\r\n",
                "       CAST(ListPrice * (1 - @DiscountRate) AS decimal(10,2)) AS SalePrice\r\n",
                "FROM AdventureWorks2022.Production.Product\r\n",
                "WHERE Name LIKE '%Touring%'\r\n",
                "      AND StandardCost > 0;"
            ],
            "metadata": {
                "azdata_cell_guid": "0bb52e5d-d14e-4267-8b8d-1d03f70f8397",
                "language": "sql"
            },
            "outputs": [
                {
                    "output_type": "display_data",
                    "data": {
                        "text/html": "(54 rows affected)"
                    },
                    "metadata": {}
                },
                {
                    "output_type": "display_data",
                    "data": {
                        "text/html": "Total execution time: 00:00:00.071"
                    },
                    "metadata": {}
                },
                {
                    "output_type": "execute_result",
                    "metadata": {},
                    "execution_count": 1,
                    "data": {
                        "application/vnd.dataresource+json": {
                            "schema": {
                                "fields": [
                                    {
                                        "name": "Name"
                                    },
                                    {
                                        "name": "StandardCost"
                                    },
                                    {
                                        "name": "ListPrice"
                                    },
                                    {
                                        "name": "SalePrice"
                                    }
                                ]
                            },
                            "data": [
                                {
                                    "Name": "LL Touring Seat Assembly",
                                    "StandardCost": "98.77",
                                    "ListPrice": "133.34",
                                    "SalePrice": "113.34"
                                },
                                {
                                    "Name": "ML Touring Seat Assembly",
                                    "StandardCost": "108.99",
                                    "ListPrice": "147.14",
                                    "SalePrice": "125.07"
                                },
                                {
                                    "Name": "HL Touring Seat Assembly",
                                    "StandardCost": "145.87",
                                    "ListPrice": "196.92",
                                    "SalePrice": "167.38"
                                },
                                {
                                    "Name": "Touring Front Wheel",
                                    "StandardCost": "96.7964",
                                    "ListPrice": "218.01",
                                    "SalePrice": "185.31"
                                },
                                {
                                    "Name": "Touring Rear Wheel",
                                    "StandardCost": "108.7844",
                                    "ListPrice": "245.01",
                                    "SalePrice": "208.26"
                                },
                                {
                                    "Name": "Touring-Panniers, Large",
                                    "StandardCost": "51.5625",
                                    "ListPrice": "125.00",
                                    "SalePrice": "106.25"
                                },
                                {
                                    "Name": "HL Touring Frame - Yellow, 60",
                                    "StandardCost": "601.7437",
                                    "ListPrice": "1003.91",
                                    "SalePrice": "853.32"
                                },
                                {
                                    "Name": "LL Touring Frame - Yellow, 62",
                                    "StandardCost": "199.8519",
                                    "ListPrice": "333.42",
                                    "SalePrice": "283.41"
                                },
                                {
                                    "Name": "HL Touring Frame - Yellow, 46",
                                    "StandardCost": "601.7437",
                                    "ListPrice": "1003.91",
                                    "SalePrice": "853.32"
                                },
                                {
                                    "Name": "HL Touring Frame - Yellow, 50",
                                    "StandardCost": "601.7437",
                                    "ListPrice": "1003.91",
                                    "SalePrice": "853.32"
                                },
                                {
                                    "Name": "HL Touring Frame - Yellow, 54",
                                    "StandardCost": "601.7437",
                                    "ListPrice": "1003.91",
                                    "SalePrice": "853.32"
                                },
                                {
                                    "Name": "HL Touring Frame - Blue, 46",
                                    "StandardCost": "601.7437",
                                    "ListPrice": "1003.91",
                                    "SalePrice": "853.32"
                                },
                                {
                                    "Name": "HL Touring Frame - Blue, 50",
                                    "StandardCost": "601.7437",
                                    "ListPrice": "1003.91",
                                    "SalePrice": "853.32"
                                },
                                {
                                    "Name": "HL Touring Frame - Blue, 54",
                                    "StandardCost": "601.7437",
                                    "ListPrice": "1003.91",
                                    "SalePrice": "853.32"
                                },
                                {
                                    "Name": "HL Touring Frame - Blue, 60",
                                    "StandardCost": "601.7437",
                                    "ListPrice": "1003.91",
                                    "SalePrice": "853.32"
                                },
                                {
                                    "Name": "LL Touring Frame - Blue, 50",
                                    "StandardCost": "199.8519",
                                    "ListPrice": "333.42",
                                    "SalePrice": "283.41"
                                },
                                {
                                    "Name": "LL Touring Frame - Blue, 54",
                                    "StandardCost": "199.8519",
                                    "ListPrice": "333.42",
                                    "SalePrice": "283.41"
                                },
                                {
                                    "Name": "LL Touring Frame - Blue, 58",
                                    "StandardCost": "199.8519",
                                    "ListPrice": "333.42",
                                    "SalePrice": "283.41"
                                },
                                {
                                    "Name": "LL Touring Frame - Blue, 62",
                                    "StandardCost": "199.8519",
                                    "ListPrice": "333.42",
                                    "SalePrice": "283.41"
                                },
                                {
                                    "Name": "LL Touring Frame - Yellow, 44",
                                    "StandardCost": "199.8519",
                                    "ListPrice": "333.42",
                                    "SalePrice": "283.41"
                                },
                                {
                                    "Name": "LL Touring Frame - Yellow, 50",
                                    "StandardCost": "199.8519",
                                    "ListPrice": "333.42",
                                    "SalePrice": "283.41"
                                },
                                {
                                    "Name": "LL Touring Frame - Yellow, 54",
                                    "StandardCost": "199.8519",
                                    "ListPrice": "333.42",
                                    "SalePrice": "283.41"
                                },
                                {
                                    "Name": "LL Touring Frame - Yellow, 58",
                                    "StandardCost": "199.8519",
                                    "ListPrice": "333.42",
                                    "SalePrice": "283.41"
                                },
                                {
                                    "Name": "LL Touring Frame - Blue, 44",
                                    "StandardCost": "199.8519",
                                    "ListPrice": "333.42",
                                    "SalePrice": "283.41"
                                },
                                {
                                    "Name": "LL Touring Seat/Saddle",
                                    "StandardCost": "12.0413",
                                    "ListPrice": "27.12",
                                    "SalePrice": "23.05"
                                },
                                {
                                    "Name": "ML Touring Seat/Saddle",
                                    "StandardCost": "17.3782",
                                    "ListPrice": "39.14",
                                    "SalePrice": "33.27"
                                },
                                {
                                    "Name": "HL Touring Seat/Saddle",
                                    "StandardCost": "23.3722",
                                    "ListPrice": "52.64",
                                    "SalePrice": "44.74"
                                },
                                {
                                    "Name": "Touring Tire Tube",
                                    "StandardCost": "1.8663",
                                    "ListPrice": "4.99",
                                    "SalePrice": "4.24"
                                },
                                {
                                    "Name": "Touring Tire",
                                    "StandardCost": "10.8423",
                                    "ListPrice": "28.99",
                                    "SalePrice": "24.64"
                                },
                                {
                                    "Name": "Touring Pedal",
                                    "StandardCost": "35.9596",
                                    "ListPrice": "80.99",
                                    "SalePrice": "68.84"
                                },
                                {
                                    "Name": "LL Touring Handlebars",
                                    "StandardCost": "20.464",
                                    "ListPrice": "46.09",
                                    "SalePrice": "39.18"
                                },
                                {
                                    "Name": "HL Touring Handlebars",
                                    "StandardCost": "40.6571",
                                    "ListPrice": "91.57",
                                    "SalePrice": "77.83"
                                },
                                {
                                    "Name": "Touring-2000 Blue, 60",
                                    "StandardCost": "755.1508",
                                    "ListPrice": "1214.85",
                                    "SalePrice": "1032.62"
                                },
                                {
                                    "Name": "Touring-1000 Yellow, 46",
                                    "StandardCost": "1481.9379",
                                    "ListPrice": "2384.07",
                                    "SalePrice": "2026.46"
                                },
                                {
                                    "Name": "Touring-1000 Yellow, 50",
                                    "StandardCost": "1481.9379",
                                    "ListPrice": "2384.07",
                                    "SalePrice": "2026.46"
                                },
                                {
                                    "Name": "Touring-1000 Yellow, 54",
                                    "StandardCost": "1481.9379",
                                    "ListPrice": "2384.07",
                                    "SalePrice": "2026.46"
                                },
                                {
                                    "Name": "Touring-1000 Yellow, 60",
                                    "StandardCost": "1481.9379",
                                    "ListPrice": "2384.07",
                                    "SalePrice": "2026.46"
                                },
                                {
                                    "Name": "Touring-3000 Blue, 54",
                                    "StandardCost": "461.4448",
                                    "ListPrice": "742.35",
                                    "SalePrice": "631.00"
                                },
                                {
                                    "Name": "Touring-3000 Blue, 58",
                                    "StandardCost": "461.4448",
                                    "ListPrice": "742.35",
                                    "SalePrice": "631.00"
                                },
                                {
                                    "Name": "Touring-3000 Blue, 62",
                                    "StandardCost": "461.4448",
                                    "ListPrice": "742.35",
                                    "SalePrice": "631.00"
                                },
                                {
                                    "Name": "Touring-3000 Yellow, 44",
                                    "StandardCost": "461.4448",
                                    "ListPrice": "742.35",
                                    "SalePrice": "631.00"
                                },
                                {
                                    "Name": "Touring-3000 Yellow, 50",
                                    "StandardCost": "461.4448",
                                    "ListPrice": "742.35",
                                    "SalePrice": "631.00"
                                },
                                {
                                    "Name": "Touring-3000 Yellow, 54",
                                    "StandardCost": "461.4448",
                                    "ListPrice": "742.35",
                                    "SalePrice": "631.00"
                                },
                                {
                                    "Name": "Touring-3000 Yellow, 58",
                                    "StandardCost": "461.4448",
                                    "ListPrice": "742.35",
                                    "SalePrice": "631.00"
                                },
                                {
                                    "Name": "Touring-3000 Yellow, 62",
                                    "StandardCost": "461.4448",
                                    "ListPrice": "742.35",
                                    "SalePrice": "631.00"
                                },
                                {
                                    "Name": "Touring-1000 Blue, 46",
                                    "StandardCost": "1481.9379",
                                    "ListPrice": "2384.07",
                                    "SalePrice": "2026.46"
                                },
                                {
                                    "Name": "Touring-1000 Blue, 50",
                                    "StandardCost": "1481.9379",
                                    "ListPrice": "2384.07",
                                    "SalePrice": "2026.46"
                                },
                                {
                                    "Name": "Touring-1000 Blue, 54",
                                    "StandardCost": "1481.9379",
                                    "ListPrice": "2384.07",
                                    "SalePrice": "2026.46"
                                },
                                {
                                    "Name": "Touring-1000 Blue, 60",
                                    "StandardCost": "1481.9379",
                                    "ListPrice": "2384.07",
                                    "SalePrice": "2026.46"
                                },
                                {
                                    "Name": "Touring-2000 Blue, 46",
                                    "StandardCost": "755.1508",
                                    "ListPrice": "1214.85",
                                    "SalePrice": "1032.62"
                                },
                                {
                                    "Name": "Touring-2000 Blue, 50",
                                    "StandardCost": "755.1508",
                                    "ListPrice": "1214.85",
                                    "SalePrice": "1032.62"
                                },
                                {
                                    "Name": "Touring-2000 Blue, 54",
                                    "StandardCost": "755.1508",
                                    "ListPrice": "1214.85",
                                    "SalePrice": "1032.62"
                                },
                                {
                                    "Name": "Touring-3000 Blue, 44",
                                    "StandardCost": "461.4448",
                                    "ListPrice": "742.35",
                                    "SalePrice": "631.00"
                                },
                                {
                                    "Name": "Touring-3000 Blue, 50",
                                    "StandardCost": "461.4448",
                                    "ListPrice": "742.35",
                                    "SalePrice": "631.00"
                                }
                            ]
                        },
                        "text/html": [
                            "<table>",
                            "<tr><th>Name</th><th>StandardCost</th><th>ListPrice</th><th>SalePrice</th></tr>",
                            "<tr><td>LL Touring Seat Assembly</td><td>98.77</td><td>133.34</td><td>113.34</td></tr>",
                            "<tr><td>ML Touring Seat Assembly</td><td>108.99</td><td>147.14</td><td>125.07</td></tr>",
                            "<tr><td>HL Touring Seat Assembly</td><td>145.87</td><td>196.92</td><td>167.38</td></tr>",
                            "<tr><td>Touring Front Wheel</td><td>96.7964</td><td>218.01</td><td>185.31</td></tr>",
                            "<tr><td>Touring Rear Wheel</td><td>108.7844</td><td>245.01</td><td>208.26</td></tr>",
                            "<tr><td>Touring-Panniers, Large</td><td>51.5625</td><td>125.00</td><td>106.25</td></tr>",
                            "<tr><td>HL Touring Frame - Yellow, 60</td><td>601.7437</td><td>1003.91</td><td>853.32</td></tr>",
                            "<tr><td>LL Touring Frame - Yellow, 62</td><td>199.8519</td><td>333.42</td><td>283.41</td></tr>",
                            "<tr><td>HL Touring Frame - Yellow, 46</td><td>601.7437</td><td>1003.91</td><td>853.32</td></tr>",
                            "<tr><td>HL Touring Frame - Yellow, 50</td><td>601.7437</td><td>1003.91</td><td>853.32</td></tr>",
                            "<tr><td>HL Touring Frame - Yellow, 54</td><td>601.7437</td><td>1003.91</td><td>853.32</td></tr>",
                            "<tr><td>HL Touring Frame - Blue, 46</td><td>601.7437</td><td>1003.91</td><td>853.32</td></tr>",
                            "<tr><td>HL Touring Frame - Blue, 50</td><td>601.7437</td><td>1003.91</td><td>853.32</td></tr>",
                            "<tr><td>HL Touring Frame - Blue, 54</td><td>601.7437</td><td>1003.91</td><td>853.32</td></tr>",
                            "<tr><td>HL Touring Frame - Blue, 60</td><td>601.7437</td><td>1003.91</td><td>853.32</td></tr>",
                            "<tr><td>LL Touring Frame - Blue, 50</td><td>199.8519</td><td>333.42</td><td>283.41</td></tr>",
                            "<tr><td>LL Touring Frame - Blue, 54</td><td>199.8519</td><td>333.42</td><td>283.41</td></tr>",
                            "<tr><td>LL Touring Frame - Blue, 58</td><td>199.8519</td><td>333.42</td><td>283.41</td></tr>",
                            "<tr><td>LL Touring Frame - Blue, 62</td><td>199.8519</td><td>333.42</td><td>283.41</td></tr>",
                            "<tr><td>LL Touring Frame - Yellow, 44</td><td>199.8519</td><td>333.42</td><td>283.41</td></tr>",
                            "<tr><td>LL Touring Frame - Yellow, 50</td><td>199.8519</td><td>333.42</td><td>283.41</td></tr>",
                            "<tr><td>LL Touring Frame - Yellow, 54</td><td>199.8519</td><td>333.42</td><td>283.41</td></tr>",
                            "<tr><td>LL Touring Frame - Yellow, 58</td><td>199.8519</td><td>333.42</td><td>283.41</td></tr>",
                            "<tr><td>LL Touring Frame - Blue, 44</td><td>199.8519</td><td>333.42</td><td>283.41</td></tr>",
                            "<tr><td>LL Touring Seat/Saddle</td><td>12.0413</td><td>27.12</td><td>23.05</td></tr>",
                            "<tr><td>ML Touring Seat/Saddle</td><td>17.3782</td><td>39.14</td><td>33.27</td></tr>",
                            "<tr><td>HL Touring Seat/Saddle</td><td>23.3722</td><td>52.64</td><td>44.74</td></tr>",
                            "<tr><td>Touring Tire Tube</td><td>1.8663</td><td>4.99</td><td>4.24</td></tr>",
                            "<tr><td>Touring Tire</td><td>10.8423</td><td>28.99</td><td>24.64</td></tr>",
                            "<tr><td>Touring Pedal</td><td>35.9596</td><td>80.99</td><td>68.84</td></tr>",
                            "<tr><td>LL Touring Handlebars</td><td>20.464</td><td>46.09</td><td>39.18</td></tr>",
                            "<tr><td>HL Touring Handlebars</td><td>40.6571</td><td>91.57</td><td>77.83</td></tr>",
                            "<tr><td>Touring-2000 Blue, 60</td><td>755.1508</td><td>1214.85</td><td>1032.62</td></tr>",
                            "<tr><td>Touring-1000 Yellow, 46</td><td>1481.9379</td><td>2384.07</td><td>2026.46</td></tr>",
                            "<tr><td>Touring-1000 Yellow, 50</td><td>1481.9379</td><td>2384.07</td><td>2026.46</td></tr>",
                            "<tr><td>Touring-1000 Yellow, 54</td><td>1481.9379</td><td>2384.07</td><td>2026.46</td></tr>",
                            "<tr><td>Touring-1000 Yellow, 60</td><td>1481.9379</td><td>2384.07</td><td>2026.46</td></tr>",
                            "<tr><td>Touring-3000 Blue, 54</td><td>461.4448</td><td>742.35</td><td>631.00</td></tr>",
                            "<tr><td>Touring-3000 Blue, 58</td><td>461.4448</td><td>742.35</td><td>631.00</td></tr>",
                            "<tr><td>Touring-3000 Blue, 62</td><td>461.4448</td><td>742.35</td><td>631.00</td></tr>",
                            "<tr><td>Touring-3000 Yellow, 44</td><td>461.4448</td><td>742.35</td><td>631.00</td></tr>",
                            "<tr><td>Touring-3000 Yellow, 50</td><td>461.4448</td><td>742.35</td><td>631.00</td></tr>",
                            "<tr><td>Touring-3000 Yellow, 54</td><td>461.4448</td><td>742.35</td><td>631.00</td></tr>",
                            "<tr><td>Touring-3000 Yellow, 58</td><td>461.4448</td><td>742.35</td><td>631.00</td></tr>",
                            "<tr><td>Touring-3000 Yellow, 62</td><td>461.4448</td><td>742.35</td><td>631.00</td></tr>",
                            "<tr><td>Touring-1000 Blue, 46</td><td>1481.9379</td><td>2384.07</td><td>2026.46</td></tr>",
                            "<tr><td>Touring-1000 Blue, 50</td><td>1481.9379</td><td>2384.07</td><td>2026.46</td></tr>",
                            "<tr><td>Touring-1000 Blue, 54</td><td>1481.9379</td><td>2384.07</td><td>2026.46</td></tr>",
                            "<tr><td>Touring-1000 Blue, 60</td><td>1481.9379</td><td>2384.07</td><td>2026.46</td></tr>",
                            "<tr><td>Touring-2000 Blue, 46</td><td>755.1508</td><td>1214.85</td><td>1032.62</td></tr>",
                            "<tr><td>Touring-2000 Blue, 50</td><td>755.1508</td><td>1214.85</td><td>1032.62</td></tr>",
                            "<tr><td>Touring-2000 Blue, 54</td><td>755.1508</td><td>1214.85</td><td>1032.62</td></tr>",
                            "<tr><td>Touring-3000 Blue, 44</td><td>461.4448</td><td>742.35</td><td>631.00</td></tr>",
                            "<tr><td>Touring-3000 Blue, 50</td><td>461.4448</td><td>742.35</td><td>631.00</td></tr>",
                            "</table>"
                        ]
                    }
                }
            ],
            "execution_count": 1
        },
        {
            "cell_type": "markdown",
            "source": [
                "## **Question 2. (answer)**\n",
                "\n",
                "## <u>\\- How many Rows?</u>\n",
                "## 54 Rows"
            ],
            "metadata": {
                "azdata_cell_guid": "47b68284-b06f-44b7-b24b-2e3c2d9fbb21"
            },
            "attachments": {}
        },
        {
            "cell_type": "markdown",
            "source": [
                "# 11.7 Rounding\r\n",
                "## The ROUND function allows you to round a number value to a specific number of decimal places.\r\n",
                "## **Question 3. (screenshot: queries and results)**\r\n",
                "## We want to report large numbers as rounded to the nearest thousand. Using the Sales.SalesOrderHeader table, get the sales by year rounded to the nearest thousand and formatted as currency. Use the OrderDate field to get your year, and the Subtotal to get your sales. Group and Order by Year. (You should have 4 rows)"
            ],
            "metadata": {
                "azdata_cell_guid": "2556aa59-c743-43b3-a0ff-183272985824"
            },
            "attachments": {}
        },
        {
            "cell_type": "code",
            "source": [
                "SELECT YEAR(OrderDate) AS SalesYear,\r\n",
                "       ROUND(SUM(Subtotal) / 1000, 0) * 1000 AS SalesRoundedToThousand\r\n",
                "FROM AdventureWorks2022.Sales.SalesOrderHeader\r\n",
                "GROUP BY YEAR(OrderDate)\r\n",
                "ORDER BY SalesYear;"
            ],
            "metadata": {
                "azdata_cell_guid": "d6ffb7ce-0504-45bb-bcd8-0953e6e1d4db",
                "language": "sql"
            },
            "outputs": [
                {
                    "output_type": "display_data",
                    "data": {
                        "text/html": "(4 rows affected)"
                    },
                    "metadata": {}
                },
                {
                    "output_type": "display_data",
                    "data": {
                        "text/html": "Total execution time: 00:00:00.025"
                    },
                    "metadata": {}
                },
                {
                    "output_type": "execute_result",
                    "metadata": {},
                    "execution_count": 2,
                    "data": {
                        "application/vnd.dataresource+json": {
                            "schema": {
                                "fields": [
                                    {
                                        "name": "SalesYear"
                                    },
                                    {
                                        "name": "SalesRoundedToThousand"
                                    }
                                ]
                            },
                            "data": [
                                {
                                    "SalesYear": "2011",
                                    "SalesRoundedToThousand": "12642000.00"
                                },
                                {
                                    "SalesYear": "2012",
                                    "SalesRoundedToThousand": "33524000.00"
                                },
                                {
                                    "SalesYear": "2013",
                                    "SalesRoundedToThousand": "43622000.00"
                                },
                                {
                                    "SalesYear": "2014",
                                    "SalesRoundedToThousand": "20058000.00"
                                }
                            ]
                        },
                        "text/html": [
                            "<table>",
                            "<tr><th>SalesYear</th><th>SalesRoundedToThousand</th></tr>",
                            "<tr><td>2011</td><td>12642000.00</td></tr>",
                            "<tr><td>2012</td><td>33524000.00</td></tr>",
                            "<tr><td>2013</td><td>43622000.00</td></tr>",
                            "<tr><td>2014</td><td>20058000.00</td></tr>",
                            "</table>"
                        ]
                    }
                }
            ],
            "execution_count": 2
        },
        {
            "cell_type": "markdown",
            "source": [
                "## **Question 4. (answer)**\n",
                "\n",
                "## \\- <u>What is the year with the highest sales value?</u>\n",
                "## The year 2013 has the highest sales value with $43,622,000.00"
            ],
            "metadata": {
                "azdata_cell_guid": "f6d37545-2921-4e18-8410-4ad49f2e35dd"
            },
            "attachments": {}
        },
        {
            "cell_type": "markdown",
            "source": [
                "## **Question 5. (screenshot: queries and results)**\r\n",
                "## We want to report large numbers as rounded to the nearest thousand. Using the Sales.SalesOrderHeader table, get the sales by month of the year with the highest sales value, rounded to the nearest thousand and formatted as currency. Use the OrderDate field to get your month, and the Subtotal to get your sales. "
            ],
            "metadata": {
                "azdata_cell_guid": "2da75706-f016-4ad0-85ed-859f3fdcd7b2"
            },
            "attachments": {}
        },
        {
            "cell_type": "code",
            "source": [
                "SELECT MONTH(OrderDate) AS SalesMonth,\r\n",
                "       ROUND(SUM(Subtotal), -3) AS RoundedSales\r\n",
                "FROM AdventureWorks2022.Sales.SalesOrderHeader\r\n",
                "WHERE YEAR(OrderDate) = (SELECT Top 1\r\n",
                "                                YEAR(OrderDate)\r\n",
                "                         FROM AdventureWorks2022.Sales.SalesOrderHeader\r\n",
                "                         GROUP BY YEAR(OrderDate)\r\n",
                "                         ORDER BY SUM(Subtotal) DESC\r\n",
                "\t\t\t\t\t\t)\r\n",
                "GROUP BY MONTH(OrderDate)\r\n",
                "ORDER BY SalesMonth;"
            ],
            "metadata": {
                "azdata_cell_guid": "f0c66fac-fe43-4245-ac26-caced1bbae28",
                "language": "sql"
            },
            "outputs": [
                {
                    "output_type": "display_data",
                    "data": {
                        "text/html": "(12 rows affected)"
                    },
                    "metadata": {}
                },
                {
                    "output_type": "display_data",
                    "data": {
                        "text/html": "Total execution time: 00:00:00.176"
                    },
                    "metadata": {}
                },
                {
                    "output_type": "execute_result",
                    "metadata": {},
                    "execution_count": 3,
                    "data": {
                        "application/vnd.dataresource+json": {
                            "schema": {
                                "fields": [
                                    {
                                        "name": "SalesMonth"
                                    },
                                    {
                                        "name": "RoundedSales"
                                    }
                                ]
                            },
                            "data": [
                                {
                                    "SalesMonth": "1",
                                    "RoundedSales": "2088000.00"
                                },
                                {
                                    "SalesMonth": "2",
                                    "RoundedSales": "2317000.00"
                                },
                                {
                                    "SalesMonth": "3",
                                    "RoundedSales": "3412000.00"
                                },
                                {
                                    "SalesMonth": "4",
                                    "RoundedSales": "2532000.00"
                                },
                                {
                                    "SalesMonth": "5",
                                    "RoundedSales": "3246000.00"
                                },
                                {
                                    "SalesMonth": "6",
                                    "RoundedSales": "5081000.00"
                                },
                                {
                                    "SalesMonth": "7",
                                    "RoundedSales": "4896000.00"
                                },
                                {
                                    "SalesMonth": "8",
                                    "RoundedSales": "3334000.00"
                                },
                                {
                                    "SalesMonth": "9",
                                    "RoundedSales": "4533000.00"
                                },
                                {
                                    "SalesMonth": "10",
                                    "RoundedSales": "4796000.00"
                                },
                                {
                                    "SalesMonth": "11",
                                    "RoundedSales": "3312000.00"
                                },
                                {
                                    "SalesMonth": "12",
                                    "RoundedSales": "4075000.00"
                                }
                            ]
                        },
                        "text/html": [
                            "<table>",
                            "<tr><th>SalesMonth</th><th>RoundedSales</th></tr>",
                            "<tr><td>1</td><td>2088000.00</td></tr>",
                            "<tr><td>2</td><td>2317000.00</td></tr>",
                            "<tr><td>3</td><td>3412000.00</td></tr>",
                            "<tr><td>4</td><td>2532000.00</td></tr>",
                            "<tr><td>5</td><td>3246000.00</td></tr>",
                            "<tr><td>6</td><td>5081000.00</td></tr>",
                            "<tr><td>7</td><td>4896000.00</td></tr>",
                            "<tr><td>8</td><td>3334000.00</td></tr>",
                            "<tr><td>9</td><td>4533000.00</td></tr>",
                            "<tr><td>10</td><td>4796000.00</td></tr>",
                            "<tr><td>11</td><td>3312000.00</td></tr>",
                            "<tr><td>12</td><td>4075000.00</td></tr>",
                            "</table>"
                        ]
                    }
                }
            ],
            "execution_count": 3
        },
        {
            "cell_type": "markdown",
            "source": [
                "## **Question 6. (answer)**\n",
                "\n",
                "## <u>\\- What is the month with the highest sales value?</u>\n",
                "## June has the highest sales amount with $5,081,000.00"
            ],
            "metadata": {
                "azdata_cell_guid": "d7a2e326-762e-41cc-a1ee-fb7b427e8e1e"
            },
            "attachments": {}
        },
        {
            "cell_type": "markdown",
            "source": [
                "# 11.8 Rounding Always UP or DOWN (Ceiling, Floor)\r\n",
                "## **Question 7. (screenshot: queries and results)**\r\n",
                "## The Production.Product table contains the weight of the products that are sold. We want to estimate the shipping weight of products by rounding up to the nearest 10. Get the name, weight and an EstimatedShippingWeight for all the products that have a weight that is not a null value.\r\n",
                ""
            ],
            "metadata": {
                "azdata_cell_guid": "3b19eb5c-44f2-4335-a00a-a7a77a85767e"
            },
            "attachments": {}
        },
        {
            "cell_type": "code",
            "source": [
                "SELECT Name,\r\n",
                "       Weight,\r\n",
                "       CEILING(Weight / 10.0) * 10 AS EstimatedShippingWeight\r\n",
                "FROM AdventureWorks2022.Production.Product\r\n",
                "WHERE Weight IS NOT NULL\r\n",
                "ORDER BY EstimatedShippingWeight DESC;"
            ],
            "metadata": {
                "azdata_cell_guid": "60f15c58-ae72-4444-b86d-678b6816dd56",
                "language": "sql"
            },
            "outputs": [
                {
                    "output_type": "display_data",
                    "data": {
                        "text/html": "(205 rows affected)"
                    },
                    "metadata": {}
                },
                {
                    "output_type": "display_data",
                    "data": {
                        "text/html": "Total execution time: 00:00:00.015"
                    },
                    "metadata": {}
                },
                {
                    "output_type": "execute_result",
                    "metadata": {},
                    "execution_count": 6,
                    "data": {
                        "application/vnd.dataresource+json": {
                            "schema": {
                                "fields": [
                                    {
                                        "name": "Name"
                                    },
                                    {
                                        "name": "Weight"
                                    },
                                    {
                                        "name": "EstimatedShippingWeight"
                                    }
                                ]
                            },
                            "data": [
                                {
                                    "Name": "LL Road Rear Wheel",
                                    "Weight": "1050.00",
                                    "EstimatedShippingWeight": "1050"
                                },
                                {
                                    "Name": "ML Road Rear Wheel",
                                    "Weight": "1000.00",
                                    "EstimatedShippingWeight": "1000"
                                },
                                {
                                    "Name": "LL Road Front Wheel",
                                    "Weight": "900.00",
                                    "EstimatedShippingWeight": "900"
                                },
                                {
                                    "Name": "HL Road Rear Wheel",
                                    "Weight": "890.00",
                                    "EstimatedShippingWeight": "890"
                                },
                                {
                                    "Name": "ML Road Front Wheel",
                                    "Weight": "850.00",
                                    "EstimatedShippingWeight": "850"
                                },
                                {
                                    "Name": "HL Road Front Wheel",
                                    "Weight": "650.00",
                                    "EstimatedShippingWeight": "650"
                                },
                                {
                                    "Name": "ML Crankset",
                                    "Weight": "635.00",
                                    "EstimatedShippingWeight": "640"
                                },
                                {
                                    "Name": "LL Crankset",
                                    "Weight": "600.00",
                                    "EstimatedShippingWeight": "600"
                                },
                                {
                                    "Name": "HL Crankset",
                                    "Weight": "575.00",
                                    "EstimatedShippingWeight": "580"
                                },
                                {
                                    "Name": "Touring Rim",
                                    "Weight": "460.00",
                                    "EstimatedShippingWeight": "460"
                                },
                                {
                                    "Name": "ML Mountain Rim",
                                    "Weight": "450.00",
                                    "EstimatedShippingWeight": "450"
                                },
                                {
                                    "Name": "LL Road Rim",
                                    "Weight": "445.00",
                                    "EstimatedShippingWeight": "450"
                                },
                                {
                                    "Name": "ML Road Rim",
                                    "Weight": "450.00",
                                    "EstimatedShippingWeight": "450"
                                },
                                {
                                    "Name": "LL Mountain Rim",
                                    "Weight": "435.00",
                                    "EstimatedShippingWeight": "440"
                                },
                                {
                                    "Name": "HL Road Rim",
                                    "Weight": "400.00",
                                    "EstimatedShippingWeight": "400"
                                },
                                {
                                    "Name": "HL Mountain Rim",
                                    "Weight": "400.00",
                                    "EstimatedShippingWeight": "400"
                                },
                                {
                                    "Name": "Rear Brakes",
                                    "Weight": "317.00",
                                    "EstimatedShippingWeight": "320"
                                },
                                {
                                    "Name": "Front Brakes",
                                    "Weight": "317.00",
                                    "EstimatedShippingWeight": "320"
                                },
                                {
                                    "Name": "LL Bottom Bracket",
                                    "Weight": "223.00",
                                    "EstimatedShippingWeight": "230"
                                },
                                {
                                    "Name": "LL Mountain Pedal",
                                    "Weight": "218.00",
                                    "EstimatedShippingWeight": "220"
                                },
                                {
                                    "Name": "ML Mountain Pedal",
                                    "Weight": "215.00",
                                    "EstimatedShippingWeight": "220"
                                },
                                {
                                    "Name": "Rear Derailleur",
                                    "Weight": "215.00",
                                    "EstimatedShippingWeight": "220"
                                },
                                {
                                    "Name": "HL Mountain Pedal",
                                    "Weight": "185.00",
                                    "EstimatedShippingWeight": "190"
                                },
                                {
                                    "Name": "LL Road Pedal",
                                    "Weight": "189.00",
                                    "EstimatedShippingWeight": "190"
                                },
                                {
                                    "Name": "ML Road Pedal",
                                    "Weight": "168.00",
                                    "EstimatedShippingWeight": "170"
                                },
                                {
                                    "Name": "ML Bottom Bracket",
                                    "Weight": "168.00",
                                    "EstimatedShippingWeight": "170"
                                },
                                {
                                    "Name": "HL Bottom Bracket",
                                    "Weight": "170.00",
                                    "EstimatedShippingWeight": "170"
                                },
                                {
                                    "Name": "HL Road Pedal",
                                    "Weight": "149.00",
                                    "EstimatedShippingWeight": "150"
                                },
                                {
                                    "Name": "Front Derailleur",
                                    "Weight": "88.00",
                                    "EstimatedShippingWeight": "90"
                                },
                                {
                                    "Name": "Road-750 Black, 48",
                                    "Weight": "20.13",
                                    "EstimatedShippingWeight": "30"
                                },
                                {
                                    "Name": "Road-750 Black, 52",
                                    "Weight": "20.42",
                                    "EstimatedShippingWeight": "30"
                                },
                                {
                                    "Name": "Touring-2000 Blue, 60",
                                    "Weight": "27.90",
                                    "EstimatedShippingWeight": "30"
                                },
                                {
                                    "Name": "Touring-1000 Yellow, 46",
                                    "Weight": "25.13",
                                    "EstimatedShippingWeight": "30"
                                },
                                {
                                    "Name": "Touring-1000 Yellow, 50",
                                    "Weight": "25.42",
                                    "EstimatedShippingWeight": "30"
                                },
                                {
                                    "Name": "Touring-1000 Yellow, 54",
                                    "Weight": "25.68",
                                    "EstimatedShippingWeight": "30"
                                },
                                {
                                    "Name": "Touring-1000 Yellow, 60",
                                    "Weight": "25.90",
                                    "EstimatedShippingWeight": "30"
                                },
                                {
                                    "Name": "Touring-3000 Blue, 54",
                                    "Weight": "29.68",
                                    "EstimatedShippingWeight": "30"
                                },
                                {
                                    "Name": "Touring-3000 Blue, 58",
                                    "Weight": "29.90",
                                    "EstimatedShippingWeight": "30"
                                },
                                {
                                    "Name": "Touring-3000 Blue, 62",
                                    "Weight": "30.00",
                                    "EstimatedShippingWeight": "30"
                                },
                                {
                                    "Name": "Touring-3000 Yellow, 44",
                                    "Weight": "28.77",
                                    "EstimatedShippingWeight": "30"
                                },
                                {
                                    "Name": "Touring-3000 Yellow, 50",
                                    "Weight": "29.13",
                                    "EstimatedShippingWeight": "30"
                                },
                                {
                                    "Name": "Touring-3000 Yellow, 54",
                                    "Weight": "29.42",
                                    "EstimatedShippingWeight": "30"
                                },
                                {
                                    "Name": "Touring-3000 Yellow, 58",
                                    "Weight": "29.79",
                                    "EstimatedShippingWeight": "30"
                                },
                                {
                                    "Name": "Touring-3000 Yellow, 62",
                                    "Weight": "30.00",
                                    "EstimatedShippingWeight": "30"
                                },
                                {
                                    "Name": "Touring-1000 Blue, 46",
                                    "Weight": "25.13",
                                    "EstimatedShippingWeight": "30"
                                },
                                {
                                    "Name": "Touring-1000 Blue, 50",
                                    "Weight": "25.42",
                                    "EstimatedShippingWeight": "30"
                                },
                                {
                                    "Name": "Touring-1000 Blue, 54",
                                    "Weight": "25.68",
                                    "EstimatedShippingWeight": "30"
                                },
                                {
                                    "Name": "Touring-1000 Blue, 60",
                                    "Weight": "25.90",
                                    "EstimatedShippingWeight": "30"
                                },
                                {
                                    "Name": "Touring-2000 Blue, 46",
                                    "Weight": "27.13",
                                    "EstimatedShippingWeight": "30"
                                },
                                {
                                    "Name": "Touring-2000 Blue, 50",
                                    "Weight": "27.42",
                                    "EstimatedShippingWeight": "30"
                                },
                                {
                                    "Name": "Touring-2000 Blue, 54",
                                    "Weight": "27.68",
                                    "EstimatedShippingWeight": "30"
                                },
                                {
                                    "Name": "Road-750 Black, 58",
                                    "Weight": "20.79",
                                    "EstimatedShippingWeight": "30"
                                },
                                {
                                    "Name": "Touring-3000 Blue, 44",
                                    "Weight": "28.77",
                                    "EstimatedShippingWeight": "30"
                                },
                                {
                                    "Name": "Touring-3000 Blue, 50",
                                    "Weight": "29.13",
                                    "EstimatedShippingWeight": "30"
                                },
                                {
                                    "Name": "Mountain-400-W Silver, 38",
                                    "Weight": "26.35",
                                    "EstimatedShippingWeight": "30"
                                },
                                {
                                    "Name": "Mountain-400-W Silver, 40",
                                    "Weight": "26.77",
                                    "EstimatedShippingWeight": "30"
                                },
                                {
                                    "Name": "Mountain-400-W Silver, 42",
                                    "Weight": "27.13",
                                    "EstimatedShippingWeight": "30"
                                },
                                {
                                    "Name": "Mountain-400-W Silver, 46",
                                    "Weight": "27.42",
                                    "EstimatedShippingWeight": "30"
                                },
                                {
                                    "Name": "Mountain-500 Silver, 40",
                                    "Weight": "27.35",
                                    "EstimatedShippingWeight": "30"
                                },
                                {
                                    "Name": "Mountain-500 Silver, 42",
                                    "Weight": "27.77",
                                    "EstimatedShippingWeight": "30"
                                },
                                {
                                    "Name": "Mountain-500 Silver, 44",
                                    "Weight": "28.13",
                                    "EstimatedShippingWeight": "30"
                                },
                                {
                                    "Name": "Mountain-500 Silver, 48",
                                    "Weight": "28.42",
                                    "EstimatedShippingWeight": "30"
                                },
                                {
                                    "Name": "Mountain-500 Silver, 52",
                                    "Weight": "28.68",
                                    "EstimatedShippingWeight": "30"
                                },
                                {
                                    "Name": "Mountain-500 Black, 40",
                                    "Weight": "27.35",
                                    "EstimatedShippingWeight": "30"
                                },
                                {
                                    "Name": "Mountain-500 Black, 42",
                                    "Weight": "27.77",
                                    "EstimatedShippingWeight": "30"
                                },
                                {
                                    "Name": "Mountain-500 Black, 44",
                                    "Weight": "28.13",
                                    "EstimatedShippingWeight": "30"
                                },
                                {
                                    "Name": "Mountain-500 Black, 48",
                                    "Weight": "28.42",
                                    "EstimatedShippingWeight": "30"
                                },
                                {
                                    "Name": "Mountain-500 Black, 52",
                                    "Weight": "28.68",
                                    "EstimatedShippingWeight": "30"
                                },
                                {
                                    "Name": "Mountain-100 Silver, 38",
                                    "Weight": "20.35",
                                    "EstimatedShippingWeight": "30"
                                },
                                {
                                    "Name": "Mountain-100 Silver, 42",
                                    "Weight": "20.77",
                                    "EstimatedShippingWeight": "30"
                                },
                                {
                                    "Name": "Mountain-100 Silver, 44",
                                    "Weight": "21.13",
                                    "EstimatedShippingWeight": "30"
                                },
                                {
                                    "Name": "Mountain-100 Silver, 48",
                                    "Weight": "21.42",
                                    "EstimatedShippingWeight": "30"
                                },
                                {
                                    "Name": "Mountain-100 Black, 38",
                                    "Weight": "20.35",
                                    "EstimatedShippingWeight": "30"
                                },
                                {
                                    "Name": "Mountain-100 Black, 42",
                                    "Weight": "20.77",
                                    "EstimatedShippingWeight": "30"
                                },
                                {
                                    "Name": "Mountain-100 Black, 44",
                                    "Weight": "21.13",
                                    "EstimatedShippingWeight": "30"
                                },
                                {
                                    "Name": "Mountain-100 Black, 48",
                                    "Weight": "21.42",
                                    "EstimatedShippingWeight": "30"
                                },
                                {
                                    "Name": "Mountain-200 Silver, 38",
                                    "Weight": "23.35",
                                    "EstimatedShippingWeight": "30"
                                },
                                {
                                    "Name": "Mountain-200 Silver, 42",
                                    "Weight": "23.77",
                                    "EstimatedShippingWeight": "30"
                                },
                                {
                                    "Name": "Mountain-200 Silver, 46",
                                    "Weight": "24.13",
                                    "EstimatedShippingWeight": "30"
                                },
                                {
                                    "Name": "Mountain-200 Black, 38",
                                    "Weight": "23.35",
                                    "EstimatedShippingWeight": "30"
                                },
                                {
                                    "Name": "Mountain-200 Black, 42",
                                    "Weight": "23.77",
                                    "EstimatedShippingWeight": "30"
                                },
                                {
                                    "Name": "Mountain-200 Black, 46",
                                    "Weight": "24.13",
                                    "EstimatedShippingWeight": "30"
                                },
                                {
                                    "Name": "Mountain-300 Black, 38",
                                    "Weight": "25.35",
                                    "EstimatedShippingWeight": "30"
                                },
                                {
                                    "Name": "Mountain-300 Black, 40",
                                    "Weight": "25.77",
                                    "EstimatedShippingWeight": "30"
                                },
                                {
                                    "Name": "Mountain-300 Black, 44",
                                    "Weight": "26.13",
                                    "EstimatedShippingWeight": "30"
                                },
                                {
                                    "Name": "Mountain-300 Black, 48",
                                    "Weight": "26.42",
                                    "EstimatedShippingWeight": "30"
                                },
                                {
                                    "Name": "Road-250 Red, 44",
                                    "Weight": "14.77",
                                    "EstimatedShippingWeight": "20"
                                },
                                {
                                    "Name": "Road-250 Red, 48",
                                    "Weight": "15.13",
                                    "EstimatedShippingWeight": "20"
                                },
                                {
                                    "Name": "Road-250 Red, 52",
                                    "Weight": "15.42",
                                    "EstimatedShippingWeight": "20"
                                },
                                {
                                    "Name": "Road-250 Red, 58",
                                    "Weight": "15.79",
                                    "EstimatedShippingWeight": "20"
                                },
                                {
                                    "Name": "Road-250 Black, 44",
                                    "Weight": "14.77",
                                    "EstimatedShippingWeight": "20"
                                },
                                {
                                    "Name": "Road-250 Black, 48",
                                    "Weight": "15.13",
                                    "EstimatedShippingWeight": "20"
                                },
                                {
                                    "Name": "Road-250 Black, 52",
                                    "Weight": "15.42",
                                    "EstimatedShippingWeight": "20"
                                },
                                {
                                    "Name": "Road-250 Black, 58",
                                    "Weight": "15.68",
                                    "EstimatedShippingWeight": "20"
                                },
                                {
                                    "Name": "Road-550-W Yellow, 38",
                                    "Weight": "17.35",
                                    "EstimatedShippingWeight": "20"
                                },
                                {
                                    "Name": "Road-550-W Yellow, 40",
                                    "Weight": "17.77",
                                    "EstimatedShippingWeight": "20"
                                },
                                {
                                    "Name": "Road-550-W Yellow, 42",
                                    "Weight": "18.13",
                                    "EstimatedShippingWeight": "20"
                                },
                                {
                                    "Name": "Road-550-W Yellow, 44",
                                    "Weight": "18.42",
                                    "EstimatedShippingWeight": "20"
                                },
                                {
                                    "Name": "Road-550-W Yellow, 48",
                                    "Weight": "18.68",
                                    "EstimatedShippingWeight": "20"
                                },
                                {
                                    "Name": "Road-150 Red, 62",
                                    "Weight": "15.00",
                                    "EstimatedShippingWeight": "20"
                                },
                                {
                                    "Name": "Road-150 Red, 44",
                                    "Weight": "13.77",
                                    "EstimatedShippingWeight": "20"
                                },
                                {
                                    "Name": "Road-150 Red, 48",
                                    "Weight": "14.13",
                                    "EstimatedShippingWeight": "20"
                                },
                                {
                                    "Name": "Road-150 Red, 52",
                                    "Weight": "14.42",
                                    "EstimatedShippingWeight": "20"
                                },
                                {
                                    "Name": "Road-150 Red, 56",
                                    "Weight": "14.68",
                                    "EstimatedShippingWeight": "20"
                                },
                                {
                                    "Name": "Road-450 Red, 58",
                                    "Weight": "17.79",
                                    "EstimatedShippingWeight": "20"
                                },
                                {
                                    "Name": "Road-450 Red, 60",
                                    "Weight": "17.90",
                                    "EstimatedShippingWeight": "20"
                                },
                                {
                                    "Name": "Road-450 Red, 44",
                                    "Weight": "16.77",
                                    "EstimatedShippingWeight": "20"
                                },
                                {
                                    "Name": "Road-450 Red, 48",
                                    "Weight": "17.13",
                                    "EstimatedShippingWeight": "20"
                                },
                                {
                                    "Name": "Road-450 Red, 52",
                                    "Weight": "17.42",
                                    "EstimatedShippingWeight": "20"
                                },
                                {
                                    "Name": "Road-650 Red, 58",
                                    "Weight": "19.79",
                                    "EstimatedShippingWeight": "20"
                                },
                                {
                                    "Name": "Road-650 Red, 60",
                                    "Weight": "19.90",
                                    "EstimatedShippingWeight": "20"
                                },
                                {
                                    "Name": "Road-650 Red, 62",
                                    "Weight": "20.00",
                                    "EstimatedShippingWeight": "20"
                                },
                                {
                                    "Name": "Road-650 Red, 44",
                                    "Weight": "18.77",
                                    "EstimatedShippingWeight": "20"
                                },
                                {
                                    "Name": "Road-650 Red, 48",
                                    "Weight": "19.13",
                                    "EstimatedShippingWeight": "20"
                                },
                                {
                                    "Name": "Road-650 Red, 52",
                                    "Weight": "19.42",
                                    "EstimatedShippingWeight": "20"
                                },
                                {
                                    "Name": "Road-650 Black, 58",
                                    "Weight": "19.79",
                                    "EstimatedShippingWeight": "20"
                                },
                                {
                                    "Name": "Road-650 Black, 60",
                                    "Weight": "19.90",
                                    "EstimatedShippingWeight": "20"
                                },
                                {
                                    "Name": "Road-650 Black, 62",
                                    "Weight": "20.00",
                                    "EstimatedShippingWeight": "20"
                                },
                                {
                                    "Name": "Road-650 Black, 44",
                                    "Weight": "18.77",
                                    "EstimatedShippingWeight": "20"
                                },
                                {
                                    "Name": "Road-650 Black, 48",
                                    "Weight": "19.13",
                                    "EstimatedShippingWeight": "20"
                                },
                                {
                                    "Name": "Road-650 Black, 52",
                                    "Weight": "19.42",
                                    "EstimatedShippingWeight": "20"
                                },
                                {
                                    "Name": "Road-350-W Yellow, 40",
                                    "Weight": "15.35",
                                    "EstimatedShippingWeight": "20"
                                },
                                {
                                    "Name": "Road-350-W Yellow, 42",
                                    "Weight": "15.77",
                                    "EstimatedShippingWeight": "20"
                                },
                                {
                                    "Name": "Road-350-W Yellow, 44",
                                    "Weight": "16.13",
                                    "EstimatedShippingWeight": "20"
                                },
                                {
                                    "Name": "Road-350-W Yellow, 48",
                                    "Weight": "16.42",
                                    "EstimatedShippingWeight": "20"
                                },
                                {
                                    "Name": "Road-750 Black, 44",
                                    "Weight": "19.77",
                                    "EstimatedShippingWeight": "20"
                                },
                                {
                                    "Name": "ML Mountain Frame - Black, 40",
                                    "Weight": "2.77",
                                    "EstimatedShippingWeight": "10"
                                },
                                {
                                    "Name": "ML Mountain Frame - Black, 44",
                                    "Weight": "2.81",
                                    "EstimatedShippingWeight": "10"
                                },
                                {
                                    "Name": "ML Mountain Frame - Black, 48",
                                    "Weight": "2.85",
                                    "EstimatedShippingWeight": "10"
                                },
                                {
                                    "Name": "ML Road Frame-W - Yellow, 40",
                                    "Weight": "2.22",
                                    "EstimatedShippingWeight": "10"
                                },
                                {
                                    "Name": "ML Road Frame-W - Yellow, 42",
                                    "Weight": "2.26",
                                    "EstimatedShippingWeight": "10"
                                },
                                {
                                    "Name": "ML Road Frame-W - Yellow, 44",
                                    "Weight": "2.30",
                                    "EstimatedShippingWeight": "10"
                                },
                                {
                                    "Name": "ML Road Frame-W - Yellow, 48",
                                    "Weight": "2.34",
                                    "EstimatedShippingWeight": "10"
                                },
                                {
                                    "Name": "HL Road Frame - Black, 62",
                                    "Weight": "2.30",
                                    "EstimatedShippingWeight": "10"
                                },
                                {
                                    "Name": "HL Road Frame - Black, 44",
                                    "Weight": "2.12",
                                    "EstimatedShippingWeight": "10"
                                },
                                {
                                    "Name": "HL Road Frame - Black, 48",
                                    "Weight": "2.16",
                                    "EstimatedShippingWeight": "10"
                                },
                                {
                                    "Name": "HL Road Frame - Black, 52",
                                    "Weight": "2.20",
                                    "EstimatedShippingWeight": "10"
                                },
                                {
                                    "Name": "HL Touring Frame - Yellow, 60",
                                    "Weight": "3.08",
                                    "EstimatedShippingWeight": "10"
                                },
                                {
                                    "Name": "LL Touring Frame - Yellow, 62",
                                    "Weight": "3.20",
                                    "EstimatedShippingWeight": "10"
                                },
                                {
                                    "Name": "HL Touring Frame - Yellow, 46",
                                    "Weight": "2.96",
                                    "EstimatedShippingWeight": "10"
                                },
                                {
                                    "Name": "HL Touring Frame - Yellow, 50",
                                    "Weight": "3.00",
                                    "EstimatedShippingWeight": "10"
                                },
                                {
                                    "Name": "HL Touring Frame - Yellow, 54",
                                    "Weight": "3.04",
                                    "EstimatedShippingWeight": "10"
                                },
                                {
                                    "Name": "HL Touring Frame - Blue, 46",
                                    "Weight": "2.96",
                                    "EstimatedShippingWeight": "10"
                                },
                                {
                                    "Name": "HL Touring Frame - Blue, 50",
                                    "Weight": "3.00",
                                    "EstimatedShippingWeight": "10"
                                },
                                {
                                    "Name": "HL Touring Frame - Blue, 54",
                                    "Weight": "3.04",
                                    "EstimatedShippingWeight": "10"
                                },
                                {
                                    "Name": "HL Touring Frame - Blue, 60",
                                    "Weight": "3.08",
                                    "EstimatedShippingWeight": "10"
                                },
                                {
                                    "Name": "ML Mountain Frame-W - Silver, 38",
                                    "Weight": "2.73",
                                    "EstimatedShippingWeight": "10"
                                },
                                {
                                    "Name": "LL Mountain Frame - Black, 40",
                                    "Weight": "2.88",
                                    "EstimatedShippingWeight": "10"
                                },
                                {
                                    "Name": "LL Mountain Frame - Silver, 40",
                                    "Weight": "2.88",
                                    "EstimatedShippingWeight": "10"
                                },
                                {
                                    "Name": "LL Mountain Frame - Silver, 42",
                                    "Weight": "2.92",
                                    "EstimatedShippingWeight": "10"
                                },
                                {
                                    "Name": "LL Mountain Frame - Silver, 44",
                                    "Weight": "2.96",
                                    "EstimatedShippingWeight": "10"
                                },
                                {
                                    "Name": "LL Mountain Frame - Silver, 48",
                                    "Weight": "3.00",
                                    "EstimatedShippingWeight": "10"
                                },
                                {
                                    "Name": "LL Mountain Frame - Silver, 52",
                                    "Weight": "3.04",
                                    "EstimatedShippingWeight": "10"
                                },
                                {
                                    "Name": "LL Mountain Frame - Black, 42",
                                    "Weight": "2.92",
                                    "EstimatedShippingWeight": "10"
                                },
                                {
                                    "Name": "LL Mountain Frame - Black, 44",
                                    "Weight": "2.96",
                                    "EstimatedShippingWeight": "10"
                                },
                                {
                                    "Name": "LL Mountain Frame - Black, 48",
                                    "Weight": "3.00",
                                    "EstimatedShippingWeight": "10"
                                },
                                {
                                    "Name": "LL Mountain Frame - Black, 52",
                                    "Weight": "3.04",
                                    "EstimatedShippingWeight": "10"
                                },
                                {
                                    "Name": "LL Touring Frame - Blue, 50",
                                    "Weight": "3.10",
                                    "EstimatedShippingWeight": "10"
                                },
                                {
                                    "Name": "LL Touring Frame - Blue, 54",
                                    "Weight": "3.14",
                                    "EstimatedShippingWeight": "10"
                                },
                                {
                                    "Name": "LL Touring Frame - Blue, 58",
                                    "Weight": "3.16",
                                    "EstimatedShippingWeight": "10"
                                },
                                {
                                    "Name": "LL Touring Frame - Blue, 62",
                                    "Weight": "3.20",
                                    "EstimatedShippingWeight": "10"
                                },
                                {
                                    "Name": "LL Touring Frame - Yellow, 44",
                                    "Weight": "3.02",
                                    "EstimatedShippingWeight": "10"
                                },
                                {
                                    "Name": "LL Touring Frame - Yellow, 50",
                                    "Weight": "3.10",
                                    "EstimatedShippingWeight": "10"
                                },
                                {
                                    "Name": "LL Touring Frame - Yellow, 54",
                                    "Weight": "3.14",
                                    "EstimatedShippingWeight": "10"
                                },
                                {
                                    "Name": "LL Touring Frame - Yellow, 58",
                                    "Weight": "3.16",
                                    "EstimatedShippingWeight": "10"
                                },
                                {
                                    "Name": "LL Touring Frame - Blue, 44",
                                    "Weight": "3.02",
                                    "EstimatedShippingWeight": "10"
                                },
                                {
                                    "Name": "ML Mountain Frame-W - Silver, 40",
                                    "Weight": "2.77",
                                    "EstimatedShippingWeight": "10"
                                },
                                {
                                    "Name": "ML Mountain Frame-W - Silver, 42",
                                    "Weight": "2.81",
                                    "EstimatedShippingWeight": "10"
                                },
                                {
                                    "Name": "ML Mountain Frame-W - Silver, 46",
                                    "Weight": "2.85",
                                    "EstimatedShippingWeight": "10"
                                },
                                {
                                    "Name": "ML Road Frame-W - Yellow, 38",
                                    "Weight": "2.18",
                                    "EstimatedShippingWeight": "10"
                                },
                                {
                                    "Name": "ML Mountain Frame - Black, 38",
                                    "Weight": "2.73",
                                    "EstimatedShippingWeight": "10"
                                },
                                {
                                    "Name": "HL Road Frame - Black, 58",
                                    "Weight": "2.24",
                                    "EstimatedShippingWeight": "10"
                                },
                                {
                                    "Name": "HL Road Frame - Red, 58",
                                    "Weight": "2.24",
                                    "EstimatedShippingWeight": "10"
                                },
                                {
                                    "Name": "HL Road Frame - Red, 62",
                                    "Weight": "2.30",
                                    "EstimatedShippingWeight": "10"
                                },
                                {
                                    "Name": "HL Road Frame - Red, 44",
                                    "Weight": "2.12",
                                    "EstimatedShippingWeight": "10"
                                },
                                {
                                    "Name": "HL Road Frame - Red, 48",
                                    "Weight": "2.16",
                                    "EstimatedShippingWeight": "10"
                                },
                                {
                                    "Name": "HL Road Frame - Red, 52",
                                    "Weight": "2.20",
                                    "EstimatedShippingWeight": "10"
                                },
                                {
                                    "Name": "HL Road Frame - Red, 56",
                                    "Weight": "2.24",
                                    "EstimatedShippingWeight": "10"
                                },
                                {
                                    "Name": "LL Road Frame - Black, 58",
                                    "Weight": "2.46",
                                    "EstimatedShippingWeight": "10"
                                },
                                {
                                    "Name": "LL Road Frame - Black, 60",
                                    "Weight": "2.48",
                                    "EstimatedShippingWeight": "10"
                                },
                                {
                                    "Name": "LL Road Frame - Black, 62",
                                    "Weight": "2.50",
                                    "EstimatedShippingWeight": "10"
                                },
                                {
                                    "Name": "LL Road Frame - Red, 44",
                                    "Weight": "2.32",
                                    "EstimatedShippingWeight": "10"
                                },
                                {
                                    "Name": "LL Road Frame - Red, 48",
                                    "Weight": "2.36",
                                    "EstimatedShippingWeight": "10"
                                },
                                {
                                    "Name": "LL Road Frame - Red, 52",
                                    "Weight": "2.40",
                                    "EstimatedShippingWeight": "10"
                                },
                                {
                                    "Name": "LL Road Frame - Red, 58",
                                    "Weight": "2.46",
                                    "EstimatedShippingWeight": "10"
                                },
                                {
                                    "Name": "LL Road Frame - Red, 60",
                                    "Weight": "2.48",
                                    "EstimatedShippingWeight": "10"
                                },
                                {
                                    "Name": "LL Road Frame - Red, 62",
                                    "Weight": "2.50",
                                    "EstimatedShippingWeight": "10"
                                },
                                {
                                    "Name": "ML Road Frame - Red, 44",
                                    "Weight": "2.22",
                                    "EstimatedShippingWeight": "10"
                                },
                                {
                                    "Name": "ML Road Frame - Red, 48",
                                    "Weight": "2.26",
                                    "EstimatedShippingWeight": "10"
                                },
                                {
                                    "Name": "ML Road Frame - Red, 52",
                                    "Weight": "2.30",
                                    "EstimatedShippingWeight": "10"
                                },
                                {
                                    "Name": "ML Road Frame - Red, 58",
                                    "Weight": "2.36",
                                    "EstimatedShippingWeight": "10"
                                },
                                {
                                    "Name": "ML Road Frame - Red, 60",
                                    "Weight": "2.38",
                                    "EstimatedShippingWeight": "10"
                                },
                                {
                                    "Name": "LL Road Frame - Black, 44",
                                    "Weight": "2.32",
                                    "EstimatedShippingWeight": "10"
                                },
                                {
                                    "Name": "LL Road Frame - Black, 48",
                                    "Weight": "2.36",
                                    "EstimatedShippingWeight": "10"
                                },
                                {
                                    "Name": "LL Road Frame - Black, 52",
                                    "Weight": "2.40",
                                    "EstimatedShippingWeight": "10"
                                },
                                {
                                    "Name": "HL Mountain Frame - Silver, 42",
                                    "Weight": "2.72",
                                    "EstimatedShippingWeight": "10"
                                },
                                {
                                    "Name": "HL Mountain Frame - Silver, 44",
                                    "Weight": "2.76",
                                    "EstimatedShippingWeight": "10"
                                },
                                {
                                    "Name": "HL Mountain Frame - Silver, 48",
                                    "Weight": "2.80",
                                    "EstimatedShippingWeight": "10"
                                },
                                {
                                    "Name": "HL Mountain Frame - Silver, 46",
                                    "Weight": "2.84",
                                    "EstimatedShippingWeight": "10"
                                },
                                {
                                    "Name": "HL Mountain Frame - Black, 42",
                                    "Weight": "2.72",
                                    "EstimatedShippingWeight": "10"
                                },
                                {
                                    "Name": "HL Mountain Frame - Black, 44",
                                    "Weight": "2.76",
                                    "EstimatedShippingWeight": "10"
                                },
                                {
                                    "Name": "HL Mountain Frame - Black, 48",
                                    "Weight": "2.80",
                                    "EstimatedShippingWeight": "10"
                                },
                                {
                                    "Name": "HL Mountain Frame - Black, 46",
                                    "Weight": "2.84",
                                    "EstimatedShippingWeight": "10"
                                },
                                {
                                    "Name": "HL Mountain Frame - Black, 38",
                                    "Weight": "2.68",
                                    "EstimatedShippingWeight": "10"
                                },
                                {
                                    "Name": "HL Mountain Frame - Silver, 38",
                                    "Weight": "2.68",
                                    "EstimatedShippingWeight": "10"
                                }
                            ]
                        },
                        "text/html": [
                            "<table>",
                            "<tr><th>Name</th><th>Weight</th><th>EstimatedShippingWeight</th></tr>",
                            "<tr><td>LL Road Rear Wheel</td><td>1050.00</td><td>1050</td></tr>",
                            "<tr><td>ML Road Rear Wheel</td><td>1000.00</td><td>1000</td></tr>",
                            "<tr><td>LL Road Front Wheel</td><td>900.00</td><td>900</td></tr>",
                            "<tr><td>HL Road Rear Wheel</td><td>890.00</td><td>890</td></tr>",
                            "<tr><td>ML Road Front Wheel</td><td>850.00</td><td>850</td></tr>",
                            "<tr><td>HL Road Front Wheel</td><td>650.00</td><td>650</td></tr>",
                            "<tr><td>ML Crankset</td><td>635.00</td><td>640</td></tr>",
                            "<tr><td>LL Crankset</td><td>600.00</td><td>600</td></tr>",
                            "<tr><td>HL Crankset</td><td>575.00</td><td>580</td></tr>",
                            "<tr><td>Touring Rim</td><td>460.00</td><td>460</td></tr>",
                            "<tr><td>ML Mountain Rim</td><td>450.00</td><td>450</td></tr>",
                            "<tr><td>LL Road Rim</td><td>445.00</td><td>450</td></tr>",
                            "<tr><td>ML Road Rim</td><td>450.00</td><td>450</td></tr>",
                            "<tr><td>LL Mountain Rim</td><td>435.00</td><td>440</td></tr>",
                            "<tr><td>HL Road Rim</td><td>400.00</td><td>400</td></tr>",
                            "<tr><td>HL Mountain Rim</td><td>400.00</td><td>400</td></tr>",
                            "<tr><td>Rear Brakes</td><td>317.00</td><td>320</td></tr>",
                            "<tr><td>Front Brakes</td><td>317.00</td><td>320</td></tr>",
                            "<tr><td>LL Bottom Bracket</td><td>223.00</td><td>230</td></tr>",
                            "<tr><td>LL Mountain Pedal</td><td>218.00</td><td>220</td></tr>",
                            "<tr><td>ML Mountain Pedal</td><td>215.00</td><td>220</td></tr>",
                            "<tr><td>Rear Derailleur</td><td>215.00</td><td>220</td></tr>",
                            "<tr><td>HL Mountain Pedal</td><td>185.00</td><td>190</td></tr>",
                            "<tr><td>LL Road Pedal</td><td>189.00</td><td>190</td></tr>",
                            "<tr><td>ML Road Pedal</td><td>168.00</td><td>170</td></tr>",
                            "<tr><td>ML Bottom Bracket</td><td>168.00</td><td>170</td></tr>",
                            "<tr><td>HL Bottom Bracket</td><td>170.00</td><td>170</td></tr>",
                            "<tr><td>HL Road Pedal</td><td>149.00</td><td>150</td></tr>",
                            "<tr><td>Front Derailleur</td><td>88.00</td><td>90</td></tr>",
                            "<tr><td>Road-750 Black, 48</td><td>20.13</td><td>30</td></tr>",
                            "<tr><td>Road-750 Black, 52</td><td>20.42</td><td>30</td></tr>",
                            "<tr><td>Touring-2000 Blue, 60</td><td>27.90</td><td>30</td></tr>",
                            "<tr><td>Touring-1000 Yellow, 46</td><td>25.13</td><td>30</td></tr>",
                            "<tr><td>Touring-1000 Yellow, 50</td><td>25.42</td><td>30</td></tr>",
                            "<tr><td>Touring-1000 Yellow, 54</td><td>25.68</td><td>30</td></tr>",
                            "<tr><td>Touring-1000 Yellow, 60</td><td>25.90</td><td>30</td></tr>",
                            "<tr><td>Touring-3000 Blue, 54</td><td>29.68</td><td>30</td></tr>",
                            "<tr><td>Touring-3000 Blue, 58</td><td>29.90</td><td>30</td></tr>",
                            "<tr><td>Touring-3000 Blue, 62</td><td>30.00</td><td>30</td></tr>",
                            "<tr><td>Touring-3000 Yellow, 44</td><td>28.77</td><td>30</td></tr>",
                            "<tr><td>Touring-3000 Yellow, 50</td><td>29.13</td><td>30</td></tr>",
                            "<tr><td>Touring-3000 Yellow, 54</td><td>29.42</td><td>30</td></tr>",
                            "<tr><td>Touring-3000 Yellow, 58</td><td>29.79</td><td>30</td></tr>",
                            "<tr><td>Touring-3000 Yellow, 62</td><td>30.00</td><td>30</td></tr>",
                            "<tr><td>Touring-1000 Blue, 46</td><td>25.13</td><td>30</td></tr>",
                            "<tr><td>Touring-1000 Blue, 50</td><td>25.42</td><td>30</td></tr>",
                            "<tr><td>Touring-1000 Blue, 54</td><td>25.68</td><td>30</td></tr>",
                            "<tr><td>Touring-1000 Blue, 60</td><td>25.90</td><td>30</td></tr>",
                            "<tr><td>Touring-2000 Blue, 46</td><td>27.13</td><td>30</td></tr>",
                            "<tr><td>Touring-2000 Blue, 50</td><td>27.42</td><td>30</td></tr>",
                            "<tr><td>Touring-2000 Blue, 54</td><td>27.68</td><td>30</td></tr>",
                            "<tr><td>Road-750 Black, 58</td><td>20.79</td><td>30</td></tr>",
                            "<tr><td>Touring-3000 Blue, 44</td><td>28.77</td><td>30</td></tr>",
                            "<tr><td>Touring-3000 Blue, 50</td><td>29.13</td><td>30</td></tr>",
                            "<tr><td>Mountain-400-W Silver, 38</td><td>26.35</td><td>30</td></tr>",
                            "<tr><td>Mountain-400-W Silver, 40</td><td>26.77</td><td>30</td></tr>",
                            "<tr><td>Mountain-400-W Silver, 42</td><td>27.13</td><td>30</td></tr>",
                            "<tr><td>Mountain-400-W Silver, 46</td><td>27.42</td><td>30</td></tr>",
                            "<tr><td>Mountain-500 Silver, 40</td><td>27.35</td><td>30</td></tr>",
                            "<tr><td>Mountain-500 Silver, 42</td><td>27.77</td><td>30</td></tr>",
                            "<tr><td>Mountain-500 Silver, 44</td><td>28.13</td><td>30</td></tr>",
                            "<tr><td>Mountain-500 Silver, 48</td><td>28.42</td><td>30</td></tr>",
                            "<tr><td>Mountain-500 Silver, 52</td><td>28.68</td><td>30</td></tr>",
                            "<tr><td>Mountain-500 Black, 40</td><td>27.35</td><td>30</td></tr>",
                            "<tr><td>Mountain-500 Black, 42</td><td>27.77</td><td>30</td></tr>",
                            "<tr><td>Mountain-500 Black, 44</td><td>28.13</td><td>30</td></tr>",
                            "<tr><td>Mountain-500 Black, 48</td><td>28.42</td><td>30</td></tr>",
                            "<tr><td>Mountain-500 Black, 52</td><td>28.68</td><td>30</td></tr>",
                            "<tr><td>Mountain-100 Silver, 38</td><td>20.35</td><td>30</td></tr>",
                            "<tr><td>Mountain-100 Silver, 42</td><td>20.77</td><td>30</td></tr>",
                            "<tr><td>Mountain-100 Silver, 44</td><td>21.13</td><td>30</td></tr>",
                            "<tr><td>Mountain-100 Silver, 48</td><td>21.42</td><td>30</td></tr>",
                            "<tr><td>Mountain-100 Black, 38</td><td>20.35</td><td>30</td></tr>",
                            "<tr><td>Mountain-100 Black, 42</td><td>20.77</td><td>30</td></tr>",
                            "<tr><td>Mountain-100 Black, 44</td><td>21.13</td><td>30</td></tr>",
                            "<tr><td>Mountain-100 Black, 48</td><td>21.42</td><td>30</td></tr>",
                            "<tr><td>Mountain-200 Silver, 38</td><td>23.35</td><td>30</td></tr>",
                            "<tr><td>Mountain-200 Silver, 42</td><td>23.77</td><td>30</td></tr>",
                            "<tr><td>Mountain-200 Silver, 46</td><td>24.13</td><td>30</td></tr>",
                            "<tr><td>Mountain-200 Black, 38</td><td>23.35</td><td>30</td></tr>",
                            "<tr><td>Mountain-200 Black, 42</td><td>23.77</td><td>30</td></tr>",
                            "<tr><td>Mountain-200 Black, 46</td><td>24.13</td><td>30</td></tr>",
                            "<tr><td>Mountain-300 Black, 38</td><td>25.35</td><td>30</td></tr>",
                            "<tr><td>Mountain-300 Black, 40</td><td>25.77</td><td>30</td></tr>",
                            "<tr><td>Mountain-300 Black, 44</td><td>26.13</td><td>30</td></tr>",
                            "<tr><td>Mountain-300 Black, 48</td><td>26.42</td><td>30</td></tr>",
                            "<tr><td>Road-250 Red, 44</td><td>14.77</td><td>20</td></tr>",
                            "<tr><td>Road-250 Red, 48</td><td>15.13</td><td>20</td></tr>",
                            "<tr><td>Road-250 Red, 52</td><td>15.42</td><td>20</td></tr>",
                            "<tr><td>Road-250 Red, 58</td><td>15.79</td><td>20</td></tr>",
                            "<tr><td>Road-250 Black, 44</td><td>14.77</td><td>20</td></tr>",
                            "<tr><td>Road-250 Black, 48</td><td>15.13</td><td>20</td></tr>",
                            "<tr><td>Road-250 Black, 52</td><td>15.42</td><td>20</td></tr>",
                            "<tr><td>Road-250 Black, 58</td><td>15.68</td><td>20</td></tr>",
                            "<tr><td>Road-550-W Yellow, 38</td><td>17.35</td><td>20</td></tr>",
                            "<tr><td>Road-550-W Yellow, 40</td><td>17.77</td><td>20</td></tr>",
                            "<tr><td>Road-550-W Yellow, 42</td><td>18.13</td><td>20</td></tr>",
                            "<tr><td>Road-550-W Yellow, 44</td><td>18.42</td><td>20</td></tr>",
                            "<tr><td>Road-550-W Yellow, 48</td><td>18.68</td><td>20</td></tr>",
                            "<tr><td>Road-150 Red, 62</td><td>15.00</td><td>20</td></tr>",
                            "<tr><td>Road-150 Red, 44</td><td>13.77</td><td>20</td></tr>",
                            "<tr><td>Road-150 Red, 48</td><td>14.13</td><td>20</td></tr>",
                            "<tr><td>Road-150 Red, 52</td><td>14.42</td><td>20</td></tr>",
                            "<tr><td>Road-150 Red, 56</td><td>14.68</td><td>20</td></tr>",
                            "<tr><td>Road-450 Red, 58</td><td>17.79</td><td>20</td></tr>",
                            "<tr><td>Road-450 Red, 60</td><td>17.90</td><td>20</td></tr>",
                            "<tr><td>Road-450 Red, 44</td><td>16.77</td><td>20</td></tr>",
                            "<tr><td>Road-450 Red, 48</td><td>17.13</td><td>20</td></tr>",
                            "<tr><td>Road-450 Red, 52</td><td>17.42</td><td>20</td></tr>",
                            "<tr><td>Road-650 Red, 58</td><td>19.79</td><td>20</td></tr>",
                            "<tr><td>Road-650 Red, 60</td><td>19.90</td><td>20</td></tr>",
                            "<tr><td>Road-650 Red, 62</td><td>20.00</td><td>20</td></tr>",
                            "<tr><td>Road-650 Red, 44</td><td>18.77</td><td>20</td></tr>",
                            "<tr><td>Road-650 Red, 48</td><td>19.13</td><td>20</td></tr>",
                            "<tr><td>Road-650 Red, 52</td><td>19.42</td><td>20</td></tr>",
                            "<tr><td>Road-650 Black, 58</td><td>19.79</td><td>20</td></tr>",
                            "<tr><td>Road-650 Black, 60</td><td>19.90</td><td>20</td></tr>",
                            "<tr><td>Road-650 Black, 62</td><td>20.00</td><td>20</td></tr>",
                            "<tr><td>Road-650 Black, 44</td><td>18.77</td><td>20</td></tr>",
                            "<tr><td>Road-650 Black, 48</td><td>19.13</td><td>20</td></tr>",
                            "<tr><td>Road-650 Black, 52</td><td>19.42</td><td>20</td></tr>",
                            "<tr><td>Road-350-W Yellow, 40</td><td>15.35</td><td>20</td></tr>",
                            "<tr><td>Road-350-W Yellow, 42</td><td>15.77</td><td>20</td></tr>",
                            "<tr><td>Road-350-W Yellow, 44</td><td>16.13</td><td>20</td></tr>",
                            "<tr><td>Road-350-W Yellow, 48</td><td>16.42</td><td>20</td></tr>",
                            "<tr><td>Road-750 Black, 44</td><td>19.77</td><td>20</td></tr>",
                            "<tr><td>ML Mountain Frame - Black, 40</td><td>2.77</td><td>10</td></tr>",
                            "<tr><td>ML Mountain Frame - Black, 44</td><td>2.81</td><td>10</td></tr>",
                            "<tr><td>ML Mountain Frame - Black, 48</td><td>2.85</td><td>10</td></tr>",
                            "<tr><td>ML Road Frame-W - Yellow, 40</td><td>2.22</td><td>10</td></tr>",
                            "<tr><td>ML Road Frame-W - Yellow, 42</td><td>2.26</td><td>10</td></tr>",
                            "<tr><td>ML Road Frame-W - Yellow, 44</td><td>2.30</td><td>10</td></tr>",
                            "<tr><td>ML Road Frame-W - Yellow, 48</td><td>2.34</td><td>10</td></tr>",
                            "<tr><td>HL Road Frame - Black, 62</td><td>2.30</td><td>10</td></tr>",
                            "<tr><td>HL Road Frame - Black, 44</td><td>2.12</td><td>10</td></tr>",
                            "<tr><td>HL Road Frame - Black, 48</td><td>2.16</td><td>10</td></tr>",
                            "<tr><td>HL Road Frame - Black, 52</td><td>2.20</td><td>10</td></tr>",
                            "<tr><td>HL Touring Frame - Yellow, 60</td><td>3.08</td><td>10</td></tr>",
                            "<tr><td>LL Touring Frame - Yellow, 62</td><td>3.20</td><td>10</td></tr>",
                            "<tr><td>HL Touring Frame - Yellow, 46</td><td>2.96</td><td>10</td></tr>",
                            "<tr><td>HL Touring Frame - Yellow, 50</td><td>3.00</td><td>10</td></tr>",
                            "<tr><td>HL Touring Frame - Yellow, 54</td><td>3.04</td><td>10</td></tr>",
                            "<tr><td>HL Touring Frame - Blue, 46</td><td>2.96</td><td>10</td></tr>",
                            "<tr><td>HL Touring Frame - Blue, 50</td><td>3.00</td><td>10</td></tr>",
                            "<tr><td>HL Touring Frame - Blue, 54</td><td>3.04</td><td>10</td></tr>",
                            "<tr><td>HL Touring Frame - Blue, 60</td><td>3.08</td><td>10</td></tr>",
                            "<tr><td>ML Mountain Frame-W - Silver, 38</td><td>2.73</td><td>10</td></tr>",
                            "<tr><td>LL Mountain Frame - Black, 40</td><td>2.88</td><td>10</td></tr>",
                            "<tr><td>LL Mountain Frame - Silver, 40</td><td>2.88</td><td>10</td></tr>",
                            "<tr><td>LL Mountain Frame - Silver, 42</td><td>2.92</td><td>10</td></tr>",
                            "<tr><td>LL Mountain Frame - Silver, 44</td><td>2.96</td><td>10</td></tr>",
                            "<tr><td>LL Mountain Frame - Silver, 48</td><td>3.00</td><td>10</td></tr>",
                            "<tr><td>LL Mountain Frame - Silver, 52</td><td>3.04</td><td>10</td></tr>",
                            "<tr><td>LL Mountain Frame - Black, 42</td><td>2.92</td><td>10</td></tr>",
                            "<tr><td>LL Mountain Frame - Black, 44</td><td>2.96</td><td>10</td></tr>",
                            "<tr><td>LL Mountain Frame - Black, 48</td><td>3.00</td><td>10</td></tr>",
                            "<tr><td>LL Mountain Frame - Black, 52</td><td>3.04</td><td>10</td></tr>",
                            "<tr><td>LL Touring Frame - Blue, 50</td><td>3.10</td><td>10</td></tr>",
                            "<tr><td>LL Touring Frame - Blue, 54</td><td>3.14</td><td>10</td></tr>",
                            "<tr><td>LL Touring Frame - Blue, 58</td><td>3.16</td><td>10</td></tr>",
                            "<tr><td>LL Touring Frame - Blue, 62</td><td>3.20</td><td>10</td></tr>",
                            "<tr><td>LL Touring Frame - Yellow, 44</td><td>3.02</td><td>10</td></tr>",
                            "<tr><td>LL Touring Frame - Yellow, 50</td><td>3.10</td><td>10</td></tr>",
                            "<tr><td>LL Touring Frame - Yellow, 54</td><td>3.14</td><td>10</td></tr>",
                            "<tr><td>LL Touring Frame - Yellow, 58</td><td>3.16</td><td>10</td></tr>",
                            "<tr><td>LL Touring Frame - Blue, 44</td><td>3.02</td><td>10</td></tr>",
                            "<tr><td>ML Mountain Frame-W - Silver, 40</td><td>2.77</td><td>10</td></tr>",
                            "<tr><td>ML Mountain Frame-W - Silver, 42</td><td>2.81</td><td>10</td></tr>",
                            "<tr><td>ML Mountain Frame-W - Silver, 46</td><td>2.85</td><td>10</td></tr>",
                            "<tr><td>ML Road Frame-W - Yellow, 38</td><td>2.18</td><td>10</td></tr>",
                            "<tr><td>ML Mountain Frame - Black, 38</td><td>2.73</td><td>10</td></tr>",
                            "<tr><td>HL Road Frame - Black, 58</td><td>2.24</td><td>10</td></tr>",
                            "<tr><td>HL Road Frame - Red, 58</td><td>2.24</td><td>10</td></tr>",
                            "<tr><td>HL Road Frame - Red, 62</td><td>2.30</td><td>10</td></tr>",
                            "<tr><td>HL Road Frame - Red, 44</td><td>2.12</td><td>10</td></tr>",
                            "<tr><td>HL Road Frame - Red, 48</td><td>2.16</td><td>10</td></tr>",
                            "<tr><td>HL Road Frame - Red, 52</td><td>2.20</td><td>10</td></tr>",
                            "<tr><td>HL Road Frame - Red, 56</td><td>2.24</td><td>10</td></tr>",
                            "<tr><td>LL Road Frame - Black, 58</td><td>2.46</td><td>10</td></tr>",
                            "<tr><td>LL Road Frame - Black, 60</td><td>2.48</td><td>10</td></tr>",
                            "<tr><td>LL Road Frame - Black, 62</td><td>2.50</td><td>10</td></tr>",
                            "<tr><td>LL Road Frame - Red, 44</td><td>2.32</td><td>10</td></tr>",
                            "<tr><td>LL Road Frame - Red, 48</td><td>2.36</td><td>10</td></tr>",
                            "<tr><td>LL Road Frame - Red, 52</td><td>2.40</td><td>10</td></tr>",
                            "<tr><td>LL Road Frame - Red, 58</td><td>2.46</td><td>10</td></tr>",
                            "<tr><td>LL Road Frame - Red, 60</td><td>2.48</td><td>10</td></tr>",
                            "<tr><td>LL Road Frame - Red, 62</td><td>2.50</td><td>10</td></tr>",
                            "<tr><td>ML Road Frame - Red, 44</td><td>2.22</td><td>10</td></tr>",
                            "<tr><td>ML Road Frame - Red, 48</td><td>2.26</td><td>10</td></tr>",
                            "<tr><td>ML Road Frame - Red, 52</td><td>2.30</td><td>10</td></tr>",
                            "<tr><td>ML Road Frame - Red, 58</td><td>2.36</td><td>10</td></tr>",
                            "<tr><td>ML Road Frame - Red, 60</td><td>2.38</td><td>10</td></tr>",
                            "<tr><td>LL Road Frame - Black, 44</td><td>2.32</td><td>10</td></tr>",
                            "<tr><td>LL Road Frame - Black, 48</td><td>2.36</td><td>10</td></tr>",
                            "<tr><td>LL Road Frame - Black, 52</td><td>2.40</td><td>10</td></tr>",
                            "<tr><td>HL Mountain Frame - Silver, 42</td><td>2.72</td><td>10</td></tr>",
                            "<tr><td>HL Mountain Frame - Silver, 44</td><td>2.76</td><td>10</td></tr>",
                            "<tr><td>HL Mountain Frame - Silver, 48</td><td>2.80</td><td>10</td></tr>",
                            "<tr><td>HL Mountain Frame - Silver, 46</td><td>2.84</td><td>10</td></tr>",
                            "<tr><td>HL Mountain Frame - Black, 42</td><td>2.72</td><td>10</td></tr>",
                            "<tr><td>HL Mountain Frame - Black, 44</td><td>2.76</td><td>10</td></tr>",
                            "<tr><td>HL Mountain Frame - Black, 48</td><td>2.80</td><td>10</td></tr>",
                            "<tr><td>HL Mountain Frame - Black, 46</td><td>2.84</td><td>10</td></tr>",
                            "<tr><td>HL Mountain Frame - Black, 38</td><td>2.68</td><td>10</td></tr>",
                            "<tr><td>HL Mountain Frame - Silver, 38</td><td>2.68</td><td>10</td></tr>",
                            "</table>"
                        ]
                    }
                }
            ],
            "execution_count": 6
        },
        {
            "cell_type": "markdown",
            "source": [
                "## **Question 8. (answer)**\r\n",
                "## <u>- Which product weighs the most?</u>\r\n",
                "## The LL Road Rear Wheel is the product with the most wieght with 1050"
            ],
            "metadata": {
                "azdata_cell_guid": "c266cb18-40bf-4ad8-b95a-f8b0dedc4dd4"
            },
            "attachments": {}
        },
        {
            "cell_type": "markdown",
            "source": [
                "# 11.11 Treat NULLS as Zeros (if you are sure you want to!)\n",
                "## **Question 9. (screenshot: queries and results)**\n",
                "## SELECT SpecialOfferID, MaxQty, COALESCE(MaxQty, 0) AS MaxQtyAlt FROM Sales.SpecialOffer\n",
                ""
            ],
            "metadata": {
                "azdata_cell_guid": "1917feb6-af0f-4b6c-9a5b-a1f004271083"
            },
            "attachments": {}
        },
        {
            "cell_type": "code",
            "source": [
                "SELECT SpecialOfferID, MaxQty, COALESCE(MaxQty, 0) AS MaxQtyAlt \r\n",
                "FROM AdventureWorks2022.Sales.SpecialOffer"
            ],
            "metadata": {
                "azdata_cell_guid": "d65842c8-e664-4497-a625-89ae9f76b4b0",
                "language": "sql"
            },
            "outputs": [
                {
                    "output_type": "display_data",
                    "data": {
                        "text/html": "(16 rows affected)"
                    },
                    "metadata": {}
                },
                {
                    "output_type": "display_data",
                    "data": {
                        "text/html": "Total execution time: 00:00:00.013"
                    },
                    "metadata": {}
                },
                {
                    "output_type": "execute_result",
                    "metadata": {},
                    "execution_count": 7,
                    "data": {
                        "application/vnd.dataresource+json": {
                            "schema": {
                                "fields": [
                                    {
                                        "name": "SpecialOfferID"
                                    },
                                    {
                                        "name": "MaxQty"
                                    },
                                    {
                                        "name": "MaxQtyAlt"
                                    }
                                ]
                            },
                            "data": [
                                {
                                    "SpecialOfferID": "1",
                                    "MaxQty": "NULL",
                                    "MaxQtyAlt": "0"
                                },
                                {
                                    "SpecialOfferID": "2",
                                    "MaxQty": "14",
                                    "MaxQtyAlt": "14"
                                },
                                {
                                    "SpecialOfferID": "3",
                                    "MaxQty": "24",
                                    "MaxQtyAlt": "24"
                                },
                                {
                                    "SpecialOfferID": "4",
                                    "MaxQty": "40",
                                    "MaxQtyAlt": "40"
                                },
                                {
                                    "SpecialOfferID": "5",
                                    "MaxQty": "60",
                                    "MaxQtyAlt": "60"
                                },
                                {
                                    "SpecialOfferID": "6",
                                    "MaxQty": "NULL",
                                    "MaxQtyAlt": "0"
                                },
                                {
                                    "SpecialOfferID": "7",
                                    "MaxQty": "NULL",
                                    "MaxQtyAlt": "0"
                                },
                                {
                                    "SpecialOfferID": "8",
                                    "MaxQty": "NULL",
                                    "MaxQtyAlt": "0"
                                },
                                {
                                    "SpecialOfferID": "9",
                                    "MaxQty": "NULL",
                                    "MaxQtyAlt": "0"
                                },
                                {
                                    "SpecialOfferID": "10",
                                    "MaxQty": "NULL",
                                    "MaxQtyAlt": "0"
                                },
                                {
                                    "SpecialOfferID": "11",
                                    "MaxQty": "NULL",
                                    "MaxQtyAlt": "0"
                                },
                                {
                                    "SpecialOfferID": "12",
                                    "MaxQty": "NULL",
                                    "MaxQtyAlt": "0"
                                },
                                {
                                    "SpecialOfferID": "13",
                                    "MaxQty": "NULL",
                                    "MaxQtyAlt": "0"
                                },
                                {
                                    "SpecialOfferID": "14",
                                    "MaxQty": "NULL",
                                    "MaxQtyAlt": "0"
                                },
                                {
                                    "SpecialOfferID": "15",
                                    "MaxQty": "NULL",
                                    "MaxQtyAlt": "0"
                                },
                                {
                                    "SpecialOfferID": "16",
                                    "MaxQty": "NULL",
                                    "MaxQtyAlt": "0"
                                }
                            ]
                        },
                        "text/html": [
                            "<table>",
                            "<tr><th>SpecialOfferID</th><th>MaxQty</th><th>MaxQtyAlt</th></tr>",
                            "<tr><td>1</td><td>NULL</td><td>0</td></tr>",
                            "<tr><td>2</td><td>14</td><td>14</td></tr>",
                            "<tr><td>3</td><td>24</td><td>24</td></tr>",
                            "<tr><td>4</td><td>40</td><td>40</td></tr>",
                            "<tr><td>5</td><td>60</td><td>60</td></tr>",
                            "<tr><td>6</td><td>NULL</td><td>0</td></tr>",
                            "<tr><td>7</td><td>NULL</td><td>0</td></tr>",
                            "<tr><td>8</td><td>NULL</td><td>0</td></tr>",
                            "<tr><td>9</td><td>NULL</td><td>0</td></tr>",
                            "<tr><td>10</td><td>NULL</td><td>0</td></tr>",
                            "<tr><td>11</td><td>NULL</td><td>0</td></tr>",
                            "<tr><td>12</td><td>NULL</td><td>0</td></tr>",
                            "<tr><td>13</td><td>NULL</td><td>0</td></tr>",
                            "<tr><td>14</td><td>NULL</td><td>0</td></tr>",
                            "<tr><td>15</td><td>NULL</td><td>0</td></tr>",
                            "<tr><td>16</td><td>NULL</td><td>0</td></tr>",
                            "</table>"
                        ]
                    }
                }
            ],
            "execution_count": 7
        },
        {
            "cell_type": "markdown",
            "source": [
                "## **Question 10. (explanation)**\r\n",
                "## <u>What are some reasons that we should be careful about converting NULL values to ZEROs?</u>\r\n",
                "## Converting NULLs to zeros might mess with data integrity, especially if those NULLs were meant to show something specific (like \"no data\" instead of \"zero\"). Treating missing data as zeros could skew analysis or reports, giving a misleading picture of the situation."
            ],
            "metadata": {
                "azdata_cell_guid": "1f937e91-85ed-42e5-b5fe-4cc9e935ed75"
            },
            "attachments": {}
        }
    ]
}