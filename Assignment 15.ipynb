{
    "metadata": {
        "kernelspec": {
            "name": "SQL",
            "display_name": "SQL",
            "language": "sql"
        },
        "language_info": {
            "name": "sql",
            "version": ""
        }
    },
    "nbformat_minor": 2,
    "nbformat": 4,
    "cells": [
        {
            "cell_type": "markdown",
            "source": [
                "# CHAPTER 11\n",
                "# 11.5 Writing Mathematical Expressions\n",
                "## **Question 1. (screenshot: queries and results)**\n",
                "## Use Production.Product table. We want to get the name, StandardCost and ListPrice for all products that have the word “Touring” and Cost more than “zero”. We want to have a promotional sale for the “Touring” items. Use mathematical expressions on the existing columns to create a new column in the result for the sale price if we offer a 15% discount.\n",
                ""
            ],
            "metadata": {
                "azdata_cell_guid": "8420caff-3143-4368-95af-0048416ac128"
            },
            "attachments": {}
        },
        {
            "cell_type": "markdown",
            "source": [
                "## **Question 2. (answer)**\r\n",
                "## - How many Rows? "
            ],
            "metadata": {
                "azdata_cell_guid": "47b68284-b06f-44b7-b24b-2e3c2d9fbb21"
            },
            "attachments": {}
        },
        {
            "cell_type": "markdown",
            "source": [
                "# 11.7 Rounding\r\n",
                "## The ROUND function allows you to round a number value to a specific number of decimal places.\r\n",
                "## **Question 3. (screenshot: queries and results)**\r\n",
                "## We want to report large numbers as rounded to the nearest thousand. Using the Sales.SalesOrderHeader table, get the sales by year rounded to the nearest thousand and formatted as currency. Use the OrderDate field to get your year, and the Subtotal to get your sales. Group and Order by Year. (You should have 4 rows)"
            ],
            "metadata": {
                "azdata_cell_guid": "2556aa59-c743-43b3-a0ff-183272985824"
            },
            "attachments": {}
        },
        {
            "cell_type": "markdown",
            "source": [
                "## **Question 4. (answer)** \r\n",
                "## - What is the year with the highest sales value?"
            ],
            "metadata": {
                "azdata_cell_guid": "f6d37545-2921-4e18-8410-4ad49f2e35dd"
            },
            "attachments": {}
        },
        {
            "cell_type": "markdown",
            "source": [
                "## **Question 5. (screenshot: queries and results)**\r\n",
                "## We want to report large numbers as rounded to the nearest thousand. Using the Sales.SalesOrderHeader table, get the sales by month of the year with the highest sales value, rounded to the nearest thousand and formatted as currency. Use the OrderDate field to get your month, and the Subtotal to get your sales. "
            ],
            "metadata": {
                "azdata_cell_guid": "2da75706-f016-4ad0-85ed-859f3fdcd7b2"
            },
            "attachments": {}
        },
        {
            "cell_type": "markdown",
            "source": [
                "## **Question 6. (answer)** \r\n",
                "## - What is the month with the highest sales value?"
            ],
            "metadata": {
                "azdata_cell_guid": "d7a2e326-762e-41cc-a1ee-fb7b427e8e1e"
            },
            "attachments": {}
        },
        {
            "cell_type": "markdown",
            "source": [
                "# 11.8 Rounding Always UP or DOWN (Ceiling, Floor)\r\n",
                "## **Question 7. (screenshot: queries and results)**\r\n",
                "## The Production.Product table contains the weight of the products that are sold. We want to estimate the shipping weight of products by rounding up to the nearest 10. Get the name, weight and an EstimatedShippingWeight for all the products that have a weight that is not a null value.\r\n",
                ""
            ],
            "metadata": {
                "azdata_cell_guid": "3b19eb5c-44f2-4335-a00a-a7a77a85767e"
            },
            "attachments": {}
        },
        {
            "cell_type": "markdown",
            "source": [
                "## **Question 8. (answer)**\r\n",
                "## - Which product weighs the most?"
            ],
            "metadata": {
                "azdata_cell_guid": "c266cb18-40bf-4ad8-b95a-f8b0dedc4dd4"
            },
            "attachments": {}
        },
        {
            "cell_type": "markdown",
            "source": [
                "# 11.11 Treat NULLS as Zeros (if you are sure you want to!)\n",
                "## **Question 9. (screenshot: queries and results)**\n",
                "## SELECT SpecialOfferID, MaxQty, COALESCE(MaxQty, 0) AS MaxQtyAlt FROM Sales.SpecialOffer\n",
                ""
            ],
            "metadata": {
                "azdata_cell_guid": "1917feb6-af0f-4b6c-9a5b-a1f004271083"
            },
            "attachments": {}
        },
        {
            "cell_type": "markdown",
            "source": [
                "## **Question 10. (explanation)**\r\n",
                "## What are some reasons that we should be careful about converting NULL values to ZEROs?"
            ],
            "metadata": {
                "azdata_cell_guid": "1f937e91-85ed-42e5-b5fe-4cc9e935ed75"
            },
            "attachments": {}
        }
    ]
}